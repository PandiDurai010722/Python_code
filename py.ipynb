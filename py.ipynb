{
  "nbformat": 4,
  "nbformat_minor": 0,
  "metadata": {
    "colab": {
      "provenance": [],
      "authorship_tag": "ABX9TyOhvu4pxsPHG0XM4Y7AdnvI",
      "include_colab_link": true
    },
    "kernelspec": {
      "name": "python3",
      "display_name": "Python 3"
    },
    "language_info": {
      "name": "python"
    }
  },
  "cells": [
    {
      "cell_type": "markdown",
      "metadata": {
        "id": "view-in-github",
        "colab_type": "text"
      },
      "source": [
        "<a href=\"https://colab.research.google.com/github/PandiDurai010722/Python_code/blob/master/py.ipynb\" target=\"_parent\"><img src=\"https://colab.research.google.com/assets/colab-badge.svg\" alt=\"Open In Colab\"/></a>"
      ]
    },
    {
      "cell_type": "markdown",
      "source": [
        "Python Introduction\n",
        "\n",
        "What is Python?\n",
        "python is a popular programming language.It was created by Guido van Rossum,and released in 1991.\n",
        "\n",
        "It is used for:\n",
        "\n",
        "\n",
        "1.   Web development(server-side),\n",
        "2.   Software development,\n",
        "3.   Mathematics,\n",
        "4.   System scripting.\n",
        "\n",
        "What can Python do?\n",
        "\n",
        "\n",
        "*   Python works on different platforms (Window, Mac,Linux,Raspberry pi,etc)\n",
        "*   Python has a simple syntax similar to the English language.\n",
        "*   Python has syntax  that allows developers to write programs with fewer     lines than some other programming languges\n",
        "*   Python runs on an interpreter system,meaning that code can be executed as soon as it is written.This means that prototyping can be very quick.\n",
        "*   Python can be treated in a procedural way,an object-oriented way or a functional way\n"
      ],
      "metadata": {
        "id": "DqMQ_1Wc5E2W"
      }
    },
    {
      "cell_type": "code",
      "source": [
        "print(\"Hello,World\")"
      ],
      "metadata": {
        "colab": {
          "base_uri": "https://localhost:8080/"
        },
        "id": "ctEV4Xj58MtT",
        "outputId": "aeb8b7c1-579f-4879-b329-efdeee22512f"
      },
      "execution_count": null,
      "outputs": [
        {
          "output_type": "stream",
          "name": "stdout",
          "text": [
            "Hello,World\n"
          ]
        }
      ]
    },
    {
      "cell_type": "markdown",
      "source": [
        "Python Indentation\n",
        "\n",
        "Indentation refers to the spaces at the beginning of a code line.\n",
        "\n",
        "Where in other programming languages the indentation in code is for readability only, the indentation in Python is very important.\n",
        "\n",
        "Python uses indentation to indicate a block of code."
      ],
      "metadata": {
        "id": "fydlcap38YMo"
      }
    },
    {
      "cell_type": "code",
      "source": [
        "# Example\n",
        "if 5>2:\n",
        "  print(\"Five is greater than tow!\")"
      ],
      "metadata": {
        "colab": {
          "base_uri": "https://localhost:8080/"
        },
        "id": "lK9DHRiE9L-U",
        "outputId": "65232f91-6ee8-4a07-c6ba-1df3ac581326"
      },
      "execution_count": null,
      "outputs": [
        {
          "output_type": "stream",
          "name": "stdout",
          "text": [
            "Five is greater than tow!\n"
          ]
        }
      ]
    },
    {
      "cell_type": "code",
      "source": [
        "# Example\n",
        "# Syntax Error:\n",
        "if 5> 2:\n",
        "print(\"Five is greater than two+\")"
      ],
      "metadata": {
        "colab": {
          "base_uri": "https://localhost:8080/",
          "height": 142
        },
        "id": "v1AcdL3j9cxq",
        "outputId": "a53629d2-a777-4470-e371-3fae8881e884"
      },
      "execution_count": null,
      "outputs": [
        {
          "output_type": "error",
          "ename": "IndentationError",
          "evalue": "ignored",
          "traceback": [
            "\u001b[0;36m  File \u001b[0;32m\"<ipython-input-4-54c8e4622c1a>\"\u001b[0;36m, line \u001b[0;32m4\u001b[0m\n\u001b[0;31m    print(\"Five is greater than two+\")\u001b[0m\n\u001b[0m    ^\u001b[0m\n\u001b[0;31mIndentationError\u001b[0m\u001b[0;31m:\u001b[0m expected an indented block after 'if' statement on line 3\n"
          ]
        }
      ]
    },
    {
      "cell_type": "markdown",
      "source": [
        "The number of spaces is up to you as a programmer,the most common use is four,but it has to be at least one."
      ],
      "metadata": {
        "id": "kN7zXRJt98C2"
      }
    },
    {
      "cell_type": "code",
      "source": [
        "# Example\n",
        "\n",
        "if 5>2:\n",
        " print(\"Five is greater than two!\")\n",
        "if 5>2:\n",
        "    print(\"Five is greater than two!\")"
      ],
      "metadata": {
        "colab": {
          "base_uri": "https://localhost:8080/"
        },
        "id": "Te4cPKHb-LZ7",
        "outputId": "89247cb7-9bb9-435f-eec4-52a8ed9d516b"
      },
      "execution_count": null,
      "outputs": [
        {
          "output_type": "stream",
          "name": "stdout",
          "text": [
            "Five is greater than two!\n",
            "Five is greater than two!\n"
          ]
        }
      ]
    },
    {
      "cell_type": "markdown",
      "source": [
        "You have to use the same number of spaces in same block of code, otherwise Python will give you an error:"
      ],
      "metadata": {
        "id": "clhsAbYF-jGt"
      }
    },
    {
      "cell_type": "code",
      "source": [
        "# Example\n",
        "# Syntax Error:\n",
        "\n",
        "if 5>2:\n",
        "  print(\"Five is greater than two!\")\n",
        "    print(\"Five is greater than two!\")"
      ],
      "metadata": {
        "id": "3mykyetY-xWp"
      },
      "execution_count": null,
      "outputs": []
    },
    {
      "cell_type": "markdown",
      "source": [
        "Python Variables\n",
        "\n",
        "In Python, variables are created when you assing a value to it:"
      ],
      "metadata": {
        "id": "L_14aa0T_LHL"
      }
    },
    {
      "cell_type": "code",
      "source": [
        "# Example\n",
        "# Variables in Python:\n",
        "\n",
        "x =5\n",
        "y=\"Hello, World\"\n",
        "\n",
        "print(x)\n",
        "print(y)"
      ],
      "metadata": {
        "colab": {
          "base_uri": "https://localhost:8080/"
        },
        "id": "oE7NFbqS_aa9",
        "outputId": "69880a36-76c8-4bdc-bb89-3d26ad56ad34"
      },
      "execution_count": null,
      "outputs": [
        {
          "output_type": "stream",
          "name": "stdout",
          "text": [
            "5\n",
            "Hello, World\n"
          ]
        }
      ]
    },
    {
      "cell_type": "markdown",
      "source": [
        "Python has no command for declaring a variable.\n",
        "\n",
        "Comments\n",
        "\n",
        "Python has commenting capabilty for the purpose of in-code documention.\n",
        "Comments start with a #, and Python will render the rest of the line as a comment:"
      ],
      "metadata": {
        "id": "8NHJgmHt_yyp"
      }
    },
    {
      "cell_type": "code",
      "source": [
        "# Example\n",
        "# Comments in Python:\n",
        "# This is a comment.\n",
        "print(\"Hello,World\")"
      ],
      "metadata": {
        "id": "nAfVssNJAuS3"
      },
      "execution_count": null,
      "outputs": []
    },
    {
      "cell_type": "markdown",
      "source": [
        "Python Comments\n",
        "\n",
        "Comments are be used to explain Python code.\n",
        "Comments can be used to make the code more readable.\n",
        "Comments can be used to prevent execution when testing code.\n",
        "\n",
        "Creating a Comment\n",
        "\n",
        "Comments starts with a # , and Python will ignore them:"
      ],
      "metadata": {
        "id": "bSVE_iUXBF8E"
      }
    },
    {
      "cell_type": "code",
      "source": [
        "# Example\n",
        "# This  is a comment\n",
        "print(\"Hello, World\")"
      ],
      "metadata": {
        "id": "B3prK_BuD5c3"
      },
      "execution_count": null,
      "outputs": []
    },
    {
      "cell_type": "markdown",
      "source": [
        "Comments can be placed at the end of a line,and Python  will ignore the rest of the line:"
      ],
      "metadata": {
        "id": "rYZo1m64EFwu"
      }
    },
    {
      "cell_type": "code",
      "source": [
        "# Example\n",
        "print(\"Hello, World\") #This is a comment"
      ],
      "metadata": {
        "id": "UaZP_VyAERsT"
      },
      "execution_count": null,
      "outputs": []
    },
    {
      "cell_type": "markdown",
      "source": [
        "A comment does not have to be text that explains the code,it can also be used to prevent Python from executing code:"
      ],
      "metadata": {
        "id": "yR0kdDjjEcHx"
      }
    },
    {
      "cell_type": "code",
      "source": [
        "# Example\n",
        "# print(\"Hello, World\")\n",
        "print(\"Cheers, Mate!\")"
      ],
      "metadata": {
        "id": "eDJebjwqEtLo"
      },
      "execution_count": null,
      "outputs": []
    },
    {
      "cell_type": "markdown",
      "source": [
        "Multiline Comments\n",
        "Python does not really have a syntax for multiline comments.\n",
        "To add a multiline comment you could insert a # for each line:"
      ],
      "metadata": {
        "id": "hCxfUDdAE55q"
      }
    },
    {
      "cell_type": "code",
      "source": [
        "# Example\n",
        "# This is a comment\n",
        "# written in\n",
        "# more than just one line\n",
        "print(\"Hello,World\")"
      ],
      "metadata": {
        "id": "dA9z_qddFNPW"
      },
      "execution_count": null,
      "outputs": []
    },
    {
      "cell_type": "markdown",
      "source": [
        "Or, not quite as intended, You can use a multiline string.\n",
        "\n",
        "Since Python will ignore string literals that are not assigned to a variable, you can add a multline string(triple quotes) in your code,and place your comment inside it:\n"
      ],
      "metadata": {
        "id": "VaQrLizRFZWQ"
      }
    },
    {
      "cell_type": "code",
      "source": [
        "# Example\n",
        "\n",
        "\"\"\"This is a comment written\n",
        "in more\n",
        "than just one line\n",
        "\"\"\"\n",
        "print(\"Hello, World!\")\n",
        "\"\"\"\n",
        "x=67\n",
        "y=90\n",
        "z=\"Pandi\"\n",
        "\"\"\""
      ],
      "metadata": {
        "colab": {
          "base_uri": "https://localhost:8080/",
          "height": 52
        },
        "id": "tTnNfI9XGJhg",
        "outputId": "1d73299d-3b8c-4299-9ad5-b4bd800ba0b0"
      },
      "execution_count": null,
      "outputs": [
        {
          "output_type": "stream",
          "name": "stdout",
          "text": [
            "Hello, World!\n"
          ]
        },
        {
          "output_type": "execute_result",
          "data": {
            "text/plain": [
              "'\\nx=67\\ny=90\\nz=\"Pandi\"\\n'"
            ],
            "application/vnd.google.colaboratory.intrinsic+json": {
              "type": "string"
            }
          },
          "metadata": {},
          "execution_count": 7
        }
      ]
    },
    {
      "cell_type": "markdown",
      "source": [
        "As long as the string is not assinged to a variable,Python will read the code, but then ignore it,and you have made a multiline comment."
      ],
      "metadata": {
        "id": "-L1xgGvlGq5Q"
      }
    },
    {
      "cell_type": "markdown",
      "source": [
        "Python Variables\n",
        "\n",
        "Variables\n",
        "\n",
        "variables are containers for storing data values.\n",
        "\n",
        "Creating Variables\n",
        "\n",
        "Python has no command for declaring a variable.\n",
        "\n",
        "A variable is created the moment you first assign a value to it."
      ],
      "metadata": {
        "id": "UKtXdTq0HF0u"
      }
    },
    {
      "cell_type": "code",
      "source": [
        "# Example\n",
        "\n",
        "x=5\n",
        "y=\"Jhon\"\n",
        "print(x)\n",
        "print(y)"
      ],
      "metadata": {
        "colab": {
          "base_uri": "https://localhost:8080/"
        },
        "id": "Ta_XmW1IHedN",
        "outputId": "0643ff97-d1b7-48bb-aca8-b0ab8c93a0d1"
      },
      "execution_count": null,
      "outputs": [
        {
          "output_type": "stream",
          "name": "stdout",
          "text": [
            "5\n",
            "Jhon\n"
          ]
        }
      ]
    },
    {
      "cell_type": "markdown",
      "source": [
        "Variables does not need to be declared with any particular type, and can even change type after they have been set."
      ],
      "metadata": {
        "id": "c7ZmFHGuHrf1"
      }
    },
    {
      "cell_type": "code",
      "source": [
        "# Example\n",
        "\n",
        "x=4 # x is of type int\n",
        "x=\"Sally\" #x is now of type str\n",
        "print(x)"
      ],
      "metadata": {
        "colab": {
          "base_uri": "https://localhost:8080/"
        },
        "id": "udyVr7IPH7tv",
        "outputId": "a0a9ad7a-4d3a-437d-ab21-e194023e534b"
      },
      "execution_count": null,
      "outputs": [
        {
          "output_type": "stream",
          "name": "stdout",
          "text": [
            "Sally\n"
          ]
        }
      ]
    },
    {
      "cell_type": "markdown",
      "source": [
        "Casting\n",
        "\n",
        "If you want to specify the data type of a variable, this can be done with casting"
      ],
      "metadata": {
        "id": "h04WdypDIXWi"
      }
    },
    {
      "cell_type": "code",
      "source": [
        "# Example\n",
        "\n",
        "x=str(3) # x will be '3'\n",
        "y=int(3) # y will be 3\n",
        "z=float(3) # z will be 3.0\n",
        "\n",
        "print(x)\n",
        "print(y)\n",
        "print(z)"
      ],
      "metadata": {
        "colab": {
          "base_uri": "https://localhost:8080/"
        },
        "id": "t0Pf8f1fIjEE",
        "outputId": "fa7e9cd5-79c1-4037-b1a3-6d0d7f69f0f2"
      },
      "execution_count": null,
      "outputs": [
        {
          "output_type": "stream",
          "name": "stdout",
          "text": [
            "3\n",
            "3\n",
            "3.0\n"
          ]
        }
      ]
    },
    {
      "cell_type": "markdown",
      "source": [
        "Get the Type\n",
        "\n",
        "You can get the data type of a varriable with the type() function"
      ],
      "metadata": {
        "id": "3KgMSpIEI6B0"
      }
    },
    {
      "cell_type": "code",
      "source": [
        "# Example\n",
        "x=5\n",
        "y=\"jhone\"\n",
        "print(type(x))\n",
        "print(type(y))"
      ],
      "metadata": {
        "colab": {
          "base_uri": "https://localhost:8080/"
        },
        "id": "hLIfQTjhJDhk",
        "outputId": "42e1d209-55bc-4bdc-ecb0-94fd01b5ffe4"
      },
      "execution_count": null,
      "outputs": [
        {
          "output_type": "stream",
          "name": "stdout",
          "text": [
            "<class 'int'>\n",
            "<class 'str'>\n"
          ]
        }
      ]
    },
    {
      "cell_type": "markdown",
      "source": [
        "Single or Double Quotes?\n",
        "\n",
        "String variables can be declared either by using single or double quotes:"
      ],
      "metadata": {
        "id": "ilNzYULaJhI-"
      }
    },
    {
      "cell_type": "code",
      "source": [
        "# Example\n",
        "x=\"Jhon\"\n",
        "print(x)\n",
        "# is the same as\n",
        "x='Jhon'\n",
        "print(x)"
      ],
      "metadata": {
        "colab": {
          "base_uri": "https://localhost:8080/"
        },
        "id": "jBQLK3WjJf4a",
        "outputId": "d2ed5df8-1690-4fc8-df91-17d07451f6f2"
      },
      "execution_count": null,
      "outputs": [
        {
          "output_type": "stream",
          "name": "stdout",
          "text": [
            "Jhon\n",
            "Jhon\n"
          ]
        }
      ]
    },
    {
      "cell_type": "markdown",
      "source": [
        "# Case-Sensitive\n",
        "\n",
        "Varriable names are case-sensitive\n"
      ],
      "metadata": {
        "id": "KduSvvE4J-f5"
      }
    },
    {
      "cell_type": "code",
      "source": [
        "# Example\n",
        "a=4\n",
        "A=\"Sally\"\n",
        "# A will not overwrite a\n",
        "print(a)\n",
        "print(A)"
      ],
      "metadata": {
        "colab": {
          "base_uri": "https://localhost:8080/"
        },
        "id": "pkdpvGJOKMP8",
        "outputId": "71d86e78-1729-4c26-8302-30bffdc9667c"
      },
      "execution_count": null,
      "outputs": [
        {
          "output_type": "stream",
          "name": "stdout",
          "text": [
            "4\n",
            "Sally\n"
          ]
        }
      ]
    },
    {
      "cell_type": "markdown",
      "source": [
        "# Python - Variable Names\n",
        "\n",
        "Varialbe Names\n",
        "\n",
        "A variable can have a short name (like x and y) or a more descriptive name (age,carname,total_volume).Rules for Python variables:\n",
        "\n",
        "*   A variable name must start with a letter or the underscore character.\n",
        "*   A variable name cannot start with a number.\n",
        "*   A variable name can only contain alpha-numeric characters and underscores(A-z,0-9,and _)\n",
        "*   Variable names are case-sentive (age,Age and AGE are three different variables)\n",
        "*   A variable name cannot be any of the Python Keywords\n",
        "\n",
        "\n",
        "\n",
        "\n",
        "\n",
        "\n",
        "\n",
        "\n",
        "\n",
        "\n",
        "\n"
      ],
      "metadata": {
        "id": "3EezkEvHKgqS"
      }
    },
    {
      "cell_type": "code",
      "source": [
        "# Example\n",
        "\n",
        "# Legal variable names:\n",
        "\n",
        "myvar =\"John\"\n",
        "my_var=\"John\"\n",
        "_my_var=\"john\"\n",
        "myVar=\"john\"\n",
        "MYVAR=\"John\"\n",
        "myvar2=\"John\"\n",
        "\n",
        "print(myvar)\n",
        "print(my_var)\n",
        "print(_my_var)\n",
        "print(myVar)\n",
        "print(MYVAR)\n",
        "print(myvar2)\n"
      ],
      "metadata": {
        "id": "WG_yW-GfNUxv"
      },
      "execution_count": null,
      "outputs": []
    },
    {
      "cell_type": "code",
      "source": [
        "# Example\n",
        "\n",
        "# Illegal variable names:\n",
        "\n",
        "2myvar=\"John\"\n",
        "my-var=\"john\"\n",
        "my var=\"john\"\n",
        "\n",
        "print(2myvar)\n",
        "print(my-var)\n",
        "print(my var)"
      ],
      "metadata": {
        "colab": {
          "base_uri": "https://localhost:8080/",
          "height": 142
        },
        "id": "9Hhwc-wFOKg_",
        "outputId": "f72a399d-050a-4607-f77b-6247b2697029"
      },
      "execution_count": null,
      "outputs": [
        {
          "output_type": "error",
          "ename": "SyntaxError",
          "evalue": "ignored",
          "traceback": [
            "\u001b[0;36m  File \u001b[0;32m\"<ipython-input-16-3e0fdca9b831>\"\u001b[0;36m, line \u001b[0;32m5\u001b[0m\n\u001b[0;31m    2myvar=\"John\"\u001b[0m\n\u001b[0m    ^\u001b[0m\n\u001b[0;31mSyntaxError\u001b[0m\u001b[0;31m:\u001b[0m invalid decimal literal\n"
          ]
        }
      ]
    },
    {
      "cell_type": "markdown",
      "source": [
        "# Remember that variable names are case-sensitive"
      ],
      "metadata": {
        "id": "r-BpMS3IOgjl"
      }
    },
    {
      "cell_type": "markdown",
      "source": [
        "# Multi Words Variable Names\n",
        "\n",
        "Variable names with more than one word can be difficult to read.\n",
        "There are several techniques you can use to make them more readable:\n",
        "\n",
        "# Camel Case\n",
        "\n",
        "Each word, except the first, starts with a capital letter:\n",
        "  \n",
        "  myVariableName=\"John\"\n",
        "\n",
        "\n",
        "# Pascal Case\n",
        "\n",
        " Each word start with a capital letter:\n",
        "\n",
        "  MyVariableName=\"John\"\n",
        "\n",
        "\n",
        "# Snake Case\n",
        "\n",
        "Each word is separated by an underscore character:\n",
        "\n",
        "my_variable_name=\"John\""
      ],
      "metadata": {
        "id": "tbNpXsMyOp30"
      }
    },
    {
      "cell_type": "markdown",
      "source": [
        "# Python Variables - Assign Multiple Values\n",
        "\n",
        "# Many Values to Multiple Variables\n",
        "\n",
        "Python allows you to assign values to multiple variables in one line:"
      ],
      "metadata": {
        "id": "qwgQemKtQF15"
      }
    },
    {
      "cell_type": "code",
      "source": [
        "# Example\n",
        "x,y,z=\"Orang\",\"Banana\",\"Cherry\"\n",
        "\n",
        "print(x)\n",
        "print(y)\n",
        "print(z)"
      ],
      "metadata": {
        "colab": {
          "base_uri": "https://localhost:8080/"
        },
        "id": "p_-ojrYhQb70",
        "outputId": "f7610bea-ae1b-4642-a6aa-1d271fe5e4a3"
      },
      "execution_count": null,
      "outputs": [
        {
          "output_type": "stream",
          "name": "stdout",
          "text": [
            "Orang\n",
            "Banana\n",
            "Cherry\n"
          ]
        }
      ]
    },
    {
      "cell_type": "markdown",
      "source": [
        "# Note Make sure the number of variables matches the number of values, or else you will get an error."
      ],
      "metadata": {
        "id": "qH-8-XEsR5gD"
      }
    },
    {
      "cell_type": "markdown",
      "source": [
        "# One Value to Multiple Variables\n",
        "\n",
        "And you can assign the same value to multiple variables in one line:"
      ],
      "metadata": {
        "id": "stBvTWL1SHtD"
      }
    },
    {
      "cell_type": "code",
      "source": [
        "# Example\n",
        "\n",
        "x=y=z=\"Orange\"\n",
        "\n",
        "print(x)\n",
        "print(y)\n",
        "print(z)"
      ],
      "metadata": {
        "colab": {
          "base_uri": "https://localhost:8080/"
        },
        "id": "lwpIvCo2SUr5",
        "outputId": "01808acd-c886-4251-f94c-b0c931b62589"
      },
      "execution_count": null,
      "outputs": [
        {
          "output_type": "stream",
          "name": "stdout",
          "text": [
            "Orange\n",
            "Orange\n",
            "Orange\n"
          ]
        }
      ]
    },
    {
      "cell_type": "markdown",
      "source": [
        "# Unpack a Collection\n",
        "\n",
        "If you have a collection of values in a list, tuple etc. Python allows you to extract the values into variables. This is called unpacking."
      ],
      "metadata": {
        "id": "gV_TSGYtShJL"
      }
    },
    {
      "cell_type": "code",
      "source": [
        "# Example\n",
        "\n",
        "# Unpack a list:\n",
        "\n",
        "fruits =[\"apple\",\"banana\",\"cherry\"]\n",
        "\n",
        "x,y,z=fruits\n",
        "print(x)\n",
        "print(y)\n",
        "print(z)"
      ],
      "metadata": {
        "colab": {
          "base_uri": "https://localhost:8080/"
        },
        "id": "IVZTEYdCS4Z4",
        "outputId": "8e73e049-cd84-4b7f-d095-cc2a59a65e79"
      },
      "execution_count": null,
      "outputs": [
        {
          "output_type": "stream",
          "name": "stdout",
          "text": [
            "apple\n",
            "banana\n",
            "cherry\n"
          ]
        }
      ]
    },
    {
      "cell_type": "markdown",
      "source": [
        "# Python - Output Variable\n",
        "The Python print() function is often used to output variables."
      ],
      "metadata": {
        "id": "KRb4ES6ETN6N"
      }
    },
    {
      "cell_type": "code",
      "source": [
        "# Example\n",
        "x= \"Python is awesome\"\n",
        "print(x)"
      ],
      "metadata": {
        "colab": {
          "base_uri": "https://localhost:8080/"
        },
        "id": "YkSv8BE4TmGi",
        "outputId": "6db1e9ec-3e73-4cd2-ff77-c31175cb873f"
      },
      "execution_count": null,
      "outputs": [
        {
          "output_type": "stream",
          "name": "stdout",
          "text": [
            "Python is awesome\n"
          ]
        }
      ]
    },
    {
      "cell_type": "markdown",
      "source": [
        "In the print() function, you output multiple variables,separated by comma:"
      ],
      "metadata": {
        "id": "pReGiCHyTtlr"
      }
    },
    {
      "cell_type": "code",
      "source": [
        "# Example\n",
        "x=\"Python\"\n",
        "y=\"is\"\n",
        "z=\"awesome\"\n",
        "\n",
        "print(x,y,z)"
      ],
      "metadata": {
        "colab": {
          "base_uri": "https://localhost:8080/"
        },
        "id": "UWw18AJmT8GI",
        "outputId": "c37d0296-df11-4c29-8812-de9522df0249"
      },
      "execution_count": null,
      "outputs": [
        {
          "output_type": "stream",
          "name": "stdout",
          "text": [
            "Python is awesome\n"
          ]
        }
      ]
    },
    {
      "cell_type": "markdown",
      "source": [
        "You can also use the + operator to output multiple variables:\n"
      ],
      "metadata": {
        "id": "__kmudETUH_Y"
      }
    },
    {
      "cell_type": "code",
      "source": [
        "# Example\n",
        "x=\"Python\"\n",
        "y=\"is\"\n",
        "z=\"awesome\"\n",
        "print(x+y+z)"
      ],
      "metadata": {
        "colab": {
          "base_uri": "https://localhost:8080/"
        },
        "id": "LLV4pVe2UqdG",
        "outputId": "45bd6869-76c9-441c-9193-2529c6db836e"
      },
      "execution_count": null,
      "outputs": [
        {
          "output_type": "stream",
          "name": "stdout",
          "text": [
            "Pythonisawesome\n"
          ]
        }
      ]
    },
    {
      "cell_type": "markdown",
      "source": [
        "# Notice the space character after \"Python \" and \"is \" , without them the result would be \"Pythonisawesome\"."
      ],
      "metadata": {
        "id": "alVP2tQ6U3-9"
      }
    },
    {
      "cell_type": "markdown",
      "source": [
        "For numbers, the  + character works as a mathematical operator:"
      ],
      "metadata": {
        "id": "vaJNtGaPVM23"
      }
    },
    {
      "cell_type": "code",
      "source": [
        "# Example:\n",
        "x=5\n",
        "y=10\n",
        "print(x+y)"
      ],
      "metadata": {
        "colab": {
          "base_uri": "https://localhost:8080/"
        },
        "id": "vBaeXXy6VJZ4",
        "outputId": "7f666a73-e53c-41e7-d718-edf53b4af928"
      },
      "execution_count": null,
      "outputs": [
        {
          "output_type": "stream",
          "name": "stdout",
          "text": [
            "15\n"
          ]
        }
      ]
    },
    {
      "cell_type": "markdown",
      "source": [
        "In the print() function, When you try to combine a string and a number with the + operator,Python will give you an error :"
      ],
      "metadata": {
        "id": "ESyZxC1mVdLQ"
      }
    },
    {
      "cell_type": "code",
      "source": [
        "# Example\n",
        "x=5\n",
        "y=\"John\"\n",
        "print(x+y)"
      ],
      "metadata": {
        "colab": {
          "base_uri": "https://localhost:8080/",
          "height": 211
        },
        "id": "gVupIOH5Vpxx",
        "outputId": "5748e367-0877-4ec5-dbd8-9344d1fcbd42"
      },
      "execution_count": null,
      "outputs": [
        {
          "output_type": "error",
          "ename": "TypeError",
          "evalue": "ignored",
          "traceback": [
            "\u001b[0;31m---------------------------------------------------------------------------\u001b[0m",
            "\u001b[0;31mTypeError\u001b[0m                                 Traceback (most recent call last)",
            "\u001b[0;32m<ipython-input-25-3c5c368db069>\u001b[0m in \u001b[0;36m<cell line: 4>\u001b[0;34m()\u001b[0m\n\u001b[1;32m      2\u001b[0m \u001b[0mx\u001b[0m\u001b[0;34m=\u001b[0m\u001b[0;36m5\u001b[0m\u001b[0;34m\u001b[0m\u001b[0;34m\u001b[0m\u001b[0m\n\u001b[1;32m      3\u001b[0m \u001b[0my\u001b[0m\u001b[0;34m=\u001b[0m\u001b[0;34m\"John\"\u001b[0m\u001b[0;34m\u001b[0m\u001b[0;34m\u001b[0m\u001b[0m\n\u001b[0;32m----> 4\u001b[0;31m \u001b[0mprint\u001b[0m\u001b[0;34m(\u001b[0m\u001b[0mx\u001b[0m\u001b[0;34m+\u001b[0m\u001b[0my\u001b[0m\u001b[0;34m)\u001b[0m\u001b[0;34m\u001b[0m\u001b[0;34m\u001b[0m\u001b[0m\n\u001b[0m",
            "\u001b[0;31mTypeError\u001b[0m: unsupported operand type(s) for +: 'int' and 'str'"
          ]
        }
      ]
    },
    {
      "cell_type": "markdown",
      "source": [
        "The best way to output multiple variable in the print() function is to separate them with commas, which even support different data types:\n"
      ],
      "metadata": {
        "id": "M9G9Y9qCVzER"
      }
    },
    {
      "cell_type": "code",
      "source": [
        "# Example\n",
        "x=5\n",
        "y=\"John\"\n",
        "print(x,y)"
      ],
      "metadata": {
        "colab": {
          "base_uri": "https://localhost:8080/"
        },
        "id": "hGBUVcu9WFHB",
        "outputId": "8b45757f-8b77-4940-9b6d-fffea634d86c"
      },
      "execution_count": null,
      "outputs": [
        {
          "output_type": "stream",
          "name": "stdout",
          "text": [
            "5 John\n"
          ]
        }
      ]
    },
    {
      "cell_type": "markdown",
      "source": [
        "# Python - Global Variables\n",
        "\n",
        "Global Variables\n",
        "\n",
        "   Variables that are created outside of a funciton( as in all of the examples above) are known as global variables.\n",
        "\n",
        "   Global variables can be used by everyone,both inside of functions and outside"
      ],
      "metadata": {
        "id": "qe48-CsdWNkX"
      }
    },
    {
      "cell_type": "code",
      "source": [
        "# Example\n",
        "# Create a variable outsid of a function, use it inside the function\n",
        "\n",
        "x=\"awesome\"\n",
        "\n",
        "def myfunc():\n",
        "  print(\"Python is \" + x)\n",
        "\n",
        "myfunc()"
      ],
      "metadata": {
        "colab": {
          "base_uri": "https://localhost:8080/"
        },
        "id": "MhdEEwT2Wtkb",
        "outputId": "49a56810-97a6-48ae-ea26-706cd588fcd7"
      },
      "execution_count": null,
      "outputs": [
        {
          "output_type": "stream",
          "name": "stdout",
          "text": [
            "Python is awesome\n"
          ]
        }
      ]
    },
    {
      "cell_type": "markdown",
      "source": [
        "If you create a variable with the same name inside a function, this variable will be local, and can only be used inside the function.The gloabl variable with the same will remain as it was,global and with the original value."
      ],
      "metadata": {
        "id": "C8ASTUPjXGSt"
      }
    },
    {
      "cell_type": "code",
      "source": [
        "# Example\n",
        "\n",
        "# Create a variable inside a function, with the same name as the global variable\n",
        "\n",
        "x=\"awesome\"\n",
        "\n",
        "def myfunc():\n",
        "  x=\"fantastic\"\n",
        "  print(\"Python is \"+ x)\n",
        "\n",
        "myfunc()\n",
        "\n",
        "print(\"Python is \"+x)"
      ],
      "metadata": {
        "colab": {
          "base_uri": "https://localhost:8080/"
        },
        "id": "w9t1KPHfXn2M",
        "outputId": "e057f076-a86b-4d1d-fe03-2552a8bf447a"
      },
      "execution_count": null,
      "outputs": [
        {
          "output_type": "stream",
          "name": "stdout",
          "text": [
            "Python is fantastic\n",
            "Python is awesome\n"
          ]
        }
      ]
    },
    {
      "cell_type": "markdown",
      "source": [
        "# The global Keyword\n",
        "\n",
        "Normally, When you create a variable inside a function,that variable is local, and can only be used inside that function.\n",
        "To create a global variable inside a function,you can use the global keyword"
      ],
      "metadata": {
        "id": "5EHOnURSYNMr"
      }
    },
    {
      "cell_type": "code",
      "source": [
        "# Example\n",
        "# If you use the global keyword,the variable belongs to the global scope:\n",
        "\n",
        "def myfunc():\n",
        "  global x\n",
        "  x= \"fantastic\"\n",
        "myfunc()\n",
        "print(\"Python is \"+x)"
      ],
      "metadata": {
        "colab": {
          "base_uri": "https://localhost:8080/"
        },
        "id": "FL46M0cnYrLX",
        "outputId": "d2e64ed1-c211-4d82-f6cc-d5a146b7561d"
      },
      "execution_count": null,
      "outputs": [
        {
          "output_type": "stream",
          "name": "stdout",
          "text": [
            "Python is fantastic\n"
          ]
        }
      ]
    },
    {
      "cell_type": "markdown",
      "source": [
        "Also,use the global keyword if you want to change a global variabel inside a function."
      ],
      "metadata": {
        "id": "cdYDgFMEbyzi"
      }
    },
    {
      "cell_type": "code",
      "source": [
        "# Example\n",
        "# To Change the value of a global variable inside a function,refer to the variable by using the global keyword:\n",
        "x=\"awesome\"\n",
        "\n",
        "def myfunc():\n",
        "  global x\n",
        "  x=\"fantastic\"\n",
        "\n",
        "myfunc()\n",
        "\n",
        "print(\"Python is \"+x)"
      ],
      "metadata": {
        "colab": {
          "base_uri": "https://localhost:8080/"
        },
        "id": "vt7ORdSVb8FG",
        "outputId": "40a46225-1f68-4ff0-ed6a-d01b9b72602d"
      },
      "execution_count": null,
      "outputs": [
        {
          "output_type": "stream",
          "name": "stdout",
          "text": [
            "Python is fantastic\n"
          ]
        }
      ]
    },
    {
      "cell_type": "markdown",
      "source": [
        "# Python Data Types\n",
        "\n",
        "Built-in Data Types\n",
        "\n",
        "In programming,data type is an important  concept.\n",
        "\n",
        "Variables can store data of different types, and different types can do different things.\n",
        "\n",
        "Python has the following data types built-in by default,in these categories:\n",
        "\n",
        "Text Type: str\n",
        "Numeric Types: int,float,complex\n",
        "Sequence Types: list,tuple,range\n",
        "Mapping Type: dict\n",
        "Set Types: set, frozenset\n",
        "Boolean Type: bool\n",
        "Binary Types: bytes,bytearray,memoryview\n",
        "None Type: NoneType\n",
        "\n",
        "Getting the Data Type\n",
        "\n",
        "You can get the data type of any object by using the type() function:"
      ],
      "metadata": {
        "id": "YH6OowTyd4Hu"
      }
    },
    {
      "cell_type": "markdown",
      "source": [
        "Getting the Data Type\n",
        "\n",
        "You can get the data type of any object by using the type() function\n"
      ],
      "metadata": {
        "id": "53Gsx5byj2EQ"
      }
    },
    {
      "cell_type": "code",
      "source": [
        "# Example\n",
        "# print the data type of the variable x:\n",
        "x=5\n",
        "print(type(x))"
      ],
      "metadata": {
        "colab": {
          "base_uri": "https://localhost:8080/"
        },
        "id": "_PdLX-Xhk6Px",
        "outputId": "8361e91b-42f3-439e-a412-f38fa6f5b290"
      },
      "execution_count": null,
      "outputs": [
        {
          "output_type": "stream",
          "name": "stdout",
          "text": [
            "<class 'int'>\n"
          ]
        }
      ]
    },
    {
      "cell_type": "markdown",
      "source": [
        "# Setting the Data Type\n",
        "\n",
        "In Python, the data type is set when you assign a value to a variable:"
      ],
      "metadata": {
        "id": "lXLeRr0FlIx7"
      }
    },
    {
      "cell_type": "code",
      "source": [
        "x=\"Hello World\" # str\n",
        "print(type(x))\n",
        "x=20 # int\n",
        "print(type(x))\n",
        "x=20.5 # float\n",
        "print(type(x))\n",
        "x=1j # complex\n",
        "print(type(x))\n",
        "x=[\"apple\",\"banana\",\"cherry\"]# list\n",
        "print(type(x))\n",
        "x=(\"apple\",\"banana\",\"cherry\") # tuple\n",
        "print(type(x))\n",
        "x=range(6) # range\n",
        "print(type(x))\n",
        "x={\"name\":\"John\",\"age\":36} # dict\n",
        "print(type(x))\n",
        "x={\"apple\",\"banana\",\"cherry\"}  # set\n",
        "print(type(x))\n",
        "x=frozenset({\"apple\",\"banana\",\"cherry\"}) # frozenset\n",
        "print(type(x))\n",
        "x=True # bool\n",
        "print(type(x))\n",
        "x=b\"Hello\" # bytes\n",
        "print(type(x))\n",
        "x=bytearray(5) # bytearray\n",
        "print(type(x))\n",
        "x=memoryview(bytes(5)) # memoryview\n",
        "print(type(x))\n",
        "x=None # NoneType\n",
        "print(type(x))"
      ],
      "metadata": {
        "colab": {
          "base_uri": "https://localhost:8080/"
        },
        "id": "f2czZTx3lG21",
        "outputId": "a79a46af-23df-42d9-d3d7-585b0732f97b"
      },
      "execution_count": null,
      "outputs": [
        {
          "output_type": "stream",
          "name": "stdout",
          "text": [
            "<class 'str'>\n",
            "<class 'int'>\n",
            "<class 'float'>\n",
            "<class 'complex'>\n",
            "<class 'list'>\n",
            "<class 'tuple'>\n",
            "<class 'range'>\n",
            "<class 'dict'>\n",
            "<class 'set'>\n",
            "<class 'frozenset'>\n",
            "<class 'bool'>\n",
            "<class 'bytes'>\n",
            "<class 'bytearray'>\n",
            "<class 'memoryview'>\n",
            "<class 'NoneType'>\n"
          ]
        }
      ]
    },
    {
      "cell_type": "markdown",
      "source": [
        "# Setting the Specific Data Type\n",
        "\n",
        "If you want to specify the data type,you can use the following constructor functions:"
      ],
      "metadata": {
        "id": "jf9xQVVys0fW"
      }
    },
    {
      "cell_type": "code",
      "source": [
        "x =str(\"Hello world\")\n",
        "print(type(x))\n",
        "x=int(20)\n",
        "print(type(x))\n",
        "x=float(20.5)\n",
        "print(type(x))\n",
        "x=complex(1j)\n",
        "print(type(x))\n",
        "x=list((\"apple\",\"banana\",\"cherry\"))\n",
        "print(type(x))\n",
        "x=tuple((\"apple\",\"banana\",\"cherry\"))\n",
        "print(type(x))\n",
        "x=range(6)\n",
        "print(type(x))\n",
        "x=dict(name=\"John\",age=36)\n",
        "print(type(x))\n",
        "x=set((\"apple\",\"banana\",\"cherry\"))\n",
        "print(type(x))\n",
        "x=frozenset((\"apple\",\"banana\",\"cherry\"))\n",
        "print(type(x))\n",
        "x=bool(5)\n",
        "print(type(x))\n",
        "x=bytes(5)\n",
        "print(type(x))\n",
        "x=memoryview(bytes(5))\n",
        "print(type(x))"
      ],
      "metadata": {
        "colab": {
          "base_uri": "https://localhost:8080/"
        },
        "id": "_RK7zG_2tOiZ",
        "outputId": "148fd66a-5ce0-4c62-db3f-3d293c09c677"
      },
      "execution_count": null,
      "outputs": [
        {
          "output_type": "stream",
          "name": "stdout",
          "text": [
            "<class 'str'>\n",
            "<class 'int'>\n",
            "<class 'float'>\n",
            "<class 'complex'>\n",
            "<class 'list'>\n"
          ]
        }
      ]
    },
    {
      "cell_type": "markdown",
      "source": [
        "# Python Numbers\n",
        "\n",
        "Python Numbers\n",
        "\n",
        "There are three numeric types in Python:\n",
        "\n",
        "* int\n",
        "* float\n",
        "* complex\n",
        "\n",
        "Variables of numeric types are created when you assign a value to them:\n"
      ],
      "metadata": {
        "id": "FmWrEJmvTUrD"
      }
    },
    {
      "cell_type": "code",
      "source": [
        "# Example\n",
        "x=1 # int\n",
        "y=2.8 # float\n",
        "z=1j # complex\n",
        "print(type(x))\n",
        "print(type(y))\n",
        "print(type(z))"
      ],
      "metadata": {
        "colab": {
          "base_uri": "https://localhost:8080/"
        },
        "id": "mJ2Uc452TTrY",
        "outputId": "8d6893ab-31ba-4fec-afdb-21270d11f48e"
      },
      "execution_count": null,
      "outputs": [
        {
          "output_type": "stream",
          "name": "stdout",
          "text": [
            "<class 'int'>\n",
            "<class 'float'>\n",
            "<class 'complex'>\n"
          ]
        }
      ]
    },
    {
      "cell_type": "markdown",
      "source": [
        "# Int\n",
        "Int , or integer,is a whole number ,positive or negative,without decimals,of unlimited length."
      ],
      "metadata": {
        "id": "JBuK-eKxUVUr"
      }
    },
    {
      "cell_type": "code",
      "source": [
        "# Example\n",
        "# Integers:\n",
        "x=1\n",
        "y=3565625256545577\n",
        "z=-32225\n",
        "\n",
        "print(type(x))\n",
        "print(type(y))\n",
        "print(type(z))"
      ],
      "metadata": {
        "colab": {
          "base_uri": "https://localhost:8080/"
        },
        "id": "v39ISZoSUo0W",
        "outputId": "6b51e208-7db3-4509-afc9-282425d5745c"
      },
      "execution_count": null,
      "outputs": [
        {
          "output_type": "stream",
          "name": "stdout",
          "text": [
            "<class 'int'>\n",
            "<class 'int'>\n",
            "<class 'int'>\n"
          ]
        }
      ]
    },
    {
      "cell_type": "markdown",
      "source": [
        "# Float\n",
        "Float,or \"floating point number\" is a number,positive or negative ,containing one  or more decimals."
      ],
      "metadata": {
        "id": "XOc_TTQqVIzh"
      }
    },
    {
      "cell_type": "code",
      "source": [
        "# Example\n",
        "\n",
        "# Floats:\n",
        "\n",
        "x=1.10\n",
        "y=1.0\n",
        "z=-35.58\n",
        "\n",
        "print(type(x))\n",
        "print(type(y))\n",
        "print(type(z))"
      ],
      "metadata": {
        "colab": {
          "base_uri": "https://localhost:8080/"
        },
        "id": "ZAKsWwLsWMdf",
        "outputId": "f385b4ab-c3e9-4bd0-97c9-ffbb8ec8397c"
      },
      "execution_count": null,
      "outputs": [
        {
          "output_type": "stream",
          "name": "stdout",
          "text": [
            "<class 'float'>\n",
            "<class 'float'>\n",
            "<class 'float'>\n"
          ]
        }
      ]
    },
    {
      "cell_type": "markdown",
      "source": [
        "Float can also be scientific numbers with an \"e\" to indicate the power of 10."
      ],
      "metadata": {
        "id": "_uIBn15sWie3"
      }
    },
    {
      "cell_type": "code",
      "source": [
        "# Example\n",
        "\n",
        "# Floats:\n",
        "x=35e3\n",
        "y=12E4\n",
        "z=-87.7e100\n",
        "print(type(x))\n",
        "print(type(y))\n",
        "print(type(z))"
      ],
      "metadata": {
        "id": "73yPnWYmWtDf",
        "colab": {
          "base_uri": "https://localhost:8080/"
        },
        "outputId": "c5c3ad77-ed99-42f8-defd-479abe7cf4ba"
      },
      "execution_count": null,
      "outputs": [
        {
          "output_type": "stream",
          "name": "stdout",
          "text": [
            "<class 'float'>\n",
            "<class 'float'>\n",
            "<class 'float'>\n"
          ]
        }
      ]
    },
    {
      "cell_type": "markdown",
      "source": [
        "# Complex\n",
        "complex numbers are written with a \"j\" as the imaginary part"
      ],
      "metadata": {
        "id": "IfU_AhMnmJgX"
      }
    },
    {
      "cell_type": "code",
      "source": [
        "# Example\n",
        "# Complex\n",
        "\n",
        "x=3+5j\n",
        "y=5j\n",
        "z=-5j\n",
        "\n",
        "print(type(x))\n",
        "print(type(y))\n",
        "print(type(z))\n"
      ],
      "metadata": {
        "colab": {
          "base_uri": "https://localhost:8080/"
        },
        "id": "Ye4-cvwkmUmS",
        "outputId": "abccf6cd-eb6f-46c0-b7cd-ce0e95774064"
      },
      "execution_count": null,
      "outputs": [
        {
          "output_type": "stream",
          "name": "stdout",
          "text": [
            "<class 'complex'>\n",
            "<class 'complex'>\n",
            "<class 'complex'>\n"
          ]
        }
      ]
    },
    {
      "cell_type": "markdown",
      "source": [
        "# Type Conversion\n",
        "\n",
        "You can convert from one type to another with int(),float(),and complex() methods:\n"
      ],
      "metadata": {
        "id": "YaOBAI6pmsvH"
      }
    },
    {
      "cell_type": "code",
      "source": [
        "# Example\n",
        "\n",
        "# Convert from one type to another:\n",
        "\n",
        "x=1 # int\n",
        "y=2.8 # float\n",
        "z=1j # complex\n",
        "\n",
        "print(type(z))\n",
        "\n",
        "# Convert from int to float:\n",
        "\n",
        "a=float(1)\n",
        "\n",
        "# Convert from float to int:\n",
        "\n",
        "b=int(2.8)\n",
        "\n",
        "# Convert from int to complex:\n",
        "\n",
        "c=complex(1)\n",
        "\n",
        "print(a)\n",
        "print(b)\n",
        "print(c)\n",
        "\n",
        "print(type(a))\n",
        "print(type(b))\n",
        "print(type(c))\n",
        "\n"
      ],
      "metadata": {
        "colab": {
          "base_uri": "https://localhost:8080/"
        },
        "id": "eSftbBCLm6b1",
        "outputId": "00c5ff18-9691-41bd-f06e-0a02691df6d9"
      },
      "execution_count": null,
      "outputs": [
        {
          "output_type": "stream",
          "name": "stdout",
          "text": [
            "<class 'complex'>\n",
            "1.0\n",
            "2\n",
            "(1+0j)\n",
            "<class 'float'>\n",
            "<class 'int'>\n",
            "<class 'complex'>\n"
          ]
        }
      ]
    },
    {
      "cell_type": "markdown",
      "source": [
        "# Note: You  cannot convert complex numbers into another number type"
      ],
      "metadata": {
        "id": "L6gCAVk1uScK"
      }
    },
    {
      "cell_type": "markdown",
      "source": [
        "# Random Number\n",
        "\n",
        "Python does not have a random() function to make a random number,but Python has a built-in module called random that can be used to make random numbers:"
      ],
      "metadata": {
        "id": "dpfkNZ-nuax3"
      }
    },
    {
      "cell_type": "code",
      "source": [
        "# Example\n",
        "\n",
        "# Import the random module, and display a random number between 1 and 9:\n",
        "\n",
        "import random\n",
        "\n",
        "print(random.randrange(1,10))"
      ],
      "metadata": {
        "colab": {
          "base_uri": "https://localhost:8080/"
        },
        "id": "0BLvZgbzu2Lb",
        "outputId": "8b65ddea-6f0c-4869-be9f-f25dc2c300cc"
      },
      "execution_count": null,
      "outputs": [
        {
          "output_type": "stream",
          "name": "stdout",
          "text": [
            "4\n"
          ]
        }
      ]
    },
    {
      "cell_type": "markdown",
      "source": [
        "# Python Casting\n",
        "\n",
        "Specify a Variable Type\n",
        "\n",
        "There may be times when you want to specify a type  on to a variable. This can be done with casting. Python is an Object-Oriented language,and as such it uses classes to define data types,including its primitive types.\n",
        "\n",
        "Casting in python is therefore done using constructor  functions:\n",
        "\n",
        "* int() - Constructs an integer number from an integer literal, a float literal(by removing all decimals),or a string\n",
        "literal(providing the sting represents a whole number)\n",
        "\n",
        "* float() - Constructs a float number from an integer literal, a float literal or a string literal(providing the string represents a float or an integer)\n",
        "\n",
        "* str() - Constructs a string from a wide variety of data types, including stirngs,integer literals and float literals"
      ],
      "metadata": {
        "id": "iWxkmItBv3W4"
      }
    },
    {
      "cell_type": "code",
      "source": [
        "# Example\n",
        "# Integers:\n",
        "\n",
        "x=int(1) # x will be 1\n",
        "y=int(2.8) # y will be 2\n",
        "z=int(\"3\") # z will be 3\n",
        "\n",
        "print(x)\n",
        "print(y)\n",
        "print(z)"
      ],
      "metadata": {
        "colab": {
          "base_uri": "https://localhost:8080/"
        },
        "id": "30wULhm9yQpy",
        "outputId": "6cd4f7f7-9d25-4938-8eef-56faee531663"
      },
      "execution_count": null,
      "outputs": [
        {
          "output_type": "stream",
          "name": "stdout",
          "text": [
            "1\n",
            "2\n",
            "3\n"
          ]
        }
      ]
    },
    {
      "cell_type": "code",
      "source": [
        "# Example\n",
        "\n",
        "# Floats:\n",
        "\n",
        "x=float(1) # x will be 1.0\n",
        "y=float(2.8) # y will be 2.8\n",
        "z=float(\"3\") # z will be 3.0\n",
        "w=float(\"4.2\") # w will be 4.2\n",
        "\n",
        "print(x)\n",
        "print(y)\n",
        "print(z)\n",
        "print(w)"
      ],
      "metadata": {
        "id": "R7Ub6cQH5ggk"
      },
      "execution_count": null,
      "outputs": []
    },
    {
      "cell_type": "code",
      "source": [
        "# Example\n",
        "# String\n",
        "\n",
        "x= str(\"s1\") # x will be 's1'\n",
        "y= str(2) # y will be '2'\n",
        "z=str(3.0) # z will be '3.0'\n",
        "\n",
        "print(x)\n",
        "print(y)\n",
        "print(z)"
      ],
      "metadata": {
        "colab": {
          "base_uri": "https://localhost:8080/"
        },
        "id": "77f2SRVs6i6m",
        "outputId": "6313a4d2-cad7-46f1-a4e8-897af2ede2cf"
      },
      "execution_count": null,
      "outputs": [
        {
          "output_type": "stream",
          "name": "stdout",
          "text": [
            "s1\n",
            "2\n",
            "3.0\n"
          ]
        }
      ]
    },
    {
      "cell_type": "markdown",
      "source": [
        "# Python String\n",
        "\n",
        "Strings\n",
        "\n",
        "Strings in python are surrounded by either single quotation marks, or double quotaion marks\n",
        "\n",
        "'hello' is the same as \"hello\".\n",
        "\n",
        "You can display a string literal with the print() function"
      ],
      "metadata": {
        "id": "eaIHTe2D7Dnv"
      }
    },
    {
      "cell_type": "code",
      "source": [
        "# Example\n",
        "\n",
        "print(\"Hello\")\n",
        "print('Hello')"
      ],
      "metadata": {
        "id": "SOzjI_XL-JGa"
      },
      "execution_count": null,
      "outputs": []
    },
    {
      "cell_type": "markdown",
      "source": [
        "# Assign String to a Variable\n",
        "\n",
        "Assigning a string to a  variable is done with the variable name follwed by an equal sign and the string:"
      ],
      "metadata": {
        "id": "8QoG_CyV-QBP"
      }
    },
    {
      "cell_type": "code",
      "source": [
        "a=\"Hello\"\n",
        "print(a)"
      ],
      "metadata": {
        "colab": {
          "base_uri": "https://localhost:8080/"
        },
        "id": "qIjInd6F-i_5",
        "outputId": "eec2f9d7-8084-4e7e-a268-17c93fc5557c"
      },
      "execution_count": null,
      "outputs": [
        {
          "output_type": "stream",
          "name": "stdout",
          "text": [
            "Hello\n"
          ]
        }
      ]
    },
    {
      "cell_type": "markdown",
      "source": [
        "# Multiline Strings\n",
        "\n",
        "You can assign a multiline string to a variabel by using three quotes:\n"
      ],
      "metadata": {
        "id": "haCgu9iJ-pkH"
      }
    },
    {
      "cell_type": "code",
      "source": [
        "# Example\n",
        "\n",
        "# You can use three double quotes:\n",
        "\n",
        "a=\"\"\"Lorem ipsum dolor sit amet,\n",
        "consectetur adipiscing elit,\n",
        "sed do eiusmod tempor incididunt\n",
        "ut labore et dolore magna aliqua.\"\"\"\n",
        "\n",
        "print(a)"
      ],
      "metadata": {
        "colab": {
          "base_uri": "https://localhost:8080/"
        },
        "id": "94zbjl-H-2-H",
        "outputId": "20219f25-22df-471d-8afd-49187282759d"
      },
      "execution_count": null,
      "outputs": [
        {
          "output_type": "stream",
          "name": "stdout",
          "text": [
            "Lorem ipsum dolor sit amet,\n",
            "consectetur adipiscing elit,\n",
            "sed do eiusmod tempor incididunt\n",
            "ut labore et dolore magna aliqua.\n"
          ]
        }
      ]
    },
    {
      "cell_type": "code",
      "source": [
        "# Or three single quotes:\n",
        "\n",
        "# Example\n",
        "\n",
        "a='''Lorem ipsum dolor sit amet,\n",
        "consectetur adipiscing elit,\n",
        "sed do eiusmod tempor incididunt\n",
        "ut labore et dolore magna aliqua.'''\n",
        "\n",
        "print(a)\n"
      ],
      "metadata": {
        "colab": {
          "base_uri": "https://localhost:8080/"
        },
        "id": "12o4Bbb2_bP8",
        "outputId": "ae056b28-2804-49f7-c58b-3d4a31c2b306"
      },
      "execution_count": null,
      "outputs": [
        {
          "output_type": "stream",
          "name": "stdout",
          "text": [
            "Lorem ipsum dolor sit amet,\n",
            "consectetur adipiscing elit,\n",
            "sed do eiusmod tempor incididunt\n",
            "ut labore et dolore magna aliqua.\n"
          ]
        }
      ]
    },
    {
      "cell_type": "markdown",
      "source": [
        "# Note: In the result, the line breakes are inserted at the same position as in the code."
      ],
      "metadata": {
        "id": "MXbPKMYa_l29"
      }
    },
    {
      "cell_type": "markdown",
      "source": [
        "# Strings are Arrays\n",
        "\n",
        "Like many other popular programming languages, strings in Python are arrays of bytes representing unicode characters.\n",
        "\n",
        "However, Python does not have a character data type, a single character is simply a string with a length of 1.\n",
        "\n",
        "Square brackets can be used to access elements of the string"
      ],
      "metadata": {
        "id": "L6ZpKTfT_zXt"
      }
    },
    {
      "cell_type": "code",
      "source": [
        "# Example\n",
        "\n",
        "#Get the character at position 1 (remember that the first character has the position 0):\n",
        "\n",
        "a=\"Hello World!\"\n",
        "print(a[1])"
      ],
      "metadata": {
        "colab": {
          "base_uri": "https://localhost:8080/"
        },
        "id": "Q4aDg22dA1X1",
        "outputId": "a2cee3b6-446b-4298-8f13-8f346925a93e"
      },
      "execution_count": null,
      "outputs": [
        {
          "output_type": "stream",
          "name": "stdout",
          "text": [
            "e\n"
          ]
        }
      ]
    },
    {
      "cell_type": "markdown",
      "source": [
        "# Looping Through a String\n",
        "\n",
        "Since string are arrays, we can loop through the characters in a string,with a for loop."
      ],
      "metadata": {
        "id": "YT1O4_R6BRru"
      }
    },
    {
      "cell_type": "code",
      "source": [
        "# Example\n",
        "\n",
        "#Loop through the letters in the word \"banana\":\n",
        "\n",
        "for x in \"banana\":\n",
        "  print(x)"
      ],
      "metadata": {
        "colab": {
          "base_uri": "https://localhost:8080/"
        },
        "id": "eApro1v2BgAj",
        "outputId": "19d43b70-39dc-4fe1-85ed-0727fd01f89d"
      },
      "execution_count": null,
      "outputs": [
        {
          "output_type": "stream",
          "name": "stdout",
          "text": [
            "b\n",
            "a\n",
            "n\n",
            "a\n",
            "n\n",
            "a\n"
          ]
        }
      ]
    },
    {
      "cell_type": "markdown",
      "source": [
        "String Lenght\n",
        "\n",
        "To get the length of a string,use the len() function."
      ],
      "metadata": {
        "id": "TOksdUDvB5bD"
      }
    },
    {
      "cell_type": "code",
      "source": [
        "# Example\n",
        "#The len() function returns the length of a string:\n",
        "a=\"Hello, World!\"\n",
        "print(len(a))"
      ],
      "metadata": {
        "colab": {
          "base_uri": "https://localhost:8080/"
        },
        "id": "LZFEIVxcCGRi",
        "outputId": "005ef666-b49a-4907-8cbe-897b9e909259"
      },
      "execution_count": null,
      "outputs": [
        {
          "output_type": "stream",
          "name": "stdout",
          "text": [
            "13\n"
          ]
        }
      ]
    },
    {
      "cell_type": "markdown",
      "source": [
        "# Check String\n",
        "\n",
        "To check if a certain phrase or character is present in a string, we can use the keyword in"
      ],
      "metadata": {
        "id": "7zMCeM9XCdak"
      }
    },
    {
      "cell_type": "code",
      "source": [
        "# Example\n",
        "\n",
        "#Check if \"free\" is present in the following text:\n",
        "\n",
        "txt= \"The best things in life are free!\"\n",
        "print(\"free\" in txt)\n",
        "txt =\"010000100 \"\n",
        "print(\"0\" in txt)"
      ],
      "metadata": {
        "colab": {
          "base_uri": "https://localhost:8080/"
        },
        "id": "CALHjbgeCZ2C",
        "outputId": "8dd501cf-e345-4db0-d6b5-057c94873166"
      },
      "execution_count": null,
      "outputs": [
        {
          "output_type": "stream",
          "name": "stdout",
          "text": [
            "True\n",
            "True\n"
          ]
        }
      ]
    },
    {
      "cell_type": "code",
      "source": [
        "# Use it in an if statement:\n",
        "\n",
        "# Print only if \"free\" is present:\n",
        "\n",
        "txt =\"The best things in life are free!\"\n",
        "\n",
        "if \"free\" in txt:\n",
        "  print(\"Yes,'free' is present.\")"
      ],
      "metadata": {
        "colab": {
          "base_uri": "https://localhost:8080/"
        },
        "id": "MGIpXO72ET6p",
        "outputId": "6363672b-d963-491b-a971-e3c87ec02f90"
      },
      "execution_count": null,
      "outputs": [
        {
          "output_type": "stream",
          "name": "stdout",
          "text": [
            "Yes,'free' is present.\n"
          ]
        }
      ]
    },
    {
      "cell_type": "code",
      "source": [
        "# Example\n",
        "\n",
        "# Check if \"expensive\" is NOT Present in the following text:\n",
        "\n",
        "txt=\"The best things in life are free!\"\n",
        "print(\"best\" not in txt)"
      ],
      "metadata": {
        "colab": {
          "base_uri": "https://localhost:8080/"
        },
        "id": "hDzDoDOdGKfj",
        "outputId": "77099f2f-379d-41b9-e7c8-44976adab91f"
      },
      "execution_count": null,
      "outputs": [
        {
          "output_type": "stream",
          "name": "stdout",
          "text": [
            "False\n"
          ]
        }
      ]
    },
    {
      "cell_type": "code",
      "source": [
        "# Use it in an if statement:\n",
        "\n",
        "# Example\n",
        "\n",
        "# print only if \"expensive\" is NOT present:\n",
        "\n",
        "txt=\"The best things in life are free!\"\n",
        "\n",
        "if \"expensive\" not in txt:\n",
        "  print(\"No,'expensive' is NOT present.\")\n",
        "\n",
        "if \"best\" not in txt:\n",
        "  print(\"No,'best' is NOT present.\")"
      ],
      "metadata": {
        "colab": {
          "base_uri": "https://localhost:8080/"
        },
        "id": "LR3Re91iGomT",
        "outputId": "eb1168c6-dc61-4979-bae5-d812cfc4370c"
      },
      "execution_count": null,
      "outputs": [
        {
          "output_type": "stream",
          "name": "stdout",
          "text": [
            "No,'expensive' is NOT present.\n"
          ]
        }
      ]
    },
    {
      "cell_type": "markdown",
      "source": [
        "# Python - Slicing Strings\n",
        "\n",
        "Slicing\n",
        "\n",
        "You can return a range of characters by using the slice syntax.\n",
        "\n",
        "Specify the start index and the end index,separated by a colon,to return a part of the string."
      ],
      "metadata": {
        "id": "KZeq7j6UHOci"
      }
    },
    {
      "cell_type": "code",
      "source": [
        "# Example\n",
        "\n",
        "# Get the characters form position 2 to position 5(not included):\n",
        "b=\"Hello, World!\"\n",
        "print(b[2:5])"
      ],
      "metadata": {
        "colab": {
          "base_uri": "https://localhost:8080/"
        },
        "id": "qE4ebit1Hlzm",
        "outputId": "0889e862-1b29-49ac-dcc6-0f2b236aa65e"
      },
      "execution_count": null,
      "outputs": [
        {
          "output_type": "stream",
          "name": "stdout",
          "text": [
            "llo\n"
          ]
        }
      ]
    },
    {
      "cell_type": "markdown",
      "source": [
        "# Note The first Character has index 0."
      ],
      "metadata": {
        "id": "kMPEI_6aH7Nu"
      }
    },
    {
      "cell_type": "markdown",
      "source": [
        "# Slice From the Start\n",
        "\n",
        "By leaving out the start index, the range will start at the first character:\n"
      ],
      "metadata": {
        "id": "E4bkLNgvIC_y"
      }
    },
    {
      "cell_type": "code",
      "source": [
        "# Example\n",
        "#Get the characters from the start to position 5(not included):\n",
        "\n",
        "b=\"Hello, World!\"\n",
        "print(b[:5])"
      ],
      "metadata": {
        "colab": {
          "base_uri": "https://localhost:8080/"
        },
        "id": "siufJl-TIXvD",
        "outputId": "30a13366-5ae9-4846-9248-f855ca0c246a"
      },
      "execution_count": null,
      "outputs": [
        {
          "output_type": "stream",
          "name": "stdout",
          "text": [
            "Hello\n"
          ]
        }
      ]
    },
    {
      "cell_type": "markdown",
      "source": [
        "# Slice To the End\n",
        "By  leaving out the end index,the range will go to the end:"
      ],
      "metadata": {
        "id": "WyZsPzFgIw4L"
      }
    },
    {
      "cell_type": "code",
      "source": [
        "# Example\n",
        "# Get the characters from postion 2, and the way to the end:\n",
        "\n",
        "b= \"Hello, World!\"\n",
        "print(b[2:])"
      ],
      "metadata": {
        "colab": {
          "base_uri": "https://localhost:8080/"
        },
        "id": "U37_avyOI6s8",
        "outputId": "1e707d4b-2223-4765-9b49-430ff3f49866"
      },
      "execution_count": null,
      "outputs": [
        {
          "output_type": "stream",
          "name": "stdout",
          "text": [
            "llo, World!\n"
          ]
        }
      ]
    },
    {
      "cell_type": "markdown",
      "source": [
        "# Negative Indexing\n",
        "\n",
        "Use negative indexes to start the slice from the end of the string:"
      ],
      "metadata": {
        "id": "m9yLort-JOWk"
      }
    },
    {
      "cell_type": "code",
      "source": [
        "# Example\n",
        "# Get the characters:\n",
        "# From:\"o\" in \"World!\"(postion-5)\n",
        "# To,but not included:\"d\" in \"World!\" (position-2):\n",
        "\n",
        "b=\"Hello, World!\"\n",
        "print(b[-5:-2])"
      ],
      "metadata": {
        "colab": {
          "base_uri": "https://localhost:8080/"
        },
        "id": "_OCq_scdI79b",
        "outputId": "ac3114c4-afad-415a-8e16-133d17617110"
      },
      "execution_count": null,
      "outputs": [
        {
          "output_type": "stream",
          "name": "stdout",
          "text": [
            "orl\n"
          ]
        }
      ]
    },
    {
      "cell_type": "markdown",
      "source": [
        "# Python - Modify Strings\n",
        "Python has a set of built-in methods that you can use on strings."
      ],
      "metadata": {
        "id": "yEGMvEEAKNNj"
      }
    },
    {
      "cell_type": "code",
      "source": [
        "# Upper Case\n",
        "\n",
        "# Example\n",
        "# The upper() method returns the string in upper case:\n",
        "a=\"Hello, World!\"\n",
        "print(a.upper())\n",
        "print(a)"
      ],
      "metadata": {
        "colab": {
          "base_uri": "https://localhost:8080/"
        },
        "id": "3YnpetzdKalx",
        "outputId": "b8bcf7ad-6626-46ca-c7c0-093e89192346"
      },
      "execution_count": null,
      "outputs": [
        {
          "output_type": "stream",
          "name": "stdout",
          "text": [
            "HELLO, WORLD!\n",
            "Hello, World!\n"
          ]
        }
      ]
    },
    {
      "cell_type": "code",
      "source": [
        "# Lower Case\n",
        "\n",
        "# Example\n",
        "# The lower() method returns the string in lower case:\n",
        "\n",
        "a=\"Hello, World!\"\n",
        "print(a.lower())\n",
        "print(a)\n"
      ],
      "metadata": {
        "colab": {
          "base_uri": "https://localhost:8080/"
        },
        "id": "8DHEqxzqKq1_",
        "outputId": "c5476f89-3a4c-47ab-9417-759232832ac8"
      },
      "execution_count": null,
      "outputs": [
        {
          "output_type": "stream",
          "name": "stdout",
          "text": [
            "hello, world!\n",
            "Hello, World!\n",
            "Hello, World!\n"
          ]
        }
      ]
    },
    {
      "cell_type": "markdown",
      "source": [
        "# Remove Whitespace\n",
        "Whitespace is the space before and/or after the actual text,and very often you want to remove this spaces."
      ],
      "metadata": {
        "id": "BWzpr6JsLL48"
      }
    },
    {
      "cell_type": "code",
      "source": [
        "# Example\n",
        "# The strip() method removes any whitespace from the beginning or the end:\n",
        "\n",
        "a=\"  Hello, World!  \"\n",
        "\n",
        "print(a.strip()) # returns \"Hello,World!\"\n",
        "\n",
        "print(a)"
      ],
      "metadata": {
        "colab": {
          "base_uri": "https://localhost:8080/"
        },
        "id": "8UkfPwQ-LKR6",
        "outputId": "7d3e38c1-a7cc-4c69-909d-63efc612f2e7"
      },
      "execution_count": null,
      "outputs": [
        {
          "output_type": "stream",
          "name": "stdout",
          "text": [
            "Hello, World!\n",
            "  Hello, World!  \n"
          ]
        }
      ]
    },
    {
      "cell_type": "markdown",
      "source": [
        "# Replace String\n",
        "The replace() method replaces a string with another string:"
      ],
      "metadata": {
        "id": "Z5ARYxB4L-f8"
      }
    },
    {
      "cell_type": "code",
      "source": [
        "# Example\n",
        "\n",
        "a=\"Hello, HWorld!\"\n",
        "print(a.replace(\"H\",\"J\"))\n",
        "print(a)"
      ],
      "metadata": {
        "colab": {
          "base_uri": "https://localhost:8080/"
        },
        "id": "7nxTg9XSL8da",
        "outputId": "ce9d85d1-4969-4ab1-b18e-502559535b5d"
      },
      "execution_count": null,
      "outputs": [
        {
          "output_type": "stream",
          "name": "stdout",
          "text": [
            "Jello, JWorld!\n",
            "Hello, HWorld!\n"
          ]
        }
      ]
    },
    {
      "cell_type": "markdown",
      "source": [
        "# Split String\n",
        "The split() method returns a list where the text between the specified separator becomes the list items."
      ],
      "metadata": {
        "id": "I9Whq1RUMcik"
      }
    },
    {
      "cell_type": "code",
      "source": [
        "# Example\n",
        "# The split() method split the string into substrings if it finds instances of the separator:\n",
        "\n",
        "a=\"Hello, World!\"\n",
        "print(a.split(\"o\")) # returns ['Hello',' World!']\n",
        "print(a)"
      ],
      "metadata": {
        "colab": {
          "base_uri": "https://localhost:8080/"
        },
        "id": "f7PoWvMFMbOE",
        "outputId": "f72d6c73-c17a-49f3-f0b4-aa13a26e1f54"
      },
      "execution_count": null,
      "outputs": [
        {
          "output_type": "stream",
          "name": "stdout",
          "text": [
            "['Hell', ', W', 'rld!']\n",
            "Hello, World!\n"
          ]
        }
      ]
    },
    {
      "cell_type": "markdown",
      "source": [
        "# Python - String Concatenation\n",
        "\n",
        "String Concatenation\n",
        "\n",
        "To concatenation, or combine,two strings you can use the + operator."
      ],
      "metadata": {
        "id": "fb_8fW8ER07U"
      }
    },
    {
      "cell_type": "code",
      "source": [
        "# Example\n",
        "# Merge variable a with variable b into variable c:\n",
        "\n",
        "a=\"Hello\"\n",
        "b=\"World\"\n",
        "c=a+b\n",
        "print(c)"
      ],
      "metadata": {
        "colab": {
          "base_uri": "https://localhost:8080/"
        },
        "id": "IIG2ok05SGmQ",
        "outputId": "374a317f-44e0-49b6-d1c7-0cbc441b88a9"
      },
      "execution_count": null,
      "outputs": [
        {
          "output_type": "stream",
          "name": "stdout",
          "text": [
            "HelloWorld\n"
          ]
        }
      ]
    },
    {
      "cell_type": "code",
      "source": [
        "# Example\n",
        "# To add a space between them, add a \" \":\n",
        "a=\"Hello\"\n",
        "b=\"Word\"\n",
        "c=a+\" \"+b\n",
        "print(c)"
      ],
      "metadata": {
        "colab": {
          "base_uri": "https://localhost:8080/"
        },
        "id": "PbM5qJSsSVKn",
        "outputId": "c1a3a90d-8125-4c2d-f068-94e02de675c3"
      },
      "execution_count": null,
      "outputs": [
        {
          "output_type": "stream",
          "name": "stdout",
          "text": [
            "Hello Word\n"
          ]
        }
      ]
    },
    {
      "cell_type": "markdown",
      "source": [
        "# Python - Format - Strings\n",
        "String Format\n",
        "\n",
        "As we learned in the Python Variables chapter, we cannot combine strings and numbers like this:"
      ],
      "metadata": {
        "id": "KAAwPGvpSo1C"
      }
    },
    {
      "cell_type": "code",
      "source": [
        "age=36\n",
        "txt=\"My name is John, I am\"+age\n",
        "print(txt)"
      ],
      "metadata": {
        "colab": {
          "base_uri": "https://localhost:8080/",
          "height": 213
        },
        "id": "Nr6S90-vTAWj",
        "outputId": "3326ae66-f6c1-43a3-dd4c-62bdc97d464c"
      },
      "execution_count": null,
      "outputs": [
        {
          "output_type": "error",
          "ename": "TypeError",
          "evalue": "ignored",
          "traceback": [
            "\u001b[0;31m---------------------------------------------------------------------------\u001b[0m",
            "\u001b[0;31mTypeError\u001b[0m                                 Traceback (most recent call last)",
            "\u001b[0;32m<ipython-input-59-8384f1bb3a01>\u001b[0m in \u001b[0;36m<cell line: 2>\u001b[0;34m()\u001b[0m\n\u001b[1;32m      1\u001b[0m \u001b[0mage\u001b[0m\u001b[0;34m=\u001b[0m\u001b[0;36m36\u001b[0m\u001b[0;34m\u001b[0m\u001b[0;34m\u001b[0m\u001b[0m\n\u001b[0;32m----> 2\u001b[0;31m \u001b[0mtxt\u001b[0m\u001b[0;34m=\u001b[0m\u001b[0;34m\"My name is John, I am\"\u001b[0m\u001b[0;34m+\u001b[0m\u001b[0mage\u001b[0m\u001b[0;34m\u001b[0m\u001b[0;34m\u001b[0m\u001b[0m\n\u001b[0m\u001b[1;32m      3\u001b[0m \u001b[0mprint\u001b[0m\u001b[0;34m(\u001b[0m\u001b[0mtxt\u001b[0m\u001b[0;34m)\u001b[0m\u001b[0;34m\u001b[0m\u001b[0;34m\u001b[0m\u001b[0m\n",
            "\u001b[0;31mTypeError\u001b[0m: can only concatenate str (not \"int\") to str"
          ]
        }
      ]
    },
    {
      "cell_type": "markdown",
      "source": [
        "But we can combine stings and numbers by using the format() method!.\n",
        "\n",
        "The format() method takes the passed arguments, formats them, and places them in the string where the placeholders{} are\n",
        "\n"
      ],
      "metadata": {
        "id": "-CURiSp0Tahe"
      }
    },
    {
      "cell_type": "code",
      "source": [
        "age =36\n",
        "txt =\"My name is John, and I am {}\"\n",
        "print(txt.format(age))"
      ],
      "metadata": {
        "colab": {
          "base_uri": "https://localhost:8080/"
        },
        "id": "kOCQwydtV4Hn",
        "outputId": "d29038b4-2b78-4e53-f4af-4068c7019ae0"
      },
      "execution_count": null,
      "outputs": [
        {
          "output_type": "stream",
          "name": "stdout",
          "text": [
            "My name is John, and I am 36\n"
          ]
        }
      ]
    },
    {
      "cell_type": "markdown",
      "source": [
        "The format() method takes unlimited number of arguments, and are placed into the respective placeholders:"
      ],
      "metadata": {
        "id": "2eXpEVY_WYbM"
      }
    },
    {
      "cell_type": "code",
      "source": [
        "# Example\n",
        "quantity =3\n",
        "itemno=567\n",
        "price=49.95\n",
        "myorder=\"I want {} pieces of item {} for {} dollars.\"\n",
        "print(myorder.format(quantity,itemno,price))\n"
      ],
      "metadata": {
        "id": "mvwOt7NuWjF3",
        "colab": {
          "base_uri": "https://localhost:8080/"
        },
        "outputId": "956c88e0-b235-40a4-a7ce-5062e3b822ab"
      },
      "execution_count": null,
      "outputs": [
        {
          "output_type": "stream",
          "name": "stdout",
          "text": [
            "I want 3 pieces of item 567 for 49.95 dollars.\n"
          ]
        }
      ]
    },
    {
      "cell_type": "markdown",
      "source": [
        "You can use index numbers {0} to be sure the arguments are placed in the correct placeholders:"
      ],
      "metadata": {
        "id": "7OS-ZPxSgrj4"
      }
    },
    {
      "cell_type": "code",
      "source": [
        "# Example\n",
        "quantity =3\n",
        "itemno=567\n",
        "price=49.95\n",
        "myorder=\"I want to pay {2} dollars for {0} pieces of item {1}\"\n",
        "print(myorder.format(quantity,itemno,price))"
      ],
      "metadata": {
        "colab": {
          "base_uri": "https://localhost:8080/"
        },
        "id": "Y573N4KlgpMP",
        "outputId": "9816439b-d068-4ff8-a5a9-cf70d5ef90ce"
      },
      "execution_count": null,
      "outputs": [
        {
          "output_type": "stream",
          "name": "stdout",
          "text": [
            "I want to pay 49.95 dollars for 3 pieces of item 567\n"
          ]
        }
      ]
    },
    {
      "cell_type": "markdown",
      "source": [
        "# Python - Escape Characters\n",
        "\n",
        "# Escape Character\n",
        "\n",
        "To insert characters that are illegal in a string, use an escape character.\n",
        "An escape character is a backslash \\ followed by the character you want to insert.\n",
        "An example of an illegal character is a double quote inside a string that is surrounded by double quotes:"
      ],
      "metadata": {
        "id": "LjcZfdjChd69"
      }
    },
    {
      "cell_type": "code",
      "source": [
        "# Example\n",
        "# You will get an error if you use double quotes inside a string that is surrounded by double quotes:\n",
        "\n",
        "txt=\"We are the so-called \"Vikings\" from the north.\""
      ],
      "metadata": {
        "colab": {
          "base_uri": "https://localhost:8080/",
          "height": 142
        },
        "id": "8XxsYPZ2iqd7",
        "outputId": "5edf547f-4494-405b-bac1-19e94f49cc12"
      },
      "execution_count": null,
      "outputs": [
        {
          "output_type": "error",
          "ename": "SyntaxError",
          "evalue": "ignored",
          "traceback": [
            "\u001b[0;36m  File \u001b[0;32m\"<ipython-input-64-944ad0468baa>\"\u001b[0;36m, line \u001b[0;32m4\u001b[0m\n\u001b[0;31m    txt=\"We are the so-called \"Vikings\" from the north.\"\u001b[0m\n\u001b[0m                               ^\u001b[0m\n\u001b[0;31mSyntaxError\u001b[0m\u001b[0;31m:\u001b[0m invalid syntax\n"
          ]
        }
      ]
    },
    {
      "cell_type": "markdown",
      "source": [
        "To fix this problem, use the character \\\":"
      ],
      "metadata": {
        "id": "V21nA7CTjCoG"
      }
    },
    {
      "cell_type": "code",
      "source": [
        "# Example:\n",
        "# The escape character allows you to use double quotes when you normally would not be allowed:\n",
        "\n",
        "txt=\"We are the so-called \\\"Vikings\\\" from the north.\"\n",
        "print(txt)"
      ],
      "metadata": {
        "colab": {
          "base_uri": "https://localhost:8080/"
        },
        "id": "i7CmI9w2jKlb",
        "outputId": "23d273ba-e52c-462e-aea0-57a4b8a7f9cb"
      },
      "execution_count": null,
      "outputs": [
        {
          "output_type": "stream",
          "name": "stdout",
          "text": [
            "We are the so-called \"Vikings\" from the north.\n"
          ]
        }
      ]
    },
    {
      "cell_type": "markdown",
      "source": [
        "# Escape Characters"
      ],
      "metadata": {
        "id": "enczVoTRkGAW"
      }
    },
    {
      "cell_type": "markdown",
      "source": [
        "# Single Quote"
      ],
      "metadata": {
        "id": "NcNN4_XCnEi5"
      }
    },
    {
      "cell_type": "code",
      "source": [
        "txt='It\\'s alright.'\n",
        "print(txt)"
      ],
      "metadata": {
        "colab": {
          "base_uri": "https://localhost:8080/"
        },
        "id": "1brmakUnk8zo",
        "outputId": "6477b0e0-e832-4e0b-96c6-3caa4bdf8fe4"
      },
      "execution_count": null,
      "outputs": [
        {
          "output_type": "stream",
          "name": "stdout",
          "text": [
            "It's alright.\n"
          ]
        }
      ]
    },
    {
      "cell_type": "markdown",
      "source": [
        "# Backslash\n"
      ],
      "metadata": {
        "id": "ZsPsMu3MnIuc"
      }
    },
    {
      "cell_type": "code",
      "source": [
        "txt=\"This will insert one \\\\ (backslash).\"\n",
        "print(txt)"
      ],
      "metadata": {
        "colab": {
          "base_uri": "https://localhost:8080/"
        },
        "id": "tDbr8CLqoTH9",
        "outputId": "b9ab4be3-bf56-4042-a02b-c0145ffa9db7"
      },
      "execution_count": null,
      "outputs": [
        {
          "output_type": "stream",
          "name": "stdout",
          "text": [
            "This will insert one \\ (backslash).\n"
          ]
        }
      ]
    },
    {
      "cell_type": "markdown",
      "source": [
        "# New Line"
      ],
      "metadata": {
        "id": "oM1eqxQHojy4"
      }
    },
    {
      "cell_type": "code",
      "source": [
        "txt=\"Hello\\nWorld!\"\n",
        "print(txt)"
      ],
      "metadata": {
        "colab": {
          "base_uri": "https://localhost:8080/"
        },
        "id": "BbAMtFqQofau",
        "outputId": "b5c5837f-edfc-4a7b-d7bb-9c25808341c6"
      },
      "execution_count": null,
      "outputs": [
        {
          "output_type": "stream",
          "name": "stdout",
          "text": [
            "Hello\n",
            "World!\n"
          ]
        }
      ]
    },
    {
      "cell_type": "markdown",
      "source": [
        "# Carriage Return"
      ],
      "metadata": {
        "id": "WLyDPvhYo2Pk"
      }
    },
    {
      "cell_type": "code",
      "source": [
        "txt=\"Hello\\rWorld!\"\n",
        "print(txt)"
      ],
      "metadata": {
        "colab": {
          "base_uri": "https://localhost:8080/"
        },
        "id": "SX8g4Ldko5om",
        "outputId": "3a6d31eb-a496-477d-d68a-03338c0e5f71"
      },
      "execution_count": null,
      "outputs": [
        {
          "output_type": "stream",
          "name": "stdout",
          "text": [
            "Hello\rWorld!\n"
          ]
        }
      ]
    },
    {
      "cell_type": "markdown",
      "source": [
        "# Tap"
      ],
      "metadata": {
        "id": "5kfrclkhpeoW"
      }
    },
    {
      "cell_type": "code",
      "source": [
        "txt=\"Hello\\tWordl!\"\n",
        "print(txt)"
      ],
      "metadata": {
        "colab": {
          "base_uri": "https://localhost:8080/"
        },
        "id": "zhYuxTFmpglK",
        "outputId": "b1c4b4cc-fe1c-4dff-fcc2-9ae0588dfd1c"
      },
      "execution_count": null,
      "outputs": [
        {
          "output_type": "stream",
          "name": "stdout",
          "text": [
            "Hello\tWordl!\n"
          ]
        }
      ]
    },
    {
      "cell_type": "markdown",
      "source": [
        "# BackSpace"
      ],
      "metadata": {
        "id": "gGWFb8jCpq0S"
      }
    },
    {
      "cell_type": "code",
      "source": [
        "# This example erases one chracters (backespace):\n",
        "txt=\"Hello \\bWorld!\"\n",
        "print(txt)"
      ],
      "metadata": {
        "colab": {
          "base_uri": "https://localhost:8080/"
        },
        "id": "GymZ1sX3p0Bm",
        "outputId": "10265996-7a78-4070-bd48-34b1d82c00a7"
      },
      "execution_count": null,
      "outputs": [
        {
          "output_type": "stream",
          "name": "stdout",
          "text": [
            "Hello \bWorld!\n"
          ]
        }
      ]
    },
    {
      "cell_type": "markdown",
      "source": [
        "# Form Feed"
      ],
      "metadata": {
        "id": "RCt3G3U5qCng"
      }
    },
    {
      "cell_type": "code",
      "source": [
        "txt =\"Hello\\fWorld!\"\n",
        "print(txt)"
      ],
      "metadata": {
        "colab": {
          "base_uri": "https://localhost:8080/"
        },
        "id": "OKp1emRCqGQZ",
        "outputId": "9cb184fa-047d-460e-c66c-9a2766800710"
      },
      "execution_count": null,
      "outputs": [
        {
          "output_type": "stream",
          "name": "stdout",
          "text": [
            "Hello\fWorld!\n"
          ]
        }
      ]
    },
    {
      "cell_type": "markdown",
      "source": [
        "# Ocatal Value"
      ],
      "metadata": {
        "id": "lodXGdWrqYKz"
      }
    },
    {
      "cell_type": "code",
      "source": [
        "# A backslach followed by three integers will result in octal value:\n",
        "txt = \"\\110\\145\\154\\154\\157\"\n",
        "print(txt)"
      ],
      "metadata": {
        "colab": {
          "base_uri": "https://localhost:8080/"
        },
        "id": "VfxvhpnMqVS0",
        "outputId": "ef99f902-8f3c-4f12-aef5-b8a656d93275"
      },
      "execution_count": null,
      "outputs": [
        {
          "output_type": "stream",
          "name": "stdout",
          "text": [
            "Hello\n"
          ]
        }
      ]
    },
    {
      "cell_type": "markdown",
      "source": [
        "# Hex value\n"
      ],
      "metadata": {
        "id": "pKztLBj0rLbe"
      }
    },
    {
      "cell_type": "code",
      "source": [
        "# A backslash followed by an 'x' and a hex number represents a hex vlaue :\n",
        "txt=\"\\x48\\x65\\x6c\\x6c\\x6f\"\n",
        "print(txt)"
      ],
      "metadata": {
        "colab": {
          "base_uri": "https://localhost:8080/"
        },
        "id": "B1cayi2TrRiw",
        "outputId": "4575526c-a4bb-4e7d-bb81-72641f547736"
      },
      "execution_count": null,
      "outputs": [
        {
          "output_type": "stream",
          "name": "stdout",
          "text": [
            "Hello\n"
          ]
        }
      ]
    },
    {
      "cell_type": "markdown",
      "source": [
        "# Python - String Methods\n",
        "\n",
        "# String Methods\n",
        "\n",
        "Python has a set of built-in methods that you can use on strings.\n",
        "\n",
        "# Note: All String methods return new values. They do not change the original string."
      ],
      "metadata": {
        "id": "oWS6q1Onrx9Z"
      }
    },
    {
      "cell_type": "markdown",
      "source": [
        "# Capitalize()\n",
        "   Converts the first character to upper case"
      ],
      "metadata": {
        "id": "YAQhrSwbtjE7"
      }
    },
    {
      "cell_type": "code",
      "source": [
        "# Example\n",
        "# Upper case the first letter in this sentence:\n",
        "\n",
        "txt=\"hello, and  welcome to my world.\"\n",
        "x=txt.capitalize()\n",
        "print(x)"
      ],
      "metadata": {
        "colab": {
          "base_uri": "https://localhost:8080/"
        },
        "id": "EpGadPPOteqG",
        "outputId": "cffcc922-7b70-4446-d7aa-fedc4ccdb636"
      },
      "execution_count": null,
      "outputs": [
        {
          "output_type": "stream",
          "name": "stdout",
          "text": [
            "Hello, and  welcome to my world.\n"
          ]
        }
      ]
    },
    {
      "cell_type": "markdown",
      "source": [
        "# Definition and Usage\n",
        "\n",
        "The capitalize() method returns a string where the first character is upper case,and the rest is lower case.\n",
        "\n",
        "# Syntax\n",
        "\n",
        "string.capitalize()\n",
        "\n",
        "# parameter Values\n",
        "\n",
        "No parameters"
      ],
      "metadata": {
        "id": "ITTgqNRouKj0"
      }
    },
    {
      "cell_type": "code",
      "source": [
        "# More Examples\n",
        "\n",
        "# Example\n",
        "\n",
        "# The first character is converted to upper case, and the rest are converted to lower case:\n",
        "txt=\"python is FUN!\"\n",
        "\n",
        "x=txt.capitalize()\n",
        "print(x)\n",
        "\n",
        "# Example\n",
        "txt=\"36 is my age.\"\n",
        "x=txt.capitalize()\n",
        "print(x)"
      ],
      "metadata": {
        "colab": {
          "base_uri": "https://localhost:8080/"
        },
        "id": "86iOM91Duztv",
        "outputId": "8acba48a-3e2e-4df7-ae95-397df7e82d45"
      },
      "execution_count": null,
      "outputs": [
        {
          "output_type": "stream",
          "name": "stdout",
          "text": [
            "Python is fun!\n",
            "36 is my age.\n"
          ]
        }
      ]
    },
    {
      "cell_type": "markdown",
      "source": [
        "# Python String casefold() Method\n"
      ],
      "metadata": {
        "id": "OP51x8qFvePk"
      }
    },
    {
      "cell_type": "code",
      "source": [
        "# Example\n",
        "# Make the string lower  case:\n",
        "\n",
        "txt=\"Hello, And WElcome To My World!\"\n",
        "x=txt.casefold()\n",
        "print(x)"
      ],
      "metadata": {
        "colab": {
          "base_uri": "https://localhost:8080/"
        },
        "id": "PPsV7VT4voIQ",
        "outputId": "1b8cfead-9756-4219-d93e-29a16cde5f0b"
      },
      "execution_count": null,
      "outputs": [
        {
          "output_type": "stream",
          "name": "stdout",
          "text": [
            "hello, and welcome to my world!\n"
          ]
        }
      ]
    },
    {
      "cell_type": "markdown",
      "source": [
        "# Definition and Usage\n",
        "\n",
        "The casefold() method returns a string where all the characters are lower case.\n",
        "This method is similar to the lower() method,but the casefold() method is stronger,more aggressive,meaning that it will convert more characters into lower case, and will find more matches when comparing two strings and both are converted using the casefold() method.\n",
        "\n",
        "# Syntax\n",
        "string.casefold()\n",
        "\n",
        "# Parameter Values\n",
        "\n",
        "No parameters"
      ],
      "metadata": {
        "id": "PnhUdcNCv6WC"
      }
    },
    {
      "cell_type": "markdown",
      "source": [
        "# Python - String center() Method"
      ],
      "metadata": {
        "id": "NkB221aIxpcC"
      }
    },
    {
      "cell_type": "code",
      "source": [
        "# Example\n",
        "# Print the word \"banana\", taking up the space of 20 characters, with \"banana\" in the middle:\n",
        "\n",
        "txt=\"banana\"\n",
        "x=txt.center(20)\n",
        "print(x)"
      ],
      "metadata": {
        "colab": {
          "base_uri": "https://localhost:8080/"
        },
        "id": "ytAgfJpfxt8H",
        "outputId": "ea26a128-7148-4f5c-ddbe-05c9bae26acd"
      },
      "execution_count": null,
      "outputs": [
        {
          "output_type": "stream",
          "name": "stdout",
          "text": [
            "       banana       \n"
          ]
        }
      ]
    },
    {
      "cell_type": "markdown",
      "source": [
        "# Definition and Usage\n",
        "The center() method will center align the string , using a specified character (space is default) as the fill character.\n",
        "\n",
        "# Syntax\n",
        "string.center(length,character)\n",
        "\n",
        "# Parameter  Values\n",
        "\n",
        "length =>  Required.The length of the returned string\n",
        "\n",
        "character=> Optional. The character to fill the missing space on each side. Default is \" \"(space)"
      ],
      "metadata": {
        "id": "5QX7yZiwySFK"
      }
    },
    {
      "cell_type": "code",
      "source": [
        "# Example\n",
        "txt=\"banana\"\n",
        "x=txt.center(20,\"P\")\n",
        "print(x)"
      ],
      "metadata": {
        "colab": {
          "base_uri": "https://localhost:8080/"
        },
        "id": "hysUcDhlzHdU",
        "outputId": "41e1f0c3-c6c6-44d2-f9ad-12876816f04b"
      },
      "execution_count": null,
      "outputs": [
        {
          "output_type": "stream",
          "name": "stdout",
          "text": [
            "PPPPPPPbananaPPPPPPP\n"
          ]
        }
      ]
    },
    {
      "cell_type": "markdown",
      "source": [
        "# Python String count() Method\n"
      ],
      "metadata": {
        "id": "yhjtVqML0Goy"
      }
    },
    {
      "cell_type": "code",
      "source": [
        "# Example\n",
        "# Return the number of times the value \"apple\" appears in the string :\n",
        "\n",
        "txt=\"I love apples,apple are my favorite fruit\"\n",
        "\n",
        "x=txt.count(\"apple\")\n",
        "\n",
        "print(x)"
      ],
      "metadata": {
        "colab": {
          "base_uri": "https://localhost:8080/"
        },
        "id": "c87NzjNn0L28",
        "outputId": "e1d4d1bb-6ceb-43b6-9bff-e5def764f4a0"
      },
      "execution_count": null,
      "outputs": [
        {
          "output_type": "stream",
          "name": "stdout",
          "text": [
            "2\n"
          ]
        }
      ]
    },
    {
      "cell_type": "markdown",
      "source": [
        "# Definition and Usage\n",
        "\n",
        "The count() method returns the number of times a specified value appears in the string.\n",
        "\n",
        "# Syntax\n",
        "\n",
        "String.count(value,start,end)\n",
        "\n",
        "# Parameter Values\n",
        "\n",
        "value => Required. A String. The string to value to search for\n",
        "\n",
        "start => Optional. An Integer. The position to start the search. Default is 0\n",
        "\n",
        "end=>  Optional . An Interger. The position to end the search. Default is the end of the string."
      ],
      "metadata": {
        "id": "7Zox3tf20j6h"
      }
    },
    {
      "cell_type": "code",
      "source": [
        "# More Examples\n",
        "\n",
        "# search from position 10 to 24:\n",
        "\n",
        "txt=\"I love apples, apple are my favorite fruit\"\n",
        "\n",
        "x=txt.count(\"apple\",7,24)\n",
        "\n",
        "print(x)"
      ],
      "metadata": {
        "colab": {
          "base_uri": "https://localhost:8080/"
        },
        "id": "yMwVRKYx1gZ2",
        "outputId": "367dc9d9-4948-4b99-d79e-fd3747d67575"
      },
      "execution_count": null,
      "outputs": [
        {
          "output_type": "stream",
          "name": "stdout",
          "text": [
            "2\n"
          ]
        }
      ]
    },
    {
      "cell_type": "markdown",
      "source": [
        "# Python String encode() Method\n"
      ],
      "metadata": {
        "id": "87Vw7fRS2IGF"
      }
    },
    {
      "cell_type": "code",
      "source": [
        "# Example\n",
        "# UTF-8 encode the string:\n",
        "\n",
        "txt=\"My name is Ståle\"\n",
        "x=txt.encode()\n",
        "print(x)"
      ],
      "metadata": {
        "colab": {
          "base_uri": "https://localhost:8080/"
        },
        "id": "aWxN5htO2TzK",
        "outputId": "fb9101b0-c88a-415f-dc2e-c988c2d9b573"
      },
      "execution_count": null,
      "outputs": [
        {
          "output_type": "stream",
          "name": "stdout",
          "text": [
            "b'My name is St\\xc3\\xa5le'\n"
          ]
        }
      ]
    },
    {
      "cell_type": "markdown",
      "source": [
        "# Definition and Usage\n",
        "The encode() method encodes the string, using the specified encoding. If no encoding is specified, UTF-8 will be used.\n",
        "\n",
        "# Syntax\n",
        "string.encode(encoding=encoding,errors=errors)\n",
        "\n",
        "# Parameter Values\n",
        "\n",
        "encoding: Optional. A String specifying the encoding to use. Default is UTF-8\n",
        "\n",
        "errors: Optional. A String specifying the error method. Legal values are:\n",
        "\n",
        "'backslashreplace'- uses a backslash instead of the character that could not be encoded\n",
        "\n",
        "'ignore' - ignores the character with a text explaining the character\n",
        "\n",
        "'strict' - Default ,raises an error on failure\n",
        "\n",
        "'replace' - replaces the character with a\n",
        "questionmark\n",
        "\n",
        "'xmlcharrefreplace' - replaces the character with an xml character\n"
      ],
      "metadata": {
        "id": "scZ7Dg284sJc"
      }
    },
    {
      "cell_type": "code",
      "source": [
        "# Example\n",
        "\n",
        "# These examples uses ascii encoding, and a character that cannot be encoded, showing the result with different errors:\n",
        "\n",
        "txt = \"My name is Ståle\"\n",
        "\n",
        "print(txt.encode(encoding=\"ascii\",errors=\"backslashreplace\"))\n",
        "print(txt.encode(encoding=\"ascii\",errors=\"ignore\"))\n",
        "print(txt.encode(encoding=\"ascii\",errors=\"namereplace\"))\n",
        "print(txt.encode(encoding=\"ascii\",errors=\"replace\"))\n",
        "print(txt.encode(encoding=\"ascii\",errors=\"xmlcharrefreplace\"))"
      ],
      "metadata": {
        "colab": {
          "base_uri": "https://localhost:8080/"
        },
        "id": "yeyl_3sRwiZa",
        "outputId": "d64edd04-de70-4f1d-a846-e2356808157e"
      },
      "execution_count": null,
      "outputs": [
        {
          "output_type": "stream",
          "name": "stdout",
          "text": [
            "b'My name is St\\\\xe5le'\n",
            "b'My name is Stle'\n",
            "b'My name is St\\\\N{LATIN SMALL LETTER A WITH RING ABOVE}le'\n",
            "b'My name is St?le'\n",
            "b'My name is St&#229;le'\n"
          ]
        }
      ]
    },
    {
      "cell_type": "markdown",
      "source": [
        "# Python String endswith() Method\n",
        "\n",
        "# Example\n",
        "# Check if the string ends with a punctuation sign (.):\n"
      ],
      "metadata": {
        "id": "gzHH2AQeyIl0"
      }
    },
    {
      "cell_type": "code",
      "source": [
        "txt =\"Hello, welcome to my world.\"\n",
        "x=txt.endswith(\".\")\n",
        "print(x)"
      ],
      "metadata": {
        "colab": {
          "base_uri": "https://localhost:8080/"
        },
        "id": "kKw6VGsHyb8C",
        "outputId": "925d4984-fcd4-4355-c7d2-e045b60a2b9b"
      },
      "execution_count": null,
      "outputs": [
        {
          "output_type": "stream",
          "name": "stdout",
          "text": [
            "True\n"
          ]
        }
      ]
    },
    {
      "cell_type": "markdown",
      "source": [
        "\n",
        "# Definition and Usage\n",
        "\n",
        "The endswith() method returns True if the string ends with the specified value, otherwise False.\n",
        "\n",
        "\n",
        "# Syntax\n",
        " string.endswith(value,start,end)\n",
        "\n",
        "# Parameter Values\n",
        "\n",
        "value =>  Required. The value to check if the string ends with\n",
        "\n",
        "start =>  Optional. An Integer specifying at which position to start the search\n",
        "\n",
        "end  =>  Optional. An Integer specifying at which postion to end the search"
      ],
      "metadata": {
        "id": "er1G7Yxcy0BB"
      }
    },
    {
      "cell_type": "code",
      "source": [
        "# More Examples\n",
        "\n",
        "# Example\n",
        "\n",
        "# Check if the string ends with the phrase \"my world.\":\n",
        "\n",
        "txt =\"Hello, Welcome to my world.\"\n",
        "\n",
        "x=txt.endswith('my world.')\n",
        "\n",
        "print(x)"
      ],
      "metadata": {
        "colab": {
          "base_uri": "https://localhost:8080/"
        },
        "id": "FQDacf5Nyylg",
        "outputId": "f3eecf6a-a925-47f3-dadd-2eafea8f80d2"
      },
      "execution_count": null,
      "outputs": [
        {
          "output_type": "stream",
          "name": "stdout",
          "text": [
            "True\n"
          ]
        }
      ]
    },
    {
      "cell_type": "code",
      "source": [
        "# Example\n",
        "# Check if position 5 to 11 ends with phrase \"my world.\":\n",
        "\n",
        "txt=\"Hello, welcome to my world.\"\n",
        "\n",
        "x=txt.endswith(\"my world.\",5,11)\n",
        "print(x)"
      ],
      "metadata": {
        "colab": {
          "base_uri": "https://localhost:8080/"
        },
        "id": "ymMc5G0h0VDP",
        "outputId": "f7dcb375-e53a-4521-c485-3f304a62ccd8"
      },
      "execution_count": null,
      "outputs": [
        {
          "output_type": "stream",
          "name": "stdout",
          "text": [
            "False\n"
          ]
        }
      ]
    },
    {
      "cell_type": "markdown",
      "source": [
        "# Python String expandtabs() Method\n",
        "\n",
        "# Example\n",
        "# Set the tab size to  2 white spaces:"
      ],
      "metadata": {
        "id": "jzXg01Nq0uz6"
      }
    },
    {
      "cell_type": "code",
      "source": [
        "txt =\"H\\te\\tl\\tl\\to\"\n",
        "print(txt)\n",
        "x=txt.expandtabs(1)\n",
        "print(x)"
      ],
      "metadata": {
        "colab": {
          "base_uri": "https://localhost:8080/"
        },
        "id": "Ihbr6rEs07u2",
        "outputId": "9c57270e-5b29-4dc6-a90f-107124b59280"
      },
      "execution_count": null,
      "outputs": [
        {
          "output_type": "stream",
          "name": "stdout",
          "text": [
            "H\te\tl\tl\to\n",
            "H e l l o\n"
          ]
        }
      ]
    },
    {
      "cell_type": "markdown",
      "source": [
        "# Definition and Usage\n",
        "\n",
        "The expandtabs() method sets the tab size to the specified number of whitespaces.\n",
        "\n",
        "# Syntax\n",
        "\n",
        "string.expandtabs(tabsize)\n",
        "\n",
        "# Parameter Values\n",
        "\n",
        "tabsize  =>  Optional. A number specifying the tabsize. Default tabsize is 8"
      ],
      "metadata": {
        "id": "IXQP9dMj1bPl"
      }
    },
    {
      "cell_type": "code",
      "source": [
        "# Example\n",
        "txt=\"H\\te\\tl\\tl\\to\"\n",
        "print(txt)\n",
        "print(txt.expandtabs())\n",
        "print(txt.expandtabs(2))\n",
        "print(txt.expandtabs(4))\n",
        "print(txt.expandtabs(10))\n",
        "\n",
        "txt=\"Hello\"\n",
        "print(txt.expandtabs(5))"
      ],
      "metadata": {
        "colab": {
          "base_uri": "https://localhost:8080/"
        },
        "id": "hhY1n0MY2O9s",
        "outputId": "58601c02-b0d1-475a-e2ca-2f88985d2304"
      },
      "execution_count": null,
      "outputs": [
        {
          "output_type": "stream",
          "name": "stdout",
          "text": [
            "H\te\tl\tl\to\n",
            "H       e       l       l       o\n",
            "H e l l o\n",
            "H   e   l   l   o\n",
            "H         e         l         l         o\n",
            "Hello\n"
          ]
        }
      ]
    },
    {
      "cell_type": "markdown",
      "source": [
        "# Python String find() Method\n",
        "\n"
      ],
      "metadata": {
        "id": "XtlP3EyS2zC0"
      }
    },
    {
      "cell_type": "code",
      "source": [
        "# Example\n",
        "txt=\"Hello, welcome to my world.\"\n",
        "x=txt.find(\"welcome\")\n",
        "print(x)"
      ],
      "metadata": {
        "colab": {
          "base_uri": "https://localhost:8080/"
        },
        "id": "X6yCeYlE23JZ",
        "outputId": "fc4891f4-684b-4f47-fd52-ecea90ee4ea2"
      },
      "execution_count": null,
      "outputs": [
        {
          "output_type": "stream",
          "name": "stdout",
          "text": [
            "7\n"
          ]
        }
      ]
    },
    {
      "cell_type": "markdown",
      "source": [
        "# Definition and Usage\n",
        "\n",
        "The find() method finds the first occurence of the specified value.\n",
        "\n",
        "The find() method returns - 1 if the value is not found.\n",
        "\n",
        "The find() method is almost the same as the index() method, the only difference is that the index() method raises an exception if the value is not found. (See example below)\n",
        "\n",
        "# Syntax\n",
        "\n",
        "string.find(value,start,end)\n",
        "\n",
        "value  => Required. The value to search for\n",
        "\n",
        "start  => Optional. Where to start the search. Default 0\n",
        "\n",
        "end   => Optional. where to end the search. Default is to the end of the string"
      ],
      "metadata": {
        "id": "K3iUMTw_3HLh"
      }
    },
    {
      "cell_type": "code",
      "source": [
        "# Example\n",
        "\n",
        "txt=\"Hello, Welcome to my world.\"\n",
        "\n",
        "x=txt.find(\"e\")\n",
        "print(x)"
      ],
      "metadata": {
        "colab": {
          "base_uri": "https://localhost:8080/"
        },
        "id": "kzciv2Oa4lB3",
        "outputId": "424a6615-8152-428b-efa9-82f70d780eee"
      },
      "execution_count": null,
      "outputs": [
        {
          "output_type": "stream",
          "name": "stdout",
          "text": [
            "1\n"
          ]
        }
      ]
    },
    {
      "cell_type": "code",
      "source": [
        "# Example\n",
        "txt =\"Hello, Welecome to my world.\"\n",
        "x=txt.find(\"e\",5,11)\n",
        "print(x)"
      ],
      "metadata": {
        "colab": {
          "base_uri": "https://localhost:8080/"
        },
        "id": "5HEcM7mD4vq4",
        "outputId": "0c1027e1-a37d-4f09-a38c-1a8719de4b73"
      },
      "execution_count": null,
      "outputs": [
        {
          "output_type": "stream",
          "name": "stdout",
          "text": [
            "8\n"
          ]
        }
      ]
    },
    {
      "cell_type": "code",
      "source": [
        "# Example\n",
        "#If the value is not found, the find() method returns -1, but the index() method will raise an exception:\n",
        "\n",
        "txt=\"Hello, Welcome to my world.\"\n",
        "print(txt.find(\"q\"))\n",
        "print(txt.find(\"q\"))"
      ],
      "metadata": {
        "colab": {
          "base_uri": "https://localhost:8080/"
        },
        "id": "DmsP-iHN5KgG",
        "outputId": "c264bc18-3929-4a25-a4a5-371cf00e1ef7"
      },
      "execution_count": null,
      "outputs": [
        {
          "output_type": "stream",
          "name": "stdout",
          "text": [
            "-1\n",
            "-1\n"
          ]
        }
      ]
    },
    {
      "cell_type": "markdown",
      "source": [
        "# Python string format() Method\n"
      ],
      "metadata": {
        "id": "DFgPxDLN5tfW"
      }
    },
    {
      "cell_type": "code",
      "source": [
        "# Example\n",
        "# Insert the price inside the placeholder, the price should be in fixed point,two -decimal format:\n",
        "\n",
        "txt=\"For only {price:.2f} dollars!\"\n",
        "print(txt.format(price=49))"
      ],
      "metadata": {
        "colab": {
          "base_uri": "https://localhost:8080/"
        },
        "id": "6sNAq9w4500i",
        "outputId": "61521538-8341-4609-84f8-cadde8d9c70a"
      },
      "execution_count": null,
      "outputs": [
        {
          "output_type": "stream",
          "name": "stdout",
          "text": [
            "For only 49.00 dollars!\n"
          ]
        }
      ]
    },
    {
      "cell_type": "markdown",
      "source": [
        "# Definition and Usage\n",
        "\n",
        "The format() method formats the specified value(s) and insert them inside the string's placeholder.\n",
        "\n",
        "The placeholder is defined using curly brackets: {}. Read more about the placeholders in the Placeholder section below.\n",
        "\n",
        "The format() method returns the formatted string.\n",
        "\n",
        "# Syntax\n",
        "  string.format(value1,value2....)\n",
        "\n",
        "\n",
        "# Parameter Values\n",
        "\n",
        "  value1, value2  ==> Required.One or more values that should be formatted and inserted in the string.\n",
        "\n",
        "  The values are either a list of values separated by commas,a key =value list, or a  combination of  both.\n",
        "\n",
        "The values can be of any data type.\n",
        "\n",
        "\n",
        "# The  Placeholders\n",
        "\n",
        "The placeholders can be identified using named indexes {price},numbered indexes{0},or even empty placeholders {}."
      ],
      "metadata": {
        "id": "YMB-k37e7w43"
      }
    },
    {
      "cell_type": "code",
      "source": [
        "# Example\n",
        "# Using different placeholder values:\n",
        "\n",
        "txt1=\"My name is {fname}, I'm {age}\". format(fname=\"John\",age=36)\n",
        "txt2=\"My name is {0}, I'm {1}.\".format(\"john\",36)\n",
        "txt3=\"My name is {}, I'm {}.\".format(\"John\",36)\n",
        "\n",
        "print(txt1)\n",
        "print(txt2)\n",
        "print(txt3)"
      ],
      "metadata": {
        "colab": {
          "base_uri": "https://localhost:8080/"
        },
        "id": "lMcFiCbx9wNN",
        "outputId": "15049f3f-d458-452a-d0a8-2283a435d397"
      },
      "execution_count": null,
      "outputs": [
        {
          "output_type": "stream",
          "name": "stdout",
          "text": [
            "My name is John, I'm 36\n",
            "My name is john, I'm 36.\n",
            "My name is John, I'm 36.\n"
          ]
        }
      ]
    },
    {
      "cell_type": "code",
      "source": [
        "# To demonstrate, we insert the number 8 to set the availabel space fo the value to  8 characters.\n",
        "# Use \"<\" to left-align the value:\n",
        "\n",
        "txt=\"We have {:<8} chickens.\"   # :< Left aligns the result(Within the available space)\n",
        "\n",
        "print(txt.format(49))"
      ],
      "metadata": {
        "colab": {
          "base_uri": "https://localhost:8080/"
        },
        "id": "ZEyzWQP7-hxn",
        "outputId": "85ada73b-6e26-4a44-9bfa-f6fde81f30b8"
      },
      "execution_count": null,
      "outputs": [
        {
          "output_type": "stream",
          "name": "stdout",
          "text": [
            "We have 49       chickens.\n"
          ]
        }
      ]
    },
    {
      "cell_type": "code",
      "source": [
        "# To demonstrate, we insert the number 8 to set the available space for the value to 8 characters.\n",
        "\n",
        "# Use \">\" to right-align the value:\n",
        "txt=\"We have {:>8} Chickens.\"\n",
        "print(txt.format(49))"
      ],
      "metadata": {
        "colab": {
          "base_uri": "https://localhost:8080/"
        },
        "id": "Tlr5_i5w_KDY",
        "outputId": "6b09b265-150f-46ad-90ce-9dda2095f5f2"
      },
      "execution_count": null,
      "outputs": [
        {
          "output_type": "stream",
          "name": "stdout",
          "text": [
            "We have       49 Chickens.\n"
          ]
        }
      ]
    },
    {
      "cell_type": "code",
      "source": [
        "# To demonstrate, we insert the number 8 to set the available space for the value to 8 characters.\n",
        "\n",
        "# Use \"^\" to center-align the value:\n",
        "\n",
        "txt=\"We have {:^8} chickens.\"\n",
        "print(txt.format(49))"
      ],
      "metadata": {
        "colab": {
          "base_uri": "https://localhost:8080/"
        },
        "id": "WVyKHnlP_zvK",
        "outputId": "b31030c8-b906-4030-fd65-53057430a190"
      },
      "execution_count": null,
      "outputs": [
        {
          "output_type": "stream",
          "name": "stdout",
          "text": [
            "We have    49    chickens.\n"
          ]
        }
      ]
    },
    {
      "cell_type": "code",
      "source": [
        "# To demonstrate, we insert the number 8 to spcify the available space for the value.\n",
        "\n",
        "# Use \"=\" to place the plus/minus sign at the left most position:\n",
        "\n",
        "txt=\"The temperature is {:=8} degrees celsius.\"\n",
        "\n",
        "print(txt.format(-5))"
      ],
      "metadata": {
        "colab": {
          "base_uri": "https://localhost:8080/"
        },
        "id": "9sytMOn0CYwJ",
        "outputId": "60861f7b-9705-4dfc-a412-8ce55ab8cf47"
      },
      "execution_count": null,
      "outputs": [
        {
          "output_type": "stream",
          "name": "stdout",
          "text": [
            "The temperature is -      5 degrees celsius.\n"
          ]
        }
      ]
    },
    {
      "cell_type": "code",
      "source": [
        "# Use \"+\" to always indicate if the number is positive or negative:\n",
        "\n",
        "txt= \"The temperature is between {:+} and {:+} degrees celsius.\"\n",
        "\n",
        "print(txt.format(-3,7))"
      ],
      "metadata": {
        "colab": {
          "base_uri": "https://localhost:8080/"
        },
        "id": "Qd_qP_oqDBRb",
        "outputId": "fdecdf1b-0ac0-43d1-c168-d186bbda4baa"
      },
      "execution_count": null,
      "outputs": [
        {
          "output_type": "stream",
          "name": "stdout",
          "text": [
            "The temperature is between -3 and +7 degrees celsius.\n"
          ]
        }
      ]
    },
    {
      "cell_type": "code",
      "source": [
        "# Use \"-\" to always indicate if the number is negative (positive numbers are displayed without any sign):\n",
        "\n",
        "txt=\"The temperature is between{:-} and {:-} degrees celsius.\"\n",
        "print(txt.format(-3,7))"
      ],
      "metadata": {
        "colab": {
          "base_uri": "https://localhost:8080/"
        },
        "id": "fRFj8Y8zDlVO",
        "outputId": "8fb3da48-53b1-40ca-edc9-12cb3aea8ddb"
      },
      "execution_count": null,
      "outputs": [
        {
          "output_type": "stream",
          "name": "stdout",
          "text": [
            "The temperature is between-3 and 7 degrees celsius.\n"
          ]
        }
      ]
    },
    {
      "cell_type": "code",
      "source": [
        "# Use \" \"(a space) to insert a space before positive numbers and a minus sign before negative numbers:\n",
        "txt=\"The temperature is between {: } and {: } degrees celsius.\"\n",
        "print(txt.format(-3,7))"
      ],
      "metadata": {
        "colab": {
          "base_uri": "https://localhost:8080/"
        },
        "id": "xQq28ETWEC2R",
        "outputId": "9d1f2f21-f584-478d-83bf-a7227c0de2ec"
      },
      "execution_count": null,
      "outputs": [
        {
          "output_type": "stream",
          "name": "stdout",
          "text": [
            "The temperature is between -3 and  7 degrees celsius.\n"
          ]
        }
      ]
    },
    {
      "cell_type": "code",
      "source": [
        "# Use \",\" to add a comma as a thousand separator:\n",
        "txt=\"The universe is {:,} years old\"\n",
        "print(txt.format(13800000000))\n",
        "\n"
      ],
      "metadata": {
        "colab": {
          "base_uri": "https://localhost:8080/"
        },
        "id": "csk18Hc7Ergg",
        "outputId": "c4d6436e-bc38-4510-9a36-b62dab9dd435"
      },
      "execution_count": null,
      "outputs": [
        {
          "output_type": "stream",
          "name": "stdout",
          "text": [
            "The universe is 13,800,000,000 years old\n"
          ]
        }
      ]
    },
    {
      "cell_type": "code",
      "source": [
        "# Use \"_\" to add a underscore character as a thousand separator:\n",
        "\n",
        "txt=\"The universe is {:_} years old.\"\n",
        "print(txt.format(13800000000))"
      ],
      "metadata": {
        "colab": {
          "base_uri": "https://localhost:8080/"
        },
        "id": "3VJPybAVFXHq",
        "outputId": "72c95aa7-232d-4806-e9a0-214465e4082f"
      },
      "execution_count": null,
      "outputs": [
        {
          "output_type": "stream",
          "name": "stdout",
          "text": [
            "The universe is 13_800_000_000 years old.\n"
          ]
        }
      ]
    },
    {
      "cell_type": "code",
      "source": [
        "# Use \"b\" to convert the number into binary format:\n",
        "txt=\"The binary version of {0} is {0:b}\"\n",
        "print(txt.format(5))"
      ],
      "metadata": {
        "colab": {
          "base_uri": "https://localhost:8080/"
        },
        "id": "Wg1b4xOLFqYU",
        "outputId": "5e9ed19d-b84b-439c-b3cb-570140c183c6"
      },
      "execution_count": null,
      "outputs": [
        {
          "output_type": "stream",
          "name": "stdout",
          "text": [
            "The binary version of 5 is 101\n"
          ]
        }
      ]
    },
    {
      "cell_type": "code",
      "source": [
        "txt=\"The Unicode  of character {0:c}\"\n",
        "print(txt.format(50))"
      ],
      "metadata": {
        "colab": {
          "base_uri": "https://localhost:8080/"
        },
        "id": "aqWh_ikWF-kL",
        "outputId": "e273a244-0530-4d04-8187-ca2cc8e5a12a"
      },
      "execution_count": null,
      "outputs": [
        {
          "output_type": "stream",
          "name": "stdout",
          "text": [
            "The Unicode  of character 2\n"
          ]
        }
      ]
    },
    {
      "cell_type": "code",
      "source": [
        "# Use \"d\" to convert a number, in this case a binary number, into decimal number format:\n",
        "txt=\"We have {:d} chickens.\"\n",
        "print(txt.format(0b101))"
      ],
      "metadata": {
        "colab": {
          "base_uri": "https://localhost:8080/"
        },
        "id": "IQCwuYC7Glu-",
        "outputId": "90b0bb52-2e4b-4439-a56b-002d4357549d"
      },
      "execution_count": null,
      "outputs": [
        {
          "output_type": "stream",
          "name": "stdout",
          "text": [
            "We have 5 chickens.\n"
          ]
        }
      ]
    },
    {
      "cell_type": "code",
      "source": [
        "# Use \"e\" to convert a number into scientific number format (with a lower-case e):\n",
        "txt=\"We have {:e} chickens.\"\n",
        "\n",
        "print(txt.format(5))"
      ],
      "metadata": {
        "colab": {
          "base_uri": "https://localhost:8080/"
        },
        "id": "c2wQkqKUG_d8",
        "outputId": "1706d2af-1565-4454-cb80-7f1dd5fee8ec"
      },
      "execution_count": null,
      "outputs": [
        {
          "output_type": "stream",
          "name": "stdout",
          "text": [
            "We have 5.000000e+00 chickens.\n"
          ]
        }
      ]
    },
    {
      "cell_type": "code",
      "source": [
        "# Use \"E\" to convert a number into scientific number format (with an upper-case E):\n",
        "txt=\"We have {:E} chickens.\"\n",
        "print(txt.format(5))"
      ],
      "metadata": {
        "colab": {
          "base_uri": "https://localhost:8080/"
        },
        "id": "YbAhBFH1Ha5z",
        "outputId": "f880ad29-0041-40d5-8c4a-7d7b70bb1551"
      },
      "execution_count": null,
      "outputs": [
        {
          "output_type": "stream",
          "name": "stdout",
          "text": [
            "We have 5.000000E+00 chickens.\n"
          ]
        }
      ]
    },
    {
      "cell_type": "code",
      "source": [
        "# Use \"f\" to convert a number into a fixed  point number,default with 6 decimals,\n",
        "# but use a period followed by a number to specify the number of decimals:\n",
        "\n",
        "txt=\"The price is {:.2f} dollars.\"\n",
        "print(txt.format(45))\n",
        "\n",
        "# Without the \".2\" inside the placeholder, this number will be displayed like this:\n",
        "\n",
        "txt =\"The price is {:f} dollars.\"\n",
        "print(txt.format(45))\n",
        "\n",
        "txt = \"The price is {:.4f} dollars.\"\n",
        "print(txt.format(45))"
      ],
      "metadata": {
        "colab": {
          "base_uri": "https://localhost:8080/"
        },
        "id": "50zIBbJVHufB",
        "outputId": "298dd6c5-41a2-4464-80bc-6f9bef5af8f8"
      },
      "execution_count": null,
      "outputs": [
        {
          "output_type": "stream",
          "name": "stdout",
          "text": [
            "The price is 45.00 dollars.\n",
            "The price is 45.000000 dollars.\n",
            "The price is 45.0000 dollars.\n"
          ]
        }
      ]
    },
    {
      "cell_type": "code",
      "source": [
        "# Use \"F\" to convert a number into a fixed point number, but display inf and nan as INF and NAN:\n",
        "\n",
        "x=float(\"inf\")\n",
        "\n",
        "txt=\"The price is {:F} dollars.\"\n",
        "print(txt.format(x))\n",
        "\n",
        "# Same example,but with a lower case f:\n",
        "txt=\"The price is {:f} dollars.\"\n",
        "print(txt.format(x))\n",
        "\n"
      ],
      "metadata": {
        "colab": {
          "base_uri": "https://localhost:8080/"
        },
        "id": "qSaoHtqyI6r5",
        "outputId": "b9bead74-6901-4acb-ebca-dcb50f29834f"
      },
      "execution_count": null,
      "outputs": [
        {
          "output_type": "stream",
          "name": "stdout",
          "text": [
            "The price is INF dollars.\n",
            "The price is 88.000000 dollars.\n",
            "The price is inf dollars.\n"
          ]
        }
      ]
    },
    {
      "cell_type": "code",
      "source": [
        "# Use \"o\" to convert the number into octal format:\n",
        "\n",
        "txt=\"The octal version of {0} is {0:o}\"\n",
        "\n",
        "print(txt.format(10))"
      ],
      "metadata": {
        "colab": {
          "base_uri": "https://localhost:8080/"
        },
        "id": "9zHwjz2GJ2fc",
        "outputId": "32fd17c2-86dd-4688-f519-1296a0256dd0"
      },
      "execution_count": null,
      "outputs": [
        {
          "output_type": "stream",
          "name": "stdout",
          "text": [
            "The octal version of 10 is 12\n"
          ]
        }
      ]
    },
    {
      "cell_type": "code",
      "source": [
        "# Use \"x\" to convert the number into Hex format:\n",
        "txt=\"The Hexadecimal varsion of {0} is {0:x}\"\n",
        "print(txt.format(255))"
      ],
      "metadata": {
        "colab": {
          "base_uri": "https://localhost:8080/"
        },
        "id": "RdMoreskKNnY",
        "outputId": "43d354b5-901d-4ef7-dedb-17ce64e148de"
      },
      "execution_count": null,
      "outputs": [
        {
          "output_type": "stream",
          "name": "stdout",
          "text": [
            "The Hexadecimal varsion of 255 is ff\n"
          ]
        }
      ]
    },
    {
      "cell_type": "code",
      "source": [
        "# Use \"X\" to convert the number into upper-case Hex format:\n",
        "txt=\"The Hexadecimal version of {0} is {0:X}\"\n",
        "print(txt.format(255))"
      ],
      "metadata": {
        "colab": {
          "base_uri": "https://localhost:8080/"
        },
        "id": "wCXYrpKCKlvR",
        "outputId": "844f3eca-e7c6-4676-9dbe-a494df00392b"
      },
      "execution_count": null,
      "outputs": [
        {
          "output_type": "stream",
          "name": "stdout",
          "text": [
            "The Hexadecimal version of 255 is FF\n"
          ]
        }
      ]
    },
    {
      "cell_type": "code",
      "source": [
        "# \"%\" to convert the number into a percentage format:\n",
        "\n",
        "txt=\"You Scored {:%}\"\n",
        "print(txt.format(0.25))\n",
        "\n",
        "#Or,without any decimals:\n",
        "txt=\"You scored {:.0%}\"\n",
        "print(txt.format(0.25))"
      ],
      "metadata": {
        "colab": {
          "base_uri": "https://localhost:8080/"
        },
        "id": "0-yODV19K2aO",
        "outputId": "c21bd7f7-e151-4696-bdc6-fc81923beb8d"
      },
      "execution_count": null,
      "outputs": [
        {
          "output_type": "stream",
          "name": "stdout",
          "text": [
            "You Scored 25.000000%\n",
            "You scored 25%\n"
          ]
        }
      ]
    },
    {
      "cell_type": "markdown",
      "source": [
        "# Python String index() Method\n",
        "\n"
      ],
      "metadata": {
        "id": "ZfsWxM8VLgy3"
      }
    },
    {
      "cell_type": "code",
      "source": [
        "# Example:\n",
        "\n",
        "txt=\"Hello, Welcome to my world.\"\n",
        "\n",
        "x=txt.index(\"Welcome\")\n",
        "print(x)"
      ],
      "metadata": {
        "colab": {
          "base_uri": "https://localhost:8080/"
        },
        "id": "RsBpUFr3LupT",
        "outputId": "f288c826-2355-454d-de55-72e4a64cfab6"
      },
      "execution_count": null,
      "outputs": [
        {
          "output_type": "stream",
          "name": "stdout",
          "text": [
            "7\n"
          ]
        }
      ]
    },
    {
      "cell_type": "markdown",
      "source": [
        "# Definition and Usage\n",
        "\n",
        "The index() method finds the first occurrence of the specified value.\n",
        "\n",
        "The index() method raises an exception if the value in not found.\n",
        "\n",
        "The index() method is almost the same as the find() method, the only difference is that the find() method returns -1 if the value is not found\n",
        "\n",
        "# Syntax\n",
        "string.index(value,start,end)\n",
        "\n",
        "# Parameter Values:\n",
        "\n",
        "value  ==>  Required. The value to search for\n",
        "\n",
        "start  ==>  Optional. Where to start the search. Default is 0\n",
        "\n",
        "end    ==>  Optional. Where to end the search. Default is to the end of the string."
      ],
      "metadata": {
        "id": "2nuCWXRlL-WY"
      }
    },
    {
      "cell_type": "code",
      "source": [
        "# Example\n",
        "\n",
        "txt = \"Hello, welcome to my world.\"\n",
        "\n",
        "x=txt.index(\"e\")\n",
        "\n",
        "print(x)"
      ],
      "metadata": {
        "colab": {
          "base_uri": "https://localhost:8080/"
        },
        "id": "Sq7HentDN41d",
        "outputId": "72a69a2c-181b-493c-c6a8-eb1e22d993c0"
      },
      "execution_count": null,
      "outputs": [
        {
          "output_type": "stream",
          "name": "stdout",
          "text": [
            "1\n"
          ]
        }
      ]
    },
    {
      "cell_type": "code",
      "source": [
        "# Example\n",
        "\n",
        "txt=\"Hello, welocme to my world.\"\n",
        "\n",
        "x=txt.index(\"e\",5,10)\n",
        "\n",
        "print(x)"
      ],
      "metadata": {
        "colab": {
          "base_uri": "https://localhost:8080/"
        },
        "id": "eD_1prBmOFWq",
        "outputId": "af26fda3-e374-4970-e300-c4be04db58ee"
      },
      "execution_count": null,
      "outputs": [
        {
          "output_type": "stream",
          "name": "stdout",
          "text": [
            "8\n"
          ]
        }
      ]
    },
    {
      "cell_type": "code",
      "source": [
        "# Example\n",
        "# If the value is not found, the find() method returns -1, but the index() method will raise an exception:\n",
        "\n",
        "txt=\"Hello, welcome to my world.\"\n",
        "\n",
        "print(txt.find(\"q\"))\n",
        "print(txt.index(\"q\"))"
      ],
      "metadata": {
        "colab": {
          "base_uri": "https://localhost:8080/",
          "height": 231
        },
        "id": "mHYs0LnTOYPm",
        "outputId": "21a51be8-5f6f-4fda-a345-5c2c8f45b696"
      },
      "execution_count": null,
      "outputs": [
        {
          "output_type": "stream",
          "name": "stdout",
          "text": [
            "-1\n"
          ]
        },
        {
          "output_type": "error",
          "ename": "ValueError",
          "evalue": "ignored",
          "traceback": [
            "\u001b[0;31m---------------------------------------------------------------------------\u001b[0m",
            "\u001b[0;31mValueError\u001b[0m                                Traceback (most recent call last)",
            "\u001b[0;32m<ipython-input-64-3fe0663e7936>\u001b[0m in \u001b[0;36m<cell line: 7>\u001b[0;34m()\u001b[0m\n\u001b[1;32m      5\u001b[0m \u001b[0;34m\u001b[0m\u001b[0m\n\u001b[1;32m      6\u001b[0m \u001b[0mprint\u001b[0m\u001b[0;34m(\u001b[0m\u001b[0mtxt\u001b[0m\u001b[0;34m.\u001b[0m\u001b[0mfind\u001b[0m\u001b[0;34m(\u001b[0m\u001b[0;34m\"q\"\u001b[0m\u001b[0;34m)\u001b[0m\u001b[0;34m)\u001b[0m\u001b[0;34m\u001b[0m\u001b[0;34m\u001b[0m\u001b[0m\n\u001b[0;32m----> 7\u001b[0;31m \u001b[0mprint\u001b[0m\u001b[0;34m(\u001b[0m\u001b[0mtxt\u001b[0m\u001b[0;34m.\u001b[0m\u001b[0mindex\u001b[0m\u001b[0;34m(\u001b[0m\u001b[0;34m\"q\"\u001b[0m\u001b[0;34m)\u001b[0m\u001b[0;34m)\u001b[0m\u001b[0;34m\u001b[0m\u001b[0;34m\u001b[0m\u001b[0m\n\u001b[0m",
            "\u001b[0;31mValueError\u001b[0m: substring not found"
          ]
        }
      ]
    },
    {
      "cell_type": "markdown",
      "source": [
        "# Python String isalnum() Method\n",
        "\n"
      ],
      "metadata": {
        "id": "Lo16GrXnO61R"
      }
    },
    {
      "cell_type": "code",
      "source": [
        "# Example\n",
        "\n",
        "# Check if  all the characters in the text are alphanumeric:\n",
        "\n",
        "txt= \"Company12\"\n",
        "\n",
        "x=txt.isalnum()\n",
        "print(x)\n",
        "\n"
      ],
      "metadata": {
        "colab": {
          "base_uri": "https://localhost:8080/"
        },
        "id": "wYZnp1pOPAiU",
        "outputId": "0386369b-9df2-418c-f0f6-2f166461aeed"
      },
      "execution_count": null,
      "outputs": [
        {
          "output_type": "stream",
          "name": "stdout",
          "text": [
            "True\n"
          ]
        }
      ]
    },
    {
      "cell_type": "markdown",
      "source": [
        "# Definition and Usage\n",
        "\n",
        "The isalnum() method returns True if all characters are alphanumeric, meaning alphabet letter (a-z) and numbers (0-9)\n",
        "\n",
        "# Syntax\n",
        "\n",
        "string.isalnum()\n",
        "\n",
        "# Parameter Values\n",
        "\n",
        "No Parameter\n",
        "\n"
      ],
      "metadata": {
        "id": "1bWjKvwtPaw2"
      }
    },
    {
      "cell_type": "code",
      "source": [
        "# Example\n",
        "\n",
        "txt=\"Company 12\"\n",
        "x=txt.isalnum()\n",
        "print(x)"
      ],
      "metadata": {
        "colab": {
          "base_uri": "https://localhost:8080/"
        },
        "id": "LsA5QXOIP8gF",
        "outputId": "091c4512-dccf-41a2-9ae1-0529f85803ce"
      },
      "execution_count": null,
      "outputs": [
        {
          "output_type": "stream",
          "name": "stdout",
          "text": [
            "False\n"
          ]
        }
      ]
    },
    {
      "cell_type": "markdown",
      "source": [
        "# Python String isalpha() Method\n",
        "\n"
      ],
      "metadata": {
        "id": "T42vpAjTQLjw"
      }
    },
    {
      "cell_type": "code",
      "source": [
        "# Example:\n",
        "\n",
        "txt=\"CompanyX\"\n",
        "\n",
        "x= txt.isalpha()\n",
        "\n",
        "print(x)"
      ],
      "metadata": {
        "colab": {
          "base_uri": "https://localhost:8080/"
        },
        "id": "lx0GBZGPQSMy",
        "outputId": "05d1698a-8049-4415-c72d-5f0d2be6840b"
      },
      "execution_count": null,
      "outputs": [
        {
          "output_type": "stream",
          "name": "stdout",
          "text": [
            "True\n"
          ]
        }
      ]
    },
    {
      "cell_type": "markdown",
      "source": [
        "# Definition and Usage\n",
        "\n",
        "This isalpha() method returns True if all the characters are alphabet letters (a-z)\n",
        "\n",
        "# Syntax\n",
        "\n",
        "String.isalpha()\n",
        "\n",
        "# Parameter Values\n",
        "\n",
        "No parameters.\n",
        "\n"
      ],
      "metadata": {
        "id": "QqKM2X3sQfQg"
      }
    },
    {
      "cell_type": "code",
      "source": [
        "# Example:\n",
        "\n",
        "txt=\"Company10\"\n",
        "x=txt.isalpha()\n",
        "print(x)"
      ],
      "metadata": {
        "colab": {
          "base_uri": "https://localhost:8080/"
        },
        "id": "5anAtlVyQbUI",
        "outputId": "f57961fb-f46b-407f-c110-f6bed8e6828c"
      },
      "execution_count": null,
      "outputs": [
        {
          "output_type": "stream",
          "name": "stdout",
          "text": [
            "False\n"
          ]
        }
      ]
    },
    {
      "cell_type": "markdown",
      "source": [
        "# Python String isascii() Method\n",
        "\n"
      ],
      "metadata": {
        "id": "ERLCZEe-RLml"
      }
    },
    {
      "cell_type": "code",
      "source": [
        "# Example\n",
        "\n",
        "txt= \"Company123\"\n",
        "\n",
        "x= txt.isascii()\n",
        "\n",
        "print(x)"
      ],
      "metadata": {
        "colab": {
          "base_uri": "https://localhost:8080/"
        },
        "id": "BToFH5DqRTRN",
        "outputId": "e70be561-9201-49be-9f8a-bbdb13ceba3f"
      },
      "execution_count": null,
      "outputs": [
        {
          "output_type": "stream",
          "name": "stdout",
          "text": [
            "True\n"
          ]
        }
      ]
    },
    {
      "cell_type": "markdown",
      "source": [
        "# Definition and Usage\n",
        "\n",
        "The isascii() method returns True if all the characters are ascii characters (a-z)\n",
        "\n",
        "# Syntax\n",
        "\n",
        "string.isascii()\n",
        "\n",
        "# Parameter Values\n",
        "\n",
        "No Parameters"
      ],
      "metadata": {
        "id": "gdLXaAkaVC8X"
      }
    },
    {
      "cell_type": "markdown",
      "source": [
        "# Python String isdecimal() Method\n",
        "\n"
      ],
      "metadata": {
        "id": "V0B9OOLc0YVB"
      }
    },
    {
      "cell_type": "code",
      "source": [
        "# Example\n",
        "txt =\"1234\"\n",
        "x=txt.isdecimal()\n",
        "print(x)"
      ],
      "metadata": {
        "colab": {
          "base_uri": "https://localhost:8080/"
        },
        "id": "F8WWhyEn0fB6",
        "outputId": "948af34d-01ac-4237-d437-6a2743416de0"
      },
      "execution_count": null,
      "outputs": [
        {
          "output_type": "stream",
          "name": "stdout",
          "text": [
            "True\n"
          ]
        }
      ]
    },
    {
      "cell_type": "markdown",
      "source": [
        "# Definition and Usage\n",
        "The isdecimal() method returns True if all the characters are decimals (0-9).\n",
        "The method can also be used on unicode objects. See example below.\n",
        "\n",
        "# Syntax\n",
        "string.isdecimal()\n",
        "\n",
        "# Parameter Values\n",
        "No parameters."
      ],
      "metadata": {
        "id": "PNiL89yM0zKl"
      }
    },
    {
      "cell_type": "code",
      "source": [
        "# Example\n",
        "a=\"\\u0030\" #unicode for 0\n",
        "b=\"\\u0047\" #unicode for G\n",
        "\n",
        "print(a.isdecimal())\n",
        "print(b.isdecimal())"
      ],
      "metadata": {
        "colab": {
          "base_uri": "https://localhost:8080/"
        },
        "id": "7GsDwHqs1l4r",
        "outputId": "303cdfa8-98eb-46a2-cd42-ecb0f32d374e"
      },
      "execution_count": null,
      "outputs": [
        {
          "output_type": "stream",
          "name": "stdout",
          "text": [
            "True\n",
            "False\n"
          ]
        }
      ]
    },
    {
      "cell_type": "markdown",
      "source": [
        "# Python String isdigit() Method\n",
        "\n"
      ],
      "metadata": {
        "id": "QzKuwFc12el2"
      }
    },
    {
      "cell_type": "code",
      "source": [
        "# Example\n",
        "\n",
        "txt=\"50800\"\n",
        "\n",
        "x=txt.isdigit()\n",
        "print(x)"
      ],
      "metadata": {
        "colab": {
          "base_uri": "https://localhost:8080/"
        },
        "id": "VhS206TS2l-5",
        "outputId": "4900f155-4562-4c40-fcf7-0c2ce4939c96"
      },
      "execution_count": null,
      "outputs": [
        {
          "output_type": "stream",
          "name": "stdout",
          "text": [
            "True\n"
          ]
        }
      ]
    },
    {
      "cell_type": "markdown",
      "source": [
        "# Definition and Usage\n",
        "\n",
        "The isdigit() method returns True if all the characters are digits,otherwise False. Exponents,like 2,are also considered to be a digit.\n",
        "\n",
        "# Syntax\n",
        "\n",
        "String.isdigit()\n",
        "\n",
        "# Parameter Values\n",
        "\n",
        "No parameters."
      ],
      "metadata": {
        "id": "GGHLNRuI21F-"
      }
    },
    {
      "cell_type": "code",
      "source": [
        "# Example\n",
        "\n",
        "a=\"\\u0030\" # unicode for 0\n",
        "b=\"\\u00B2\" # unicode for ²\n",
        "c=\"\\u0047\" # unicode for G\n",
        "print(a.isdigit())\n",
        "print(b.isdigit())\n",
        "print(c.isdigit())"
      ],
      "metadata": {
        "colab": {
          "base_uri": "https://localhost:8080/"
        },
        "id": "6JBjuEXi5Qqo",
        "outputId": "ca59a761-83ff-46ca-c504-b9fd795832ab"
      },
      "execution_count": null,
      "outputs": [
        {
          "output_type": "stream",
          "name": "stdout",
          "text": [
            "True\n",
            "True\n",
            "False\n"
          ]
        }
      ]
    },
    {
      "cell_type": "markdown",
      "source": [
        "# Python String isidentifier() Method\n",
        "\n"
      ],
      "metadata": {
        "id": "XOgNixZx793C"
      }
    },
    {
      "cell_type": "code",
      "source": [
        "# Example\n",
        "\n",
        "txt=\"Demo\"\n",
        "x=txt.isidentifier()\n",
        "print(x)"
      ],
      "metadata": {
        "id": "6RRB4BYd8FIL"
      },
      "execution_count": null,
      "outputs": []
    },
    {
      "cell_type": "markdown",
      "source": [
        "# Definition and Usage\n",
        "\n",
        "The isidentifer() method returns True if the string is valid identifier,otherwise False.\n",
        "\n",
        "A String is considered a valid identifier if it only contains alphanumaric letters(a-z) and (0-9),or underscores(_).A valid identifer cannot start with a number, or contain any spaces.\n",
        "\n",
        "# Syntax\n",
        "\n",
        "string.isidentifier()\n",
        "\n",
        "# Parameter values\n",
        "\n",
        "No parameter"
      ],
      "metadata": {
        "id": "tt8l4jZh8Myi"
      }
    },
    {
      "cell_type": "code",
      "source": [
        "# Example\n",
        "a=\"My Folder\"\n",
        "b=\"Demo002\"\n",
        "c=\"2bring\"\n",
        "d=\"_mydemo\"\n",
        "e=\"my_demo\"\n",
        "print(a.isidentifier())\n",
        "print(b.isidentifier())\n",
        "print(c.isidentifier())\n",
        "print(d.isidentifier())\n",
        "print(e.isidentifier())"
      ],
      "metadata": {
        "colab": {
          "base_uri": "https://localhost:8080/"
        },
        "id": "Gb9DLZtE9Rxn",
        "outputId": "53d1f169-3cd1-4c72-c126-e6f3064e0c2e"
      },
      "execution_count": null,
      "outputs": [
        {
          "output_type": "stream",
          "name": "stdout",
          "text": [
            "False\n",
            "True\n",
            "False\n",
            "True\n",
            "True\n"
          ]
        }
      ]
    },
    {
      "cell_type": "markdown",
      "source": [
        "# Python String islower() Method\n",
        "\n"
      ],
      "metadata": {
        "id": "OLFnfr2c96Na"
      }
    },
    {
      "cell_type": "code",
      "source": [
        "# Example\n",
        "\n",
        "txt=\"hello world\"\n",
        "x=txt.islower()\n",
        "print(x)"
      ],
      "metadata": {
        "colab": {
          "base_uri": "https://localhost:8080/"
        },
        "id": "BY4K7oRT9-9A",
        "outputId": "232d186e-c88c-4eab-a9d4-e62eefcc3f4b"
      },
      "execution_count": null,
      "outputs": [
        {
          "output_type": "stream",
          "name": "stdout",
          "text": [
            "True\n"
          ]
        }
      ]
    },
    {
      "cell_type": "markdown",
      "source": [
        "# Definition and Usage\n",
        "The islower() method returns True if all the characters are in lower case,otherwise False. Numbers,symbols and spaces are not checked ,only alphabet characters.\n",
        "\n",
        "# Syntax\n",
        "string.islower()\n",
        "\n",
        "# Parameter Values\n",
        "\n",
        "No parameters."
      ],
      "metadata": {
        "id": "EeSRdwcN-IrI"
      }
    },
    {
      "cell_type": "code",
      "source": [
        "# Example\n",
        "a=\"Hello world!\"\n",
        "b=\"hello 123\"\n",
        "c=\"mynameisPeter\"\n",
        "\n",
        "print(a.islower())\n",
        "print(b.islower())\n",
        "print(c.islower())"
      ],
      "metadata": {
        "colab": {
          "base_uri": "https://localhost:8080/"
        },
        "id": "A7aD2CBg-ngK",
        "outputId": "48441666-b70d-4da7-a6c5-403bed6f20f1"
      },
      "execution_count": null,
      "outputs": [
        {
          "output_type": "stream",
          "name": "stdout",
          "text": [
            "False\n",
            "True\n",
            "False\n"
          ]
        }
      ]
    },
    {
      "cell_type": "markdown",
      "source": [
        "# Python String isnumeric() Method\n",
        "\n"
      ],
      "metadata": {
        "id": "pzNU4PK0_Bvw"
      }
    },
    {
      "cell_type": "code",
      "source": [
        "# Example:\n",
        "txt=\"565543\"\n",
        "x=txt.isnumeric()\n",
        "print(x)"
      ],
      "metadata": {
        "colab": {
          "base_uri": "https://localhost:8080/"
        },
        "id": "AnUnUv2U_K_M",
        "outputId": "2f47377e-842b-4304-a133-40e9ef825cdc"
      },
      "execution_count": null,
      "outputs": [
        {
          "output_type": "stream",
          "name": "stdout",
          "text": [
            "True\n"
          ]
        }
      ]
    },
    {
      "cell_type": "markdown",
      "source": [
        "# Definition and Usage\n",
        "\n",
        "The isnumeric() method returns True if all the characters are numeric(0-9),otherwise False.\n",
        "\n",
        "Exponents, like ² and ³/4 are also considered to be numeric values.\n",
        "\n",
        "\"-1\" and \"1.5\" are NOT considered numeric values, because all the characters in the string must be numeric,and the - and the . are not.\n",
        "\n",
        "# Syntax\n",
        "string.isnumeric()\n",
        "\n",
        "# Parameter Values\n",
        "No parameters.\n",
        "\n"
      ],
      "metadata": {
        "id": "jDT2LmW6JBDl"
      }
    },
    {
      "cell_type": "code",
      "source": [
        "# Example\n",
        "a=\"\\u0030\" # unicode for 0\n",
        "b=\"\\u00B2\" # unicode for &sup2;\n",
        "c=\"10km2\"\n",
        "d=\"-1\"\n",
        "e=\"1.5\"\n",
        "\n",
        "\n",
        "print(a.isnumeric())\n",
        "print(b.isnumeric())\n",
        "print(c.isnumeric())\n",
        "print(d.isnumeric())\n",
        "print(e.isnumeric())\n"
      ],
      "metadata": {
        "colab": {
          "base_uri": "https://localhost:8080/"
        },
        "id": "71J9ynMaKTkb",
        "outputId": "70cfb5e1-fc98-460e-8234-b8a2292004bb"
      },
      "execution_count": null,
      "outputs": [
        {
          "output_type": "stream",
          "name": "stdout",
          "text": [
            "²\n",
            "True\n",
            "True\n",
            "False\n",
            "False\n",
            "False\n"
          ]
        }
      ]
    },
    {
      "cell_type": "markdown",
      "source": [
        "# Python String isprintable() Method\n",
        "\n"
      ],
      "metadata": {
        "id": "CdfOEK7TLSCH"
      }
    },
    {
      "cell_type": "code",
      "source": [
        "# Example\n",
        "txt=\"Hello! Are you #1?\"\n",
        "\n",
        "x=txt.isprintable()\n",
        "print(x)"
      ],
      "metadata": {
        "colab": {
          "base_uri": "https://localhost:8080/"
        },
        "id": "jpA3nBsZLX-d",
        "outputId": "9b73adc9-fd2d-4d57-8a4d-a023e1a58cec"
      },
      "execution_count": null,
      "outputs": [
        {
          "output_type": "stream",
          "name": "stdout",
          "text": [
            "True\n"
          ]
        }
      ]
    },
    {
      "cell_type": "markdown",
      "source": [
        "# Definition and Usage\n",
        "\n",
        "The isprintable() method returns True if all the characters are printable,otherwise False.\n",
        "\n",
        "# Parameter Values\n",
        "\n",
        "No parameters."
      ],
      "metadata": {
        "id": "84hfKKmfLlPL"
      }
    },
    {
      "cell_type": "code",
      "source": [
        "# Example:\n",
        "\n",
        "txt=\"Hello!\\nAre you #1?\"\n",
        "\n",
        "x=txt.isprintable()\n",
        "print(x)\n"
      ],
      "metadata": {
        "colab": {
          "base_uri": "https://localhost:8080/"
        },
        "id": "rayyLCbWL8js",
        "outputId": "bb59cffc-7948-4471-873b-2902d0ac3326"
      },
      "execution_count": null,
      "outputs": [
        {
          "output_type": "stream",
          "name": "stdout",
          "text": [
            "False\n"
          ]
        }
      ]
    },
    {
      "cell_type": "markdown",
      "source": [
        "# Python String isspace() Method\n"
      ],
      "metadata": {
        "id": "prV2yARHMjoi"
      }
    },
    {
      "cell_type": "code",
      "source": [
        "# Example:\n",
        "txt=\"  \"\n",
        "x=txt.isspace()\n",
        "print(x)"
      ],
      "metadata": {
        "colab": {
          "base_uri": "https://localhost:8080/"
        },
        "id": "9CLDQQnaMhxp",
        "outputId": "7317d15d-dac9-4fe7-f42b-b0ef040fdb2b"
      },
      "execution_count": null,
      "outputs": [
        {
          "output_type": "stream",
          "name": "stdout",
          "text": [
            "True\n"
          ]
        }
      ]
    },
    {
      "cell_type": "markdown",
      "source": [
        "# Definition and Usage\n",
        "\n",
        "The isspace() method returns True if all the characters in a string  are whitespace,otherwise False.\n",
        "\n",
        "# Syntax\n",
        "\n",
        "string.ispace()"
      ],
      "metadata": {
        "id": "6gF6Xk36Mydu"
      }
    },
    {
      "cell_type": "code",
      "source": [
        "# Example:\n",
        "txt=\"    s    \"\n",
        "x=txt.isspace()\n",
        "print(x)"
      ],
      "metadata": {
        "colab": {
          "base_uri": "https://localhost:8080/"
        },
        "id": "WcVT3MGIMw71",
        "outputId": "79f9f81d-f6b5-4c8f-c3fd-5bb287a238f0"
      },
      "execution_count": null,
      "outputs": [
        {
          "output_type": "stream",
          "name": "stdout",
          "text": [
            "False\n"
          ]
        }
      ]
    },
    {
      "cell_type": "markdown",
      "source": [
        "# Python String istitle() Method\n",
        "\n"
      ],
      "metadata": {
        "id": "epI438fvNVJC"
      }
    },
    {
      "cell_type": "code",
      "source": [
        "# Example\n",
        "\n",
        "txt=\"Hello, And Welcome To My World!\"\n",
        "x=txt.istitle()\n",
        "print(x)"
      ],
      "metadata": {
        "colab": {
          "base_uri": "https://localhost:8080/"
        },
        "id": "j1ILw_MJNZz2",
        "outputId": "fb15891e-5329-4cda-f6e5-7192dd468102"
      },
      "execution_count": null,
      "outputs": [
        {
          "output_type": "stream",
          "name": "stdout",
          "text": [
            "True\n"
          ]
        }
      ]
    },
    {
      "cell_type": "markdown",
      "source": [
        "# Definition and Usage\n",
        "\n",
        "The istitle() method returns True if all words in a text start with a upper case letter, AND the rest of the word are lower case letters, otherwise False\n",
        "\n",
        "# Syntax\n",
        "\n",
        "string.istitle()\n",
        "\n",
        "# Parameter Values\n",
        "\n",
        "No parameters.\n"
      ],
      "metadata": {
        "id": "dlL9lTB1NnAq"
      }
    },
    {
      "cell_type": "code",
      "source": [
        "# Example\n",
        "\n",
        "a=\"HELLO, AND WELCOME TO MY WORLD\"\n",
        "b=\"Hello hiw\"\n",
        "c=\"22 Names\"\n",
        "d=\"This Is %'!?\"\n",
        "\n",
        "print(a.istitle())\n",
        "print(b.istitle())\n",
        "print(c.istitle())\n",
        "print(d.istitle())"
      ],
      "metadata": {
        "id": "-p-1ZX12SDDG",
        "colab": {
          "base_uri": "https://localhost:8080/"
        },
        "outputId": "1559771a-e8e2-4804-de54-f1eabeb4a892"
      },
      "execution_count": 2,
      "outputs": [
        {
          "output_type": "stream",
          "name": "stdout",
          "text": [
            "False\n",
            "False\n",
            "True\n",
            "True\n"
          ]
        }
      ]
    },
    {
      "cell_type": "markdown",
      "source": [
        "# Python String isupper() Method\n",
        "\n"
      ],
      "metadata": {
        "id": "QbI5lGWwv_UO"
      }
    },
    {
      "cell_type": "code",
      "source": [
        "# Example:\n",
        "\n",
        "txt=\"THIS IS NOW!\"\n",
        "\n",
        "x=txt.isupper()\n",
        "\n",
        "print(x)"
      ],
      "metadata": {
        "colab": {
          "base_uri": "https://localhost:8080/"
        },
        "id": "yS5Gm-OowDWp",
        "outputId": "b5c27f03-f945-41a4-abc1-3b25484bf931"
      },
      "execution_count": 3,
      "outputs": [
        {
          "output_type": "stream",
          "name": "stdout",
          "text": [
            "True\n"
          ]
        }
      ]
    },
    {
      "cell_type": "markdown",
      "source": [
        "# Definition and Usage\n",
        "\n",
        "The isupper() method returns True if all the characters are in upper case, otherwise False. Numbers,symbols and spaces are not checked,only alphabet characters.\n",
        "\n",
        "# Syntax\n",
        "\n",
        "string.isupper()\n",
        "\n",
        "# Parameter Values\n",
        "No parameters\n",
        "\n"
      ],
      "metadata": {
        "id": "jmWmv7Vow4Wg"
      }
    },
    {
      "cell_type": "code",
      "source": [
        "# Example:\n",
        "\n",
        "a=\"Hello World!\"\n",
        "b='hello 123'\n",
        "c=\"MY NAME IS PETER\"\n",
        "\n",
        "print(a.isupper())\n",
        "print(b.isupper())\n",
        "print(c.isupper())"
      ],
      "metadata": {
        "colab": {
          "base_uri": "https://localhost:8080/"
        },
        "id": "CXqrufPmxSnF",
        "outputId": "a234c783-9bf3-486a-b694-999e42f3b651"
      },
      "execution_count": 4,
      "outputs": [
        {
          "output_type": "stream",
          "name": "stdout",
          "text": [
            "False\n",
            "False\n",
            "True\n"
          ]
        }
      ]
    },
    {
      "cell_type": "markdown",
      "source": [
        "# Python String join() Method\n",
        "\n"
      ],
      "metadata": {
        "id": "QtjG6AbaxmBE"
      }
    },
    {
      "cell_type": "code",
      "source": [
        "# Example\n",
        "# Join all items in a tuple into  a string, a hash character as separator:\n",
        "\n",
        "myTuple=(\"Jhon\",\"Peter\",\"Vicky\")\n",
        "x=\"#\".join(myTuple)\n",
        "print(x)"
      ],
      "metadata": {
        "colab": {
          "base_uri": "https://localhost:8080/"
        },
        "id": "taOX8UI1xqWe",
        "outputId": "3c51b0ae-808d-4643-d155-0cd5b7f50f4a"
      },
      "execution_count": 6,
      "outputs": [
        {
          "output_type": "stream",
          "name": "stdout",
          "text": [
            "Jhon#Peter#Vicky\n"
          ]
        }
      ]
    },
    {
      "cell_type": "markdown",
      "source": [
        "# Definition and Usage\n",
        "\n",
        "The join() method takes all items in an iterable and joins them into one string.\n",
        "A string must be specified as the separator.\n",
        "\n",
        "# Syntax\n",
        "\n",
        "string.join(iterable)\n",
        "\n",
        "# Parameter Values\n",
        "\n",
        "iterable => Required. Any iterable object where all the returned values are strings\n"
      ],
      "metadata": {
        "id": "nDi-V0jCyCnd"
      }
    },
    {
      "cell_type": "code",
      "source": [
        "# Example:\n",
        "\n",
        "# Join all items in a dictionary into a string, using the word \"TEST\" as separator:\n",
        "\n",
        "myDict={\"name\":\"john\",\"country\":\"Norway\"}\n",
        "mySeparator=\"TEST\"\n",
        "\n",
        "x=mySeparator.join(myDict)\n",
        "print(x)\n",
        "\n",
        "name=\"pandi\"\n",
        "x=\"i\".join(name)\n",
        "print(x)"
      ],
      "metadata": {
        "colab": {
          "base_uri": "https://localhost:8080/"
        },
        "id": "MMp8UidwzNzn",
        "outputId": "bae47815-43a3-479d-96cb-daa0cb6c27a7"
      },
      "execution_count": 10,
      "outputs": [
        {
          "output_type": "stream",
          "name": "stdout",
          "text": [
            "nameTESTcountry\n",
            "piainidii\n"
          ]
        }
      ]
    },
    {
      "cell_type": "markdown",
      "source": [
        "# Note: When using a dictionary as an iterable,the returned values are the keys,not the values."
      ],
      "metadata": {
        "id": "C0ydPlttz_qt"
      }
    },
    {
      "cell_type": "markdown",
      "source": [
        "# Python String ljust() Method"
      ],
      "metadata": {
        "id": "tJguxuDU0M2f"
      }
    },
    {
      "cell_type": "code",
      "source": [
        "# Example:\n",
        "# Return a 20 characters long,left justified version of the word \"banana\":\n",
        "\n",
        "txt=\"banana\"\n",
        "x=txt.ljust(20)\n",
        "\n",
        "print(x,\"is my favorite fruit\")"
      ],
      "metadata": {
        "colab": {
          "base_uri": "https://localhost:8080/"
        },
        "id": "zB6TEuMI0RrW",
        "outputId": "ac807c84-050c-4e59-8da4-f77d29ac940a"
      },
      "execution_count": 11,
      "outputs": [
        {
          "output_type": "stream",
          "name": "stdout",
          "text": [
            "banana               is my favorite fruit\n"
          ]
        }
      ]
    },
    {
      "cell_type": "markdown",
      "source": [
        "# In the result, there are actually 14 whitespaces to the right of the word banana.\n",
        "\n",
        "# Definition and Usage:\n",
        "\n",
        "The ljust() method will left align the string, using a specifed character(space is default) as the fill character.\n",
        "\n",
        "# Syntax\n",
        "\n",
        "string.ljust(length,character)\n",
        "\n",
        "# Parameter Values:\n",
        "\n",
        "length   Required. The length of the returned string.\n",
        "\n",
        "character  Optional. A character to fill the missing space(to the right of the string). Default is\"\" space\n",
        "\n"
      ],
      "metadata": {
        "id": "ENJwN6Nr0nK6"
      }
    },
    {
      "cell_type": "code",
      "source": [
        "# Example\n",
        "\n",
        "txt=\"banana\"\n",
        "x=txt.ljust(20,\"O\")\n",
        "print(x)"
      ],
      "metadata": {
        "colab": {
          "base_uri": "https://localhost:8080/"
        },
        "id": "1FpWvbw71ihF",
        "outputId": "e65180f6-b794-458e-8983-9a3bfa6367de"
      },
      "execution_count": 12,
      "outputs": [
        {
          "output_type": "stream",
          "name": "stdout",
          "text": [
            "bananaOOOOOOOOOOOOOO\n"
          ]
        }
      ]
    },
    {
      "cell_type": "markdown",
      "source": [
        "# Python String lower() Method\n",
        "\n"
      ],
      "metadata": {
        "id": "48eawUYB1ugR"
      }
    },
    {
      "cell_type": "code",
      "source": [
        "# Example:\n",
        "txt=\"Hello my FRIENDS\"\n",
        "x=txt.lower()\n",
        "print(x)"
      ],
      "metadata": {
        "colab": {
          "base_uri": "https://localhost:8080/"
        },
        "id": "G7XKLWrB1zCL",
        "outputId": "21e8ffd5-c9f5-4290-8b57-fe9c39ad2ca8"
      },
      "execution_count": 13,
      "outputs": [
        {
          "output_type": "stream",
          "name": "stdout",
          "text": [
            "hello my friends\n"
          ]
        }
      ]
    },
    {
      "cell_type": "markdown",
      "source": [
        "# Definition and Usage\n",
        "\n",
        "The lower() method returns a string where all characters are lower case\n",
        "\n",
        "Symbols and Numbers are ignored.\n",
        "\n",
        "# Syntax\n",
        "\n",
        "string.lower()\n",
        "\n",
        "# Parameter Values\n",
        "\n",
        "No parameter"
      ],
      "metadata": {
        "id": "M7Wzk8ut18UK"
      }
    },
    {
      "cell_type": "markdown",
      "source": [
        "# Python String lstrip() Method\n"
      ],
      "metadata": {
        "id": "Geud3Xaj2bbi"
      }
    },
    {
      "cell_type": "code",
      "source": [
        "# Example\n",
        "\n",
        "txt=\"     banana     \"\n",
        "\n",
        "x=txt.lstrip()\n",
        "print(\"of all fruits\",x,\"is my favorite\")"
      ],
      "metadata": {
        "colab": {
          "base_uri": "https://localhost:8080/"
        },
        "id": "UNc1qo-c2h_v",
        "outputId": "fde8e8c9-e490-4f68-85ca-a83d5e9fb46b"
      },
      "execution_count": 14,
      "outputs": [
        {
          "output_type": "stream",
          "name": "stdout",
          "text": [
            "of all fruits banana      is my favorite\n"
          ]
        }
      ]
    },
    {
      "cell_type": "markdown",
      "source": [
        "# Definition and Usage\n",
        "\n",
        "The lstrip() method removes any leading characters (space is the default character to remove)\n",
        "\n",
        "# Syntax\n",
        "\n",
        "string.lstrip(characters)\n",
        "\n",
        "# Parameter Values\n",
        "characters  ==> Optional. A set of characters to remove as leading characters"
      ],
      "metadata": {
        "id": "pa3egMTD2xUi"
      }
    },
    {
      "cell_type": "code",
      "source": [
        "# Example\n",
        "# Remove the leading characters:\n",
        "\n",
        "txt=\",,,,,,,,ssaww........banana......,,,,,,ssaww\"\n",
        "\n",
        "x=txt.lstrip(\",.asw\")\n",
        "print(x)"
      ],
      "metadata": {
        "colab": {
          "base_uri": "https://localhost:8080/"
        },
        "id": "xWWmIjDL3XAr",
        "outputId": "f355c6a4-0b7d-4109-b536-35b64a53135c"
      },
      "execution_count": 16,
      "outputs": [
        {
          "output_type": "stream",
          "name": "stdout",
          "text": [
            "banana......,,,,,,ssaww\n"
          ]
        }
      ]
    },
    {
      "cell_type": "markdown",
      "source": [
        "# Python String maketrans() Method"
      ],
      "metadata": {
        "id": "aUom8tzX4V3n"
      }
    },
    {
      "cell_type": "code",
      "source": [
        "# Example\n",
        "# Create a mapping table, and use it in the translate() method to replace any \"S\" Characters with \"P\" character:\n",
        "\n",
        "txt= \"Hello Sam!\"\n",
        "\n",
        "mytable=str.maketrans(\"S\",\"P\")\n",
        "\n",
        "print(txt.translate(mytable))"
      ],
      "metadata": {
        "colab": {
          "base_uri": "https://localhost:8080/"
        },
        "id": "gZzBV8oo4cMT",
        "outputId": "f174cb4c-ca9c-4526-e2c1-5a3dc256f57a"
      },
      "execution_count": 18,
      "outputs": [
        {
          "output_type": "stream",
          "name": "stdout",
          "text": [
            "Hello Pam!\n"
          ]
        }
      ]
    },
    {
      "cell_type": "markdown",
      "source": [
        "\n",
        "# Definition and Usage\n",
        "\n",
        "The maketrans() method returns a mapping table that can be used with the translate() method to replace specified characters.\n",
        "\n",
        "# Syntax\n",
        "\n",
        "str.maketrans(x,y,z)\n",
        "\n",
        "# Parameter Values\n",
        "\n",
        "x => Required.If only one parameter is specified,this has to be a dictionary describing how to perform the replace. If two or more parameters are specified,this parameter has to be a string specifying the characters you want to replace.\n",
        "\n",
        "\n",
        "y => Optional. A string with the same length as parameter x.Each character in the first parameter will be replaced  with the corresponding character in this string.\n",
        "\n",
        "z => Optional. A string describing which characters to  remove from the original string."
      ],
      "metadata": {
        "id": "SojMRZQ3WAzl"
      }
    },
    {
      "cell_type": "code",
      "source": [
        "# Example:\n",
        "# Use a mapping table to replace many characters:\n",
        "\n",
        "txt = \"Hi Sam!\"\n",
        "x=\"mSa\"\n",
        "y=\"ejo\"\n",
        "mytable=str.maketrans(x,y)\n",
        "print(txt.translate(mytable))"
      ],
      "metadata": {
        "colab": {
          "base_uri": "https://localhost:8080/"
        },
        "id": "rNCqpsUXYolC",
        "outputId": "e54813bc-57df-4c40-a379-5d1a6bda8793"
      },
      "execution_count": 19,
      "outputs": [
        {
          "output_type": "stream",
          "name": "stdout",
          "text": [
            "Hi joe!\n"
          ]
        }
      ]
    },
    {
      "cell_type": "code",
      "source": [
        "# Example:\n",
        "# The third parameter in the mapping table describe characters that you want to remove from the string:\n",
        "\n",
        "txt=\"Good night Sam!\"\n",
        "\n",
        "x=\"mSa\"\n",
        "y=\"eJo\"\n",
        "z=\"odnght\"\n",
        "\n",
        "mytable=str.maketrans(x,y,z)\n",
        "print(txt.translate(mytable))"
      ],
      "metadata": {
        "colab": {
          "base_uri": "https://localhost:8080/"
        },
        "id": "YcpNJ3DoZFW2",
        "outputId": "a2ccda5d-629b-4757-feb3-ae468dee3e7e"
      },
      "execution_count": 20,
      "outputs": [
        {
          "output_type": "stream",
          "name": "stdout",
          "text": [
            "G i Joe!\n"
          ]
        }
      ]
    },
    {
      "cell_type": "code",
      "source": [
        "# Example\n",
        "# The maketrans() method itself returns a dictionary describing each replacement, in unicode:\n",
        "\n",
        "txt=\"Good night Sam!\"\n",
        "x=\"mSa\"\n",
        "y=\"eJo\"\n",
        "z=\"odnght\"\n",
        "print(str.maketrans(x,y,z))"
      ],
      "metadata": {
        "colab": {
          "base_uri": "https://localhost:8080/"
        },
        "id": "ZNQSI70FZnHw",
        "outputId": "bb05c212-d685-4a3e-9c1d-a1401eff2ade"
      },
      "execution_count": 21,
      "outputs": [
        {
          "output_type": "stream",
          "name": "stdout",
          "text": [
            "{109: 101, 83: 74, 97: 111, 111: None, 100: None, 110: None, 103: None, 104: None, 116: None}\n"
          ]
        }
      ]
    },
    {
      "cell_type": "markdown",
      "source": [
        "# Python String partition() Method\n",
        "\n",
        "# Example\n",
        "\n",
        "Search for the word \"bananas\", and return a tuple with three elements:\n",
        "\n",
        "1 - everything before the \"match\"\n",
        "2 - the \"match\"\n",
        "3 - everything after the \"match\""
      ],
      "metadata": {
        "id": "5mZSzfBwbQnD"
      }
    },
    {
      "cell_type": "code",
      "source": [
        "txt=\"I could eat bananas all day\"\n",
        "x=txt.partition(\"bananas\")\n",
        "print(x)"
      ],
      "metadata": {
        "colab": {
          "base_uri": "https://localhost:8080/"
        },
        "id": "R-r1pyBfb026",
        "outputId": "0bccb4fc-748f-4cd6-d8c1-98fe64c5ea70"
      },
      "execution_count": 22,
      "outputs": [
        {
          "output_type": "stream",
          "name": "stdout",
          "text": [
            "('I could eat ', 'bananas', ' all day')\n"
          ]
        }
      ]
    },
    {
      "cell_type": "markdown",
      "source": [
        "# Definition and Usage\n",
        "\n",
        "The partition() method searches for a specified string,and splits the string into a tuple containing three elements.\n",
        "\n",
        "The first element contains the part before the specified string.\n",
        "\n",
        "The second element contains the specified string.\n",
        "\n",
        "The third element contains the part after the string.\n",
        "\n",
        "# Note: This method searches for the first occurrence of the specified string.\n",
        "\n",
        "# Syntax\n",
        "\n",
        "string.partition(value)\n",
        "\n",
        "# Parameter Values\n",
        "\n",
        "value  =  Required. The string to search for"
      ],
      "metadata": {
        "id": "h3WKl7qacExf"
      }
    },
    {
      "cell_type": "markdown",
      "source": [
        "# Example:\n",
        "\n",
        "If the specified value is not found, the partition() method returns a tuple containing: 1 - the whole string, 2-an empty string, 3- an empty string:"
      ],
      "metadata": {
        "id": "3KSBmVRVd20T"
      }
    },
    {
      "cell_type": "code",
      "source": [
        "txt=\"I could eat bananas all day\"\n",
        "x=txt.partition(\"apples\")\n",
        "\n",
        "print(x)"
      ],
      "metadata": {
        "colab": {
          "base_uri": "https://localhost:8080/"
        },
        "id": "yaFNMcxKeKk2",
        "outputId": "743c7621-0e37-406a-9032-57f2bddbd359"
      },
      "execution_count": 23,
      "outputs": [
        {
          "output_type": "stream",
          "name": "stdout",
          "text": [
            "('I could eat bananas all day', '', '')\n"
          ]
        }
      ]
    },
    {
      "cell_type": "markdown",
      "source": [
        "# Python String replace() Method\n",
        "\n"
      ],
      "metadata": {
        "id": "D2z7BZG4ee9O"
      }
    },
    {
      "cell_type": "code",
      "source": [
        "# Example:\n",
        "txt=\"I like bananas\"\n",
        "x=txt.replace(\"bananas\",\"apples\")\n",
        "print(x)"
      ],
      "metadata": {
        "colab": {
          "base_uri": "https://localhost:8080/"
        },
        "id": "ZHRzSeRlelNe",
        "outputId": "64ac5092-75c5-47b5-d2e3-0ed9ae1eaacb"
      },
      "execution_count": 24,
      "outputs": [
        {
          "output_type": "stream",
          "name": "stdout",
          "text": [
            "I like apples\n"
          ]
        }
      ]
    },
    {
      "cell_type": "markdown",
      "source": [
        "# Definition and Usage\n",
        "\n",
        "The replace() method replaces a specified phrase with another specified phrase.\n",
        "\n",
        "# Note: All occurrences of the specified phrase wil be replaced, if nothing else is specified.\n",
        "\n",
        "# Syntax\n",
        "string.replace(oldvalue,newvalue,count)\n",
        "\n",
        "# Parameter Values\n",
        "\n",
        "oldvalue  =>  Required.The string to search for\n",
        "\n",
        "newvalue  =>  Required. The string  to replace the old value with\n",
        "\n",
        "count    =>  Optional. A number specifying how may occurrences of the old value you want to replace. Default is all occurrences."
      ],
      "metadata": {
        "id": "sPCIEJSfezKP"
      }
    },
    {
      "cell_type": "code",
      "source": [
        "# Example\n",
        "txt=\"one one was a race horse,two two was one too.\"\n",
        "x=txt.replace(\"one\",\"three\")\n",
        "print(x)"
      ],
      "metadata": {
        "colab": {
          "base_uri": "https://localhost:8080/"
        },
        "id": "V7EBCapMfylK",
        "outputId": "d72dd98c-4ac8-4342-8969-02d7206222ee"
      },
      "execution_count": 26,
      "outputs": [
        {
          "output_type": "stream",
          "name": "stdout",
          "text": [
            "three three was a race horse,two two was three too.\n"
          ]
        }
      ]
    },
    {
      "cell_type": "code",
      "source": [
        "# Example\n",
        "# Replace the two first occurrence of the word \"one\":\n",
        "\n",
        "txt=\"one one was a race horse,two two was one too.\"\n",
        "x=txt.replace(\"one\",\"three\",2)\n",
        "print(x)"
      ],
      "metadata": {
        "colab": {
          "base_uri": "https://localhost:8080/"
        },
        "id": "y2yqnpqyfz9O",
        "outputId": "d788d8b1-81ba-4c19-d588-675ebd7b3033"
      },
      "execution_count": 29,
      "outputs": [
        {
          "output_type": "stream",
          "name": "stdout",
          "text": [
            "three three was a race horse,two two was one too.\n"
          ]
        }
      ]
    },
    {
      "cell_type": "markdown",
      "source": [
        "# Python String rfind() Method\n",
        "\n"
      ],
      "metadata": {
        "id": "j799wxrQhcmk"
      }
    },
    {
      "cell_type": "code",
      "source": [],
      "metadata": {
        "id": "bMjzVioXsW8a"
      },
      "execution_count": null,
      "outputs": []
    },
    {
      "cell_type": "code",
      "source": [],
      "metadata": {
        "id": "GineJc3eu4m7"
      },
      "execution_count": null,
      "outputs": []
    }
  ]
}
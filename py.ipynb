{
  "nbformat": 4,
  "nbformat_minor": 0,
  "metadata": {
    "colab": {
      "provenance": [],
      "authorship_tag": "ABX9TyPH1Dci8jaSe60dCt0Ezktl",
      "include_colab_link": true
    },
    "kernelspec": {
      "name": "python3",
      "display_name": "Python 3"
    },
    "language_info": {
      "name": "python"
    }
  },
  "cells": [
    {
      "cell_type": "markdown",
      "metadata": {
        "id": "view-in-github",
        "colab_type": "text"
      },
      "source": [
        "<a href=\"https://colab.research.google.com/github/PandiDurai010722/Python_code/blob/master/py.ipynb\" target=\"_parent\"><img src=\"https://colab.research.google.com/assets/colab-badge.svg\" alt=\"Open In Colab\"/></a>"
      ]
    },
    {
      "cell_type": "markdown",
      "source": [
        "Python Introduction\n",
        "\n",
        "What is Python?\n",
        "python is a popular programming language.It was created by Guido van Rossum,and released in 1991.\n",
        "\n",
        "It is used for:\n",
        "\n",
        "\n",
        "1.   Web development(server-side),\n",
        "2.   Software development,\n",
        "3.   Mathematics,\n",
        "4.   System scripting.\n",
        "\n",
        "What can Python do?\n",
        "\n",
        "\n",
        "*   Python works on different platforms (Window, Mac,Linux,Raspberry pi,etc)\n",
        "*   Python has a simple syntax similar to the English language.\n",
        "*   Python has syntax  that allows developers to write programs with fewer     lines than some other programming languges\n",
        "*   Python runs on an interpreter system,meaning that code can be executed as soon as it is written.This means that prototyping can be very quick.\n",
        "*   Python can be treated in a procedural way,an object-oriented way or a functional way\n"
      ],
      "metadata": {
        "id": "DqMQ_1Wc5E2W"
      }
    },
    {
      "cell_type": "code",
      "source": [
        "print(\"Hello,World\")"
      ],
      "metadata": {
        "colab": {
          "base_uri": "https://localhost:8080/"
        },
        "id": "ctEV4Xj58MtT",
        "outputId": "aeb8b7c1-579f-4879-b329-efdeee22512f"
      },
      "execution_count": null,
      "outputs": [
        {
          "output_type": "stream",
          "name": "stdout",
          "text": [
            "Hello,World\n"
          ]
        }
      ]
    },
    {
      "cell_type": "markdown",
      "source": [
        "Python Indentation\n",
        "\n",
        "Indentation refers to the spaces at the beginning of a code line.\n",
        "\n",
        "Where in other programming languages the indentation in code is for readability only, the indentation in Python is very important.\n",
        "\n",
        "Python uses indentation to indicate a block of code."
      ],
      "metadata": {
        "id": "fydlcap38YMo"
      }
    },
    {
      "cell_type": "code",
      "source": [
        "# Example\n",
        "if 5>2:\n",
        "  print(\"Five is greater than tow!\")"
      ],
      "metadata": {
        "colab": {
          "base_uri": "https://localhost:8080/"
        },
        "id": "lK9DHRiE9L-U",
        "outputId": "65232f91-6ee8-4a07-c6ba-1df3ac581326"
      },
      "execution_count": null,
      "outputs": [
        {
          "output_type": "stream",
          "name": "stdout",
          "text": [
            "Five is greater than tow!\n"
          ]
        }
      ]
    },
    {
      "cell_type": "code",
      "source": [
        "# Example\n",
        "# Syntax Error:\n",
        "if 5> 2:\n",
        "print(\"Five is greater than two+\")"
      ],
      "metadata": {
        "colab": {
          "base_uri": "https://localhost:8080/",
          "height": 142
        },
        "id": "v1AcdL3j9cxq",
        "outputId": "a53629d2-a777-4470-e371-3fae8881e884"
      },
      "execution_count": null,
      "outputs": [
        {
          "output_type": "error",
          "ename": "IndentationError",
          "evalue": "ignored",
          "traceback": [
            "\u001b[0;36m  File \u001b[0;32m\"<ipython-input-4-54c8e4622c1a>\"\u001b[0;36m, line \u001b[0;32m4\u001b[0m\n\u001b[0;31m    print(\"Five is greater than two+\")\u001b[0m\n\u001b[0m    ^\u001b[0m\n\u001b[0;31mIndentationError\u001b[0m\u001b[0;31m:\u001b[0m expected an indented block after 'if' statement on line 3\n"
          ]
        }
      ]
    },
    {
      "cell_type": "markdown",
      "source": [
        "The number of spaces is up to you as a programmer,the most common use is four,but it has to be at least one."
      ],
      "metadata": {
        "id": "kN7zXRJt98C2"
      }
    },
    {
      "cell_type": "code",
      "source": [
        "# Example\n",
        "\n",
        "if 5>2:\n",
        " print(\"Five is greater than two!\")\n",
        "if 5>2:\n",
        "    print(\"Five is greater than two!\")"
      ],
      "metadata": {
        "colab": {
          "base_uri": "https://localhost:8080/"
        },
        "id": "Te4cPKHb-LZ7",
        "outputId": "89247cb7-9bb9-435f-eec4-52a8ed9d516b"
      },
      "execution_count": null,
      "outputs": [
        {
          "output_type": "stream",
          "name": "stdout",
          "text": [
            "Five is greater than two!\n",
            "Five is greater than two!\n"
          ]
        }
      ]
    },
    {
      "cell_type": "markdown",
      "source": [
        "You have to use the same number of spaces in same block of code, otherwise Python will give you an error:"
      ],
      "metadata": {
        "id": "clhsAbYF-jGt"
      }
    },
    {
      "cell_type": "code",
      "source": [
        "# Example\n",
        "# Syntax Error:\n",
        "\n",
        "if 5>2:\n",
        "  print(\"Five is greater than two!\")\n",
        "    print(\"Five is greater than two!\")"
      ],
      "metadata": {
        "id": "3mykyetY-xWp"
      },
      "execution_count": null,
      "outputs": []
    },
    {
      "cell_type": "markdown",
      "source": [
        "Python Variables\n",
        "\n",
        "In Python, variables are created when you assing a value to it:"
      ],
      "metadata": {
        "id": "L_14aa0T_LHL"
      }
    },
    {
      "cell_type": "code",
      "source": [
        "# Example\n",
        "# Variables in Python:\n",
        "\n",
        "x =5\n",
        "y=\"Hello, World\"\n",
        "\n",
        "print(x)\n",
        "print(y)"
      ],
      "metadata": {
        "colab": {
          "base_uri": "https://localhost:8080/"
        },
        "id": "oE7NFbqS_aa9",
        "outputId": "69880a36-76c8-4bdc-bb89-3d26ad56ad34"
      },
      "execution_count": null,
      "outputs": [
        {
          "output_type": "stream",
          "name": "stdout",
          "text": [
            "5\n",
            "Hello, World\n"
          ]
        }
      ]
    },
    {
      "cell_type": "markdown",
      "source": [
        "Python has no command for declaring a variable.\n",
        "\n",
        "Comments\n",
        "\n",
        "Python has commenting capabilty for the purpose of in-code documention.\n",
        "Comments start with a #, and Python will render the rest of the line as a comment:"
      ],
      "metadata": {
        "id": "8NHJgmHt_yyp"
      }
    },
    {
      "cell_type": "code",
      "source": [
        "# Example\n",
        "# Comments in Python:\n",
        "# This is a comment.\n",
        "print(\"Hello,World\")"
      ],
      "metadata": {
        "id": "nAfVssNJAuS3"
      },
      "execution_count": null,
      "outputs": []
    },
    {
      "cell_type": "markdown",
      "source": [
        "Python Comments\n",
        "\n",
        "Comments are be used to explain Python code.\n",
        "Comments can be used to make the code more readable.\n",
        "Comments can be used to prevent execution when testing code.\n",
        "\n",
        "Creating a Comment\n",
        "\n",
        "Comments starts with a # , and Python will ignore them:"
      ],
      "metadata": {
        "id": "bSVE_iUXBF8E"
      }
    },
    {
      "cell_type": "code",
      "source": [
        "# Example\n",
        "# This  is a comment\n",
        "print(\"Hello, World\")"
      ],
      "metadata": {
        "id": "B3prK_BuD5c3"
      },
      "execution_count": null,
      "outputs": []
    },
    {
      "cell_type": "markdown",
      "source": [
        "Comments can be placed at the end of a line,and Python  will ignore the rest of the line:"
      ],
      "metadata": {
        "id": "rYZo1m64EFwu"
      }
    },
    {
      "cell_type": "code",
      "source": [
        "# Example\n",
        "print(\"Hello, World\") #This is a comment"
      ],
      "metadata": {
        "id": "UaZP_VyAERsT"
      },
      "execution_count": null,
      "outputs": []
    },
    {
      "cell_type": "markdown",
      "source": [
        "A comment does not have to be text that explains the code,it can also be used to prevent Python from executing code:"
      ],
      "metadata": {
        "id": "yR0kdDjjEcHx"
      }
    },
    {
      "cell_type": "code",
      "source": [
        "# Example\n",
        "# print(\"Hello, World\")\n",
        "print(\"Cheers, Mate!\")"
      ],
      "metadata": {
        "id": "eDJebjwqEtLo"
      },
      "execution_count": null,
      "outputs": []
    },
    {
      "cell_type": "markdown",
      "source": [
        "Multiline Comments\n",
        "Python does not really have a syntax for multiline comments.\n",
        "To add a multiline comment you could insert a # for each line:"
      ],
      "metadata": {
        "id": "hCxfUDdAE55q"
      }
    },
    {
      "cell_type": "code",
      "source": [
        "# Example\n",
        "# This is a comment\n",
        "# written in\n",
        "# more than just one line\n",
        "print(\"Hello,World\")"
      ],
      "metadata": {
        "id": "dA9z_qddFNPW"
      },
      "execution_count": null,
      "outputs": []
    },
    {
      "cell_type": "markdown",
      "source": [
        "Or, not quite as intended, You can use a multiline string.\n",
        "\n",
        "Since Python will ignore string literals that are not assigned to a variable, you can add a multline string(triple quotes) in your code,and place your comment inside it:\n"
      ],
      "metadata": {
        "id": "VaQrLizRFZWQ"
      }
    },
    {
      "cell_type": "code",
      "source": [
        "# Example\n",
        "\n",
        "\"\"\"This is a comment written\n",
        "in more\n",
        "than just one line\n",
        "\"\"\"\n",
        "print(\"Hello, World!\")\n",
        "\"\"\"\n",
        "x=67\n",
        "y=90\n",
        "z=\"Pandi\"\n",
        "\"\"\""
      ],
      "metadata": {
        "colab": {
          "base_uri": "https://localhost:8080/",
          "height": 52
        },
        "id": "tTnNfI9XGJhg",
        "outputId": "1d73299d-3b8c-4299-9ad5-b4bd800ba0b0"
      },
      "execution_count": null,
      "outputs": [
        {
          "output_type": "stream",
          "name": "stdout",
          "text": [
            "Hello, World!\n"
          ]
        },
        {
          "output_type": "execute_result",
          "data": {
            "text/plain": [
              "'\\nx=67\\ny=90\\nz=\"Pandi\"\\n'"
            ],
            "application/vnd.google.colaboratory.intrinsic+json": {
              "type": "string"
            }
          },
          "metadata": {},
          "execution_count": 7
        }
      ]
    },
    {
      "cell_type": "markdown",
      "source": [
        "As long as the string is not assinged to a variable,Python will read the code, but then ignore it,and you have made a multiline comment."
      ],
      "metadata": {
        "id": "-L1xgGvlGq5Q"
      }
    },
    {
      "cell_type": "markdown",
      "source": [
        "Python Variables\n",
        "\n",
        "Variables\n",
        "\n",
        "variables are containers for storing data values.\n",
        "\n",
        "Creating Variables\n",
        "\n",
        "Python has no command for declaring a variable.\n",
        "\n",
        "A variable is created the moment you first assign a value to it."
      ],
      "metadata": {
        "id": "UKtXdTq0HF0u"
      }
    },
    {
      "cell_type": "code",
      "source": [
        "# Example\n",
        "\n",
        "x=5\n",
        "y=\"Jhon\"\n",
        "print(x)\n",
        "print(y)"
      ],
      "metadata": {
        "colab": {
          "base_uri": "https://localhost:8080/"
        },
        "id": "Ta_XmW1IHedN",
        "outputId": "0643ff97-d1b7-48bb-aca8-b0ab8c93a0d1"
      },
      "execution_count": null,
      "outputs": [
        {
          "output_type": "stream",
          "name": "stdout",
          "text": [
            "5\n",
            "Jhon\n"
          ]
        }
      ]
    },
    {
      "cell_type": "markdown",
      "source": [
        "Variables does not need to be declared with any particular type, and can even change type after they have been set."
      ],
      "metadata": {
        "id": "c7ZmFHGuHrf1"
      }
    },
    {
      "cell_type": "code",
      "source": [
        "# Example\n",
        "\n",
        "x=4 # x is of type int\n",
        "x=\"Sally\" #x is now of type str\n",
        "print(x)"
      ],
      "metadata": {
        "colab": {
          "base_uri": "https://localhost:8080/"
        },
        "id": "udyVr7IPH7tv",
        "outputId": "a0a9ad7a-4d3a-437d-ab21-e194023e534b"
      },
      "execution_count": null,
      "outputs": [
        {
          "output_type": "stream",
          "name": "stdout",
          "text": [
            "Sally\n"
          ]
        }
      ]
    },
    {
      "cell_type": "markdown",
      "source": [
        "Casting\n",
        "\n",
        "If you want to specify the data type of a variable, this can be done with casting"
      ],
      "metadata": {
        "id": "h04WdypDIXWi"
      }
    },
    {
      "cell_type": "code",
      "source": [
        "# Example\n",
        "\n",
        "x=str(3) # x will be '3'\n",
        "y=int(3) # y will be 3\n",
        "z=float(3) # z will be 3.0\n",
        "\n",
        "print(x)\n",
        "print(y)\n",
        "print(z)"
      ],
      "metadata": {
        "colab": {
          "base_uri": "https://localhost:8080/"
        },
        "id": "t0Pf8f1fIjEE",
        "outputId": "fa7e9cd5-79c1-4037-b1a3-6d0d7f69f0f2"
      },
      "execution_count": null,
      "outputs": [
        {
          "output_type": "stream",
          "name": "stdout",
          "text": [
            "3\n",
            "3\n",
            "3.0\n"
          ]
        }
      ]
    },
    {
      "cell_type": "markdown",
      "source": [
        "Get the Type\n",
        "\n",
        "You can get the data type of a varriable with the type() function"
      ],
      "metadata": {
        "id": "3KgMSpIEI6B0"
      }
    },
    {
      "cell_type": "code",
      "source": [
        "# Example\n",
        "x=5\n",
        "y=\"jhone\"\n",
        "print(type(x))\n",
        "print(type(y))"
      ],
      "metadata": {
        "colab": {
          "base_uri": "https://localhost:8080/"
        },
        "id": "hLIfQTjhJDhk",
        "outputId": "42e1d209-55bc-4bdc-ecb0-94fd01b5ffe4"
      },
      "execution_count": null,
      "outputs": [
        {
          "output_type": "stream",
          "name": "stdout",
          "text": [
            "<class 'int'>\n",
            "<class 'str'>\n"
          ]
        }
      ]
    },
    {
      "cell_type": "markdown",
      "source": [
        "Single or Double Quotes?\n",
        "\n",
        "String variables can be declared either by using single or double quotes:"
      ],
      "metadata": {
        "id": "ilNzYULaJhI-"
      }
    },
    {
      "cell_type": "code",
      "source": [
        "# Example\n",
        "x=\"Jhon\"\n",
        "print(x)\n",
        "# is the same as\n",
        "x='Jhon'\n",
        "print(x)"
      ],
      "metadata": {
        "colab": {
          "base_uri": "https://localhost:8080/"
        },
        "id": "jBQLK3WjJf4a",
        "outputId": "d2ed5df8-1690-4fc8-df91-17d07451f6f2"
      },
      "execution_count": null,
      "outputs": [
        {
          "output_type": "stream",
          "name": "stdout",
          "text": [
            "Jhon\n",
            "Jhon\n"
          ]
        }
      ]
    },
    {
      "cell_type": "markdown",
      "source": [
        "# Case-Sensitive\n",
        "\n",
        "Varriable names are case-sensitive\n"
      ],
      "metadata": {
        "id": "KduSvvE4J-f5"
      }
    },
    {
      "cell_type": "code",
      "source": [
        "# Example\n",
        "a=4\n",
        "A=\"Sally\"\n",
        "# A will not overwrite a\n",
        "print(a)\n",
        "print(A)"
      ],
      "metadata": {
        "colab": {
          "base_uri": "https://localhost:8080/"
        },
        "id": "pkdpvGJOKMP8",
        "outputId": "71d86e78-1729-4c26-8302-30bffdc9667c"
      },
      "execution_count": null,
      "outputs": [
        {
          "output_type": "stream",
          "name": "stdout",
          "text": [
            "4\n",
            "Sally\n"
          ]
        }
      ]
    },
    {
      "cell_type": "markdown",
      "source": [
        "# Python - Variable Names\n",
        "\n",
        "Varialbe Names\n",
        "\n",
        "A variable can have a short name (like x and y) or a more descriptive name (age,carname,total_volume).Rules for Python variables:\n",
        "\n",
        "*   A variable name must start with a letter or the underscore character.\n",
        "*   A variable name cannot start with a number.\n",
        "*   A variable name can only contain alpha-numeric characters and underscores(A-z,0-9,and _)\n",
        "*   Variable names are case-sentive (age,Age and AGE are three different variables)\n",
        "*   A variable name cannot be any of the Python Keywords\n",
        "\n",
        "\n",
        "\n",
        "\n",
        "\n",
        "\n",
        "\n",
        "\n",
        "\n",
        "\n",
        "\n"
      ],
      "metadata": {
        "id": "3EezkEvHKgqS"
      }
    },
    {
      "cell_type": "code",
      "source": [
        "# Example\n",
        "\n",
        "# Legal variable names:\n",
        "\n",
        "myvar =\"John\"\n",
        "my_var=\"John\"\n",
        "_my_var=\"john\"\n",
        "myVar=\"john\"\n",
        "MYVAR=\"John\"\n",
        "myvar2=\"John\"\n",
        "\n",
        "print(myvar)\n",
        "print(my_var)\n",
        "print(_my_var)\n",
        "print(myVar)\n",
        "print(MYVAR)\n",
        "print(myvar2)\n"
      ],
      "metadata": {
        "id": "WG_yW-GfNUxv"
      },
      "execution_count": null,
      "outputs": []
    },
    {
      "cell_type": "code",
      "source": [
        "# Example\n",
        "\n",
        "# Illegal variable names:\n",
        "\n",
        "2myvar=\"John\"\n",
        "my-var=\"john\"\n",
        "my var=\"john\"\n",
        "\n",
        "print(2myvar)\n",
        "print(my-var)\n",
        "print(my var)"
      ],
      "metadata": {
        "colab": {
          "base_uri": "https://localhost:8080/",
          "height": 142
        },
        "id": "9Hhwc-wFOKg_",
        "outputId": "f72a399d-050a-4607-f77b-6247b2697029"
      },
      "execution_count": null,
      "outputs": [
        {
          "output_type": "error",
          "ename": "SyntaxError",
          "evalue": "ignored",
          "traceback": [
            "\u001b[0;36m  File \u001b[0;32m\"<ipython-input-16-3e0fdca9b831>\"\u001b[0;36m, line \u001b[0;32m5\u001b[0m\n\u001b[0;31m    2myvar=\"John\"\u001b[0m\n\u001b[0m    ^\u001b[0m\n\u001b[0;31mSyntaxError\u001b[0m\u001b[0;31m:\u001b[0m invalid decimal literal\n"
          ]
        }
      ]
    },
    {
      "cell_type": "markdown",
      "source": [
        "# Remember that variable names are case-sensitive"
      ],
      "metadata": {
        "id": "r-BpMS3IOgjl"
      }
    },
    {
      "cell_type": "markdown",
      "source": [
        "# Multi Words Variable Names\n",
        "\n",
        "Variable names with more than one word can be difficult to read.\n",
        "There are several techniques you can use to make them more readable:\n",
        "\n",
        "# Camel Case\n",
        "\n",
        "Each word, except the first, starts with a capital letter:\n",
        "  \n",
        "  myVariableName=\"John\"\n",
        "\n",
        "\n",
        "# Pascal Case\n",
        "\n",
        " Each word start with a capital letter:\n",
        "\n",
        "  MyVariableName=\"John\"\n",
        "\n",
        "\n",
        "# Snake Case\n",
        "\n",
        "Each word is separated by an underscore character:\n",
        "\n",
        "my_variable_name=\"John\""
      ],
      "metadata": {
        "id": "tbNpXsMyOp30"
      }
    },
    {
      "cell_type": "markdown",
      "source": [
        "# Python Variables - Assign Multiple Values\n",
        "\n",
        "# Many Values to Multiple Variables\n",
        "\n",
        "Python allows you to assign values to multiple variables in one line:"
      ],
      "metadata": {
        "id": "qwgQemKtQF15"
      }
    },
    {
      "cell_type": "code",
      "source": [
        "# Example\n",
        "x,y,z=\"Orang\",\"Banana\",\"Cherry\"\n",
        "\n",
        "print(x)\n",
        "print(y)\n",
        "print(z)"
      ],
      "metadata": {
        "colab": {
          "base_uri": "https://localhost:8080/"
        },
        "id": "p_-ojrYhQb70",
        "outputId": "f7610bea-ae1b-4642-a6aa-1d271fe5e4a3"
      },
      "execution_count": null,
      "outputs": [
        {
          "output_type": "stream",
          "name": "stdout",
          "text": [
            "Orang\n",
            "Banana\n",
            "Cherry\n"
          ]
        }
      ]
    },
    {
      "cell_type": "markdown",
      "source": [
        "# Note Make sure the number of variables matches the number of values, or else you will get an error."
      ],
      "metadata": {
        "id": "qH-8-XEsR5gD"
      }
    },
    {
      "cell_type": "markdown",
      "source": [
        "# One Value to Multiple Variables\n",
        "\n",
        "And you can assign the same value to multiple variables in one line:"
      ],
      "metadata": {
        "id": "stBvTWL1SHtD"
      }
    },
    {
      "cell_type": "code",
      "source": [
        "# Example\n",
        "\n",
        "x=y=z=\"Orange\"\n",
        "\n",
        "print(x)\n",
        "print(y)\n",
        "print(z)"
      ],
      "metadata": {
        "colab": {
          "base_uri": "https://localhost:8080/"
        },
        "id": "lwpIvCo2SUr5",
        "outputId": "01808acd-c886-4251-f94c-b0c931b62589"
      },
      "execution_count": null,
      "outputs": [
        {
          "output_type": "stream",
          "name": "stdout",
          "text": [
            "Orange\n",
            "Orange\n",
            "Orange\n"
          ]
        }
      ]
    },
    {
      "cell_type": "markdown",
      "source": [
        "# Unpack a Collection\n",
        "\n",
        "If you have a collection of values in a list, tuple etc. Python allows you to extract the values into variables. This is called unpacking."
      ],
      "metadata": {
        "id": "gV_TSGYtShJL"
      }
    },
    {
      "cell_type": "code",
      "source": [
        "# Example\n",
        "\n",
        "# Unpack a list:\n",
        "\n",
        "fruits =[\"apple\",\"banana\",\"cherry\"]\n",
        "\n",
        "x,y,z=fruits\n",
        "print(x)\n",
        "print(y)\n",
        "print(z)"
      ],
      "metadata": {
        "colab": {
          "base_uri": "https://localhost:8080/"
        },
        "id": "IVZTEYdCS4Z4",
        "outputId": "8e73e049-cd84-4b7f-d095-cc2a59a65e79"
      },
      "execution_count": null,
      "outputs": [
        {
          "output_type": "stream",
          "name": "stdout",
          "text": [
            "apple\n",
            "banana\n",
            "cherry\n"
          ]
        }
      ]
    },
    {
      "cell_type": "markdown",
      "source": [
        "# Python - Output Variable\n",
        "The Python print() function is often used to output variables."
      ],
      "metadata": {
        "id": "KRb4ES6ETN6N"
      }
    },
    {
      "cell_type": "code",
      "source": [
        "# Example\n",
        "x= \"Python is awesome\"\n",
        "print(x)"
      ],
      "metadata": {
        "colab": {
          "base_uri": "https://localhost:8080/"
        },
        "id": "YkSv8BE4TmGi",
        "outputId": "6db1e9ec-3e73-4cd2-ff77-c31175cb873f"
      },
      "execution_count": null,
      "outputs": [
        {
          "output_type": "stream",
          "name": "stdout",
          "text": [
            "Python is awesome\n"
          ]
        }
      ]
    },
    {
      "cell_type": "markdown",
      "source": [
        "In the print() function, you output multiple variables,separated by comma:"
      ],
      "metadata": {
        "id": "pReGiCHyTtlr"
      }
    },
    {
      "cell_type": "code",
      "source": [
        "# Example\n",
        "x=\"Python\"\n",
        "y=\"is\"\n",
        "z=\"awesome\"\n",
        "\n",
        "print(x,y,z)"
      ],
      "metadata": {
        "colab": {
          "base_uri": "https://localhost:8080/"
        },
        "id": "UWw18AJmT8GI",
        "outputId": "c37d0296-df11-4c29-8812-de9522df0249"
      },
      "execution_count": null,
      "outputs": [
        {
          "output_type": "stream",
          "name": "stdout",
          "text": [
            "Python is awesome\n"
          ]
        }
      ]
    },
    {
      "cell_type": "markdown",
      "source": [
        "You can also use the + operator to output multiple variables:\n"
      ],
      "metadata": {
        "id": "__kmudETUH_Y"
      }
    },
    {
      "cell_type": "code",
      "source": [
        "# Example\n",
        "x=\"Python\"\n",
        "y=\"is\"\n",
        "z=\"awesome\"\n",
        "print(x+y+z)"
      ],
      "metadata": {
        "colab": {
          "base_uri": "https://localhost:8080/"
        },
        "id": "LLV4pVe2UqdG",
        "outputId": "45bd6869-76c9-441c-9193-2529c6db836e"
      },
      "execution_count": null,
      "outputs": [
        {
          "output_type": "stream",
          "name": "stdout",
          "text": [
            "Pythonisawesome\n"
          ]
        }
      ]
    },
    {
      "cell_type": "markdown",
      "source": [
        "# Notice the space character after \"Python \" and \"is \" , without them the result would be \"Pythonisawesome\"."
      ],
      "metadata": {
        "id": "alVP2tQ6U3-9"
      }
    },
    {
      "cell_type": "markdown",
      "source": [
        "For numbers, the  + character works as a mathematical operator:"
      ],
      "metadata": {
        "id": "vaJNtGaPVM23"
      }
    },
    {
      "cell_type": "code",
      "source": [
        "# Example:\n",
        "x=5\n",
        "y=10\n",
        "print(x+y)"
      ],
      "metadata": {
        "colab": {
          "base_uri": "https://localhost:8080/"
        },
        "id": "vBaeXXy6VJZ4",
        "outputId": "7f666a73-e53c-41e7-d718-edf53b4af928"
      },
      "execution_count": null,
      "outputs": [
        {
          "output_type": "stream",
          "name": "stdout",
          "text": [
            "15\n"
          ]
        }
      ]
    },
    {
      "cell_type": "markdown",
      "source": [
        "In the print() function, When you try to combine a string and a number with the + operator,Python will give you an error :"
      ],
      "metadata": {
        "id": "ESyZxC1mVdLQ"
      }
    },
    {
      "cell_type": "code",
      "source": [
        "# Example\n",
        "x=5\n",
        "y=\"John\"\n",
        "print(x+y)"
      ],
      "metadata": {
        "colab": {
          "base_uri": "https://localhost:8080/",
          "height": 211
        },
        "id": "gVupIOH5Vpxx",
        "outputId": "5748e367-0877-4ec5-dbd8-9344d1fcbd42"
      },
      "execution_count": null,
      "outputs": [
        {
          "output_type": "error",
          "ename": "TypeError",
          "evalue": "ignored",
          "traceback": [
            "\u001b[0;31m---------------------------------------------------------------------------\u001b[0m",
            "\u001b[0;31mTypeError\u001b[0m                                 Traceback (most recent call last)",
            "\u001b[0;32m<ipython-input-25-3c5c368db069>\u001b[0m in \u001b[0;36m<cell line: 4>\u001b[0;34m()\u001b[0m\n\u001b[1;32m      2\u001b[0m \u001b[0mx\u001b[0m\u001b[0;34m=\u001b[0m\u001b[0;36m5\u001b[0m\u001b[0;34m\u001b[0m\u001b[0;34m\u001b[0m\u001b[0m\n\u001b[1;32m      3\u001b[0m \u001b[0my\u001b[0m\u001b[0;34m=\u001b[0m\u001b[0;34m\"John\"\u001b[0m\u001b[0;34m\u001b[0m\u001b[0;34m\u001b[0m\u001b[0m\n\u001b[0;32m----> 4\u001b[0;31m \u001b[0mprint\u001b[0m\u001b[0;34m(\u001b[0m\u001b[0mx\u001b[0m\u001b[0;34m+\u001b[0m\u001b[0my\u001b[0m\u001b[0;34m)\u001b[0m\u001b[0;34m\u001b[0m\u001b[0;34m\u001b[0m\u001b[0m\n\u001b[0m",
            "\u001b[0;31mTypeError\u001b[0m: unsupported operand type(s) for +: 'int' and 'str'"
          ]
        }
      ]
    },
    {
      "cell_type": "markdown",
      "source": [
        "The best way to output multiple variable in the print() function is to separate them with commas, which even support different data types:\n"
      ],
      "metadata": {
        "id": "M9G9Y9qCVzER"
      }
    },
    {
      "cell_type": "code",
      "source": [
        "# Example\n",
        "x=5\n",
        "y=\"John\"\n",
        "print(x,y)"
      ],
      "metadata": {
        "colab": {
          "base_uri": "https://localhost:8080/"
        },
        "id": "hGBUVcu9WFHB",
        "outputId": "8b45757f-8b77-4940-9b6d-fffea634d86c"
      },
      "execution_count": null,
      "outputs": [
        {
          "output_type": "stream",
          "name": "stdout",
          "text": [
            "5 John\n"
          ]
        }
      ]
    },
    {
      "cell_type": "markdown",
      "source": [
        "# Python - Global Variables\n",
        "\n",
        "Global Variables\n",
        "\n",
        "   Variables that are created outside of a funciton( as in all of the examples above) are known as global variables.\n",
        "\n",
        "   Global variables can be used by everyone,both inside of functions and outside"
      ],
      "metadata": {
        "id": "qe48-CsdWNkX"
      }
    },
    {
      "cell_type": "code",
      "source": [
        "# Example\n",
        "# Create a variable outsid of a function, use it inside the function\n",
        "\n",
        "x=\"awesome\"\n",
        "\n",
        "def myfunc():\n",
        "  print(\"Python is \" + x)\n",
        "\n",
        "myfunc()"
      ],
      "metadata": {
        "colab": {
          "base_uri": "https://localhost:8080/"
        },
        "id": "MhdEEwT2Wtkb",
        "outputId": "49a56810-97a6-48ae-ea26-706cd588fcd7"
      },
      "execution_count": null,
      "outputs": [
        {
          "output_type": "stream",
          "name": "stdout",
          "text": [
            "Python is awesome\n"
          ]
        }
      ]
    },
    {
      "cell_type": "markdown",
      "source": [
        "If you create a variable with the same name inside a function, this variable will be local, and can only be used inside the function.The gloabl variable with the same will remain as it was,global and with the original value."
      ],
      "metadata": {
        "id": "C8ASTUPjXGSt"
      }
    },
    {
      "cell_type": "code",
      "source": [
        "# Example\n",
        "\n",
        "# Create a variable inside a function, with the same name as the global variable\n",
        "\n",
        "x=\"awesome\"\n",
        "\n",
        "def myfunc():\n",
        "  x=\"fantastic\"\n",
        "  print(\"Python is \"+ x)\n",
        "\n",
        "myfunc()\n",
        "\n",
        "print(\"Python is \"+x)"
      ],
      "metadata": {
        "colab": {
          "base_uri": "https://localhost:8080/"
        },
        "id": "w9t1KPHfXn2M",
        "outputId": "e057f076-a86b-4d1d-fe03-2552a8bf447a"
      },
      "execution_count": null,
      "outputs": [
        {
          "output_type": "stream",
          "name": "stdout",
          "text": [
            "Python is fantastic\n",
            "Python is awesome\n"
          ]
        }
      ]
    },
    {
      "cell_type": "markdown",
      "source": [
        "# The global Keyword\n",
        "\n",
        "Normally, When you create a variable inside a function,that variable is local, and can only be used inside that function.\n",
        "To create a global variable inside a function,you can use the global keyword"
      ],
      "metadata": {
        "id": "5EHOnURSYNMr"
      }
    },
    {
      "cell_type": "code",
      "source": [
        "# Example\n",
        "# If you use the global keyword,the variable belongs to the global scope:\n",
        "\n",
        "def myfunc():\n",
        "  global x\n",
        "  x= \"fantastic\"\n",
        "myfunc()\n",
        "print(\"Python is \"+x)"
      ],
      "metadata": {
        "colab": {
          "base_uri": "https://localhost:8080/"
        },
        "id": "FL46M0cnYrLX",
        "outputId": "d2e64ed1-c211-4d82-f6cc-d5a146b7561d"
      },
      "execution_count": null,
      "outputs": [
        {
          "output_type": "stream",
          "name": "stdout",
          "text": [
            "Python is fantastic\n"
          ]
        }
      ]
    },
    {
      "cell_type": "markdown",
      "source": [
        "Also,use the global keyword if you want to change a global variabel inside a function."
      ],
      "metadata": {
        "id": "cdYDgFMEbyzi"
      }
    },
    {
      "cell_type": "code",
      "source": [
        "# Example\n",
        "# To Change the value of a global variable inside a function,refer to the variable by using the global keyword:\n",
        "x=\"awesome\"\n",
        "\n",
        "def myfunc():\n",
        "  global x\n",
        "  x=\"fantastic\"\n",
        "\n",
        "myfunc()\n",
        "\n",
        "print(\"Python is \"+x)"
      ],
      "metadata": {
        "colab": {
          "base_uri": "https://localhost:8080/"
        },
        "id": "vt7ORdSVb8FG",
        "outputId": "40a46225-1f68-4ff0-ed6a-d01b9b72602d"
      },
      "execution_count": null,
      "outputs": [
        {
          "output_type": "stream",
          "name": "stdout",
          "text": [
            "Python is fantastic\n"
          ]
        }
      ]
    },
    {
      "cell_type": "markdown",
      "source": [
        "# Python Data Types\n",
        "\n",
        "Built-in Data Types\n",
        "\n",
        "In programming,data type is an important  concept.\n",
        "\n",
        "Variables can store data of different types, and different types can do different things.\n",
        "\n",
        "Python has the following data types built-in by default,in these categories:\n",
        "\n",
        "Text Type: str\n",
        "Numeric Types: int,float,complex\n",
        "Sequence Types: list,tuple,range\n",
        "Mapping Type: dict\n",
        "Set Types: set, frozenset\n",
        "Boolean Type: bool\n",
        "Binary Types: bytes,bytearray,memoryview\n",
        "None Type: NoneType\n",
        "\n",
        "Getting the Data Type\n",
        "\n",
        "You can get the data type of any object by using the type() function:"
      ],
      "metadata": {
        "id": "YH6OowTyd4Hu"
      }
    },
    {
      "cell_type": "markdown",
      "source": [
        "Getting the Data Type\n",
        "\n",
        "You can get the data type of any object by using the type() function\n"
      ],
      "metadata": {
        "id": "53Gsx5byj2EQ"
      }
    },
    {
      "cell_type": "code",
      "source": [
        "# Example\n",
        "# print the data type of the variable x:\n",
        "x=5\n",
        "print(type(x))"
      ],
      "metadata": {
        "colab": {
          "base_uri": "https://localhost:8080/"
        },
        "id": "_PdLX-Xhk6Px",
        "outputId": "8361e91b-42f3-439e-a412-f38fa6f5b290"
      },
      "execution_count": null,
      "outputs": [
        {
          "output_type": "stream",
          "name": "stdout",
          "text": [
            "<class 'int'>\n"
          ]
        }
      ]
    },
    {
      "cell_type": "markdown",
      "source": [
        "# Setting the Data Type\n",
        "\n",
        "In Python, the data type is set when you assign a value to a variable:"
      ],
      "metadata": {
        "id": "lXLeRr0FlIx7"
      }
    },
    {
      "cell_type": "code",
      "source": [
        "x=\"Hello World\" # str\n",
        "print(type(x))\n",
        "x=20 # int\n",
        "print(type(x))\n",
        "x=20.5 # float\n",
        "print(type(x))\n",
        "x=1j # complex\n",
        "print(type(x))\n",
        "x=[\"apple\",\"banana\",\"cherry\"]# list\n",
        "print(type(x))\n",
        "x=(\"apple\",\"banana\",\"cherry\") # tuple\n",
        "print(type(x))\n",
        "x=range(6) # range\n",
        "print(type(x))\n",
        "x={\"name\":\"John\",\"age\":36} # dict\n",
        "print(type(x))\n",
        "x={\"apple\",\"banana\",\"cherry\"}  # set\n",
        "print(type(x))\n",
        "x=frozenset({\"apple\",\"banana\",\"cherry\"}) # frozenset\n",
        "print(type(x))\n",
        "x=True # bool\n",
        "print(type(x))\n",
        "x=b\"Hello\" # bytes\n",
        "print(type(x))\n",
        "x=bytearray(5) # bytearray\n",
        "print(type(x))\n",
        "x=memoryview(bytes(5)) # memoryview\n",
        "print(type(x))\n",
        "x=None # NoneType\n",
        "print(type(x))"
      ],
      "metadata": {
        "colab": {
          "base_uri": "https://localhost:8080/"
        },
        "id": "f2czZTx3lG21",
        "outputId": "a79a46af-23df-42d9-d3d7-585b0732f97b"
      },
      "execution_count": null,
      "outputs": [
        {
          "output_type": "stream",
          "name": "stdout",
          "text": [
            "<class 'str'>\n",
            "<class 'int'>\n",
            "<class 'float'>\n",
            "<class 'complex'>\n",
            "<class 'list'>\n",
            "<class 'tuple'>\n",
            "<class 'range'>\n",
            "<class 'dict'>\n",
            "<class 'set'>\n",
            "<class 'frozenset'>\n",
            "<class 'bool'>\n",
            "<class 'bytes'>\n",
            "<class 'bytearray'>\n",
            "<class 'memoryview'>\n",
            "<class 'NoneType'>\n"
          ]
        }
      ]
    },
    {
      "cell_type": "markdown",
      "source": [
        "# Setting the Specific Data Type\n",
        "\n",
        "If you want to specify the data type,you can use the following constructor functions:"
      ],
      "metadata": {
        "id": "jf9xQVVys0fW"
      }
    },
    {
      "cell_type": "code",
      "source": [
        "x =str(\"Hello world\")\n",
        "print(type(x))\n",
        "x=int(20)\n",
        "print(type(x))\n",
        "x=float(20.5)\n",
        "print(type(x))\n",
        "x=complex(1j)\n",
        "print(type(x))\n",
        "x=list((\"apple\",\"banana\",\"cherry\"))\n",
        "print(type(x))\n",
        "x=tuple((\"apple\",\"banana\",\"cherry\"))\n",
        "print(type(x))\n",
        "x=range(6)\n",
        "print(type(x))\n",
        "x=dict(name=\"John\",age=36)\n",
        "print(type(x))\n",
        "x=set((\"apple\",\"banana\",\"cherry\"))\n",
        "print(type(x))\n",
        "x=frozenset((\"apple\",\"banana\",\"cherry\"))\n",
        "print(type(x))\n",
        "x=bool(5)\n",
        "print(type(x))\n",
        "x=bytes(5)\n",
        "print(type(x))\n",
        "x=memoryview(bytes(5))\n",
        "print(type(x))"
      ],
      "metadata": {
        "colab": {
          "base_uri": "https://localhost:8080/"
        },
        "id": "_RK7zG_2tOiZ",
        "outputId": "148fd66a-5ce0-4c62-db3f-3d293c09c677"
      },
      "execution_count": null,
      "outputs": [
        {
          "output_type": "stream",
          "name": "stdout",
          "text": [
            "<class 'str'>\n",
            "<class 'int'>\n",
            "<class 'float'>\n",
            "<class 'complex'>\n",
            "<class 'list'>\n"
          ]
        }
      ]
    },
    {
      "cell_type": "markdown",
      "source": [
        "# Python Numbers\n",
        "\n",
        "Python Numbers\n",
        "\n",
        "There are three numeric types in Python:\n",
        "\n",
        "* int\n",
        "* float\n",
        "* complex\n",
        "\n",
        "Variables of numeric types are created when you assign a value to them:\n"
      ],
      "metadata": {
        "id": "FmWrEJmvTUrD"
      }
    },
    {
      "cell_type": "code",
      "source": [
        "# Example\n",
        "x=1 # int\n",
        "y=2.8 # float\n",
        "z=1j # complex\n",
        "print(type(x))\n",
        "print(type(y))\n",
        "print(type(z))"
      ],
      "metadata": {
        "colab": {
          "base_uri": "https://localhost:8080/"
        },
        "id": "mJ2Uc452TTrY",
        "outputId": "8d6893ab-31ba-4fec-afdb-21270d11f48e"
      },
      "execution_count": null,
      "outputs": [
        {
          "output_type": "stream",
          "name": "stdout",
          "text": [
            "<class 'int'>\n",
            "<class 'float'>\n",
            "<class 'complex'>\n"
          ]
        }
      ]
    },
    {
      "cell_type": "markdown",
      "source": [
        "# Int\n",
        "Int , or integer,is a whole number ,positive or negative,without decimals,of unlimited length."
      ],
      "metadata": {
        "id": "JBuK-eKxUVUr"
      }
    },
    {
      "cell_type": "code",
      "source": [
        "# Example\n",
        "# Integers:\n",
        "x=1\n",
        "y=3565625256545577\n",
        "z=-32225\n",
        "\n",
        "print(type(x))\n",
        "print(type(y))\n",
        "print(type(z))"
      ],
      "metadata": {
        "colab": {
          "base_uri": "https://localhost:8080/"
        },
        "id": "v39ISZoSUo0W",
        "outputId": "6b51e208-7db3-4509-afc9-282425d5745c"
      },
      "execution_count": null,
      "outputs": [
        {
          "output_type": "stream",
          "name": "stdout",
          "text": [
            "<class 'int'>\n",
            "<class 'int'>\n",
            "<class 'int'>\n"
          ]
        }
      ]
    },
    {
      "cell_type": "markdown",
      "source": [
        "# Float\n",
        "Float,or \"floating point number\" is a number,positive or negative ,containing one  or more decimals."
      ],
      "metadata": {
        "id": "XOc_TTQqVIzh"
      }
    },
    {
      "cell_type": "code",
      "source": [
        "# Example\n",
        "\n",
        "# Floats:\n",
        "\n",
        "x=1.10\n",
        "y=1.0\n",
        "z=-35.58\n",
        "\n",
        "print(type(x))\n",
        "print(type(y))\n",
        "print(type(z))"
      ],
      "metadata": {
        "colab": {
          "base_uri": "https://localhost:8080/"
        },
        "id": "ZAKsWwLsWMdf",
        "outputId": "f385b4ab-c3e9-4bd0-97c9-ffbb8ec8397c"
      },
      "execution_count": null,
      "outputs": [
        {
          "output_type": "stream",
          "name": "stdout",
          "text": [
            "<class 'float'>\n",
            "<class 'float'>\n",
            "<class 'float'>\n"
          ]
        }
      ]
    },
    {
      "cell_type": "markdown",
      "source": [
        "Float can also be scientific numbers with an \"e\" to indicate the power of 10."
      ],
      "metadata": {
        "id": "_uIBn15sWie3"
      }
    },
    {
      "cell_type": "code",
      "source": [
        "# Example\n",
        "\n",
        "# Floats:\n",
        "x=35e3\n",
        "y=12E4\n",
        "z=-87.7e100\n",
        "print(type(x))\n",
        "print(type(y))\n",
        "print(type(z))"
      ],
      "metadata": {
        "id": "73yPnWYmWtDf",
        "colab": {
          "base_uri": "https://localhost:8080/"
        },
        "outputId": "c5c3ad77-ed99-42f8-defd-479abe7cf4ba"
      },
      "execution_count": 1,
      "outputs": [
        {
          "output_type": "stream",
          "name": "stdout",
          "text": [
            "<class 'float'>\n",
            "<class 'float'>\n",
            "<class 'float'>\n"
          ]
        }
      ]
    },
    {
      "cell_type": "markdown",
      "source": [
        "# Complex\n",
        "complex numbers are written with a \"j\" as the imaginary part"
      ],
      "metadata": {
        "id": "IfU_AhMnmJgX"
      }
    },
    {
      "cell_type": "code",
      "source": [
        "# Example\n",
        "# Complex\n",
        "\n",
        "x=3+5j\n",
        "y=5j\n",
        "z=-5j\n",
        "\n",
        "print(type(x))\n",
        "print(type(y))\n",
        "print(type(z))\n"
      ],
      "metadata": {
        "colab": {
          "base_uri": "https://localhost:8080/"
        },
        "id": "Ye4-cvwkmUmS",
        "outputId": "abccf6cd-eb6f-46c0-b7cd-ce0e95774064"
      },
      "execution_count": 2,
      "outputs": [
        {
          "output_type": "stream",
          "name": "stdout",
          "text": [
            "<class 'complex'>\n",
            "<class 'complex'>\n",
            "<class 'complex'>\n"
          ]
        }
      ]
    },
    {
      "cell_type": "markdown",
      "source": [
        "# Type Conversion\n",
        "\n",
        "You can convert from one type to another with int(),float(),and complex() methods:\n"
      ],
      "metadata": {
        "id": "YaOBAI6pmsvH"
      }
    },
    {
      "cell_type": "code",
      "source": [
        "# Example\n",
        "\n",
        "# Convert from one type to another:\n",
        "\n",
        "x=1 # int\n",
        "y=2.8 # float\n",
        "z=1j # complex\n",
        "\n",
        "print(type(z))\n",
        "\n",
        "# Convert from int to float:\n",
        "\n",
        "a=float(1)\n",
        "\n",
        "# Convert from float to int:\n",
        "\n",
        "b=int(2.8)\n",
        "\n",
        "# Convert from int to complex:\n",
        "\n",
        "c=complex(1)\n",
        "\n",
        "print(a)\n",
        "print(b)\n",
        "print(c)\n",
        "\n",
        "print(type(a))\n",
        "print(type(b))\n",
        "print(type(c))\n",
        "\n"
      ],
      "metadata": {
        "colab": {
          "base_uri": "https://localhost:8080/"
        },
        "id": "eSftbBCLm6b1",
        "outputId": "00c5ff18-9691-41bd-f06e-0a02691df6d9"
      },
      "execution_count": 5,
      "outputs": [
        {
          "output_type": "stream",
          "name": "stdout",
          "text": [
            "<class 'complex'>\n",
            "1.0\n",
            "2\n",
            "(1+0j)\n",
            "<class 'float'>\n",
            "<class 'int'>\n",
            "<class 'complex'>\n"
          ]
        }
      ]
    },
    {
      "cell_type": "markdown",
      "source": [
        "# Note: You  cannot convert complex numbers into another number type"
      ],
      "metadata": {
        "id": "L6gCAVk1uScK"
      }
    },
    {
      "cell_type": "markdown",
      "source": [
        "# Random Number\n",
        "\n",
        "Python does not have a random() function to make a random number,but Python has a built-in module called random that can be used to make random numbers:"
      ],
      "metadata": {
        "id": "dpfkNZ-nuax3"
      }
    },
    {
      "cell_type": "code",
      "source": [
        "# Example\n",
        "\n",
        "# Import the random module, and display a random number between 1 and 9:\n",
        "\n",
        "import random\n",
        "\n",
        "print(random.randrange(1,10))"
      ],
      "metadata": {
        "colab": {
          "base_uri": "https://localhost:8080/"
        },
        "id": "0BLvZgbzu2Lb",
        "outputId": "8b65ddea-6f0c-4869-be9f-f25dc2c300cc"
      },
      "execution_count": 7,
      "outputs": [
        {
          "output_type": "stream",
          "name": "stdout",
          "text": [
            "4\n"
          ]
        }
      ]
    },
    {
      "cell_type": "markdown",
      "source": [
        "# Python Casting\n",
        "\n",
        "Specify a Variable Type\n",
        "\n",
        "There may be times when you want to specify a type  on to a variable. This can be done with casting. Python is an Object-Oriented language,and as such it uses classes to define data types,including its primitive types.\n",
        "\n",
        "Casting in python is therefore done using constructor  functions:\n",
        "\n",
        "* int() - Constructs an integer number from an integer literal, a float literal(by removing all decimals),or a string\n",
        "literal(providing the sting represents a whole number)\n",
        "\n",
        "* float() - Constructs a float number from an integer literal, a float literal or a string literal(providing the string represents a float or an integer)\n",
        "\n",
        "* str() - Constructs a string from a wide variety of data types, including stirngs,integer literals and float literals"
      ],
      "metadata": {
        "id": "iWxkmItBv3W4"
      }
    },
    {
      "cell_type": "code",
      "source": [
        "# Example\n",
        "# Integers:\n",
        "\n",
        "x=int(1) # x will be 1\n",
        "y=int(2.8) # y will be 2\n",
        "z=int(\"3\") # z will be 3\n",
        "\n",
        "print(x)\n",
        "print(y)\n",
        "print(z)"
      ],
      "metadata": {
        "colab": {
          "base_uri": "https://localhost:8080/"
        },
        "id": "30wULhm9yQpy",
        "outputId": "6cd4f7f7-9d25-4938-8eef-56faee531663"
      },
      "execution_count": 8,
      "outputs": [
        {
          "output_type": "stream",
          "name": "stdout",
          "text": [
            "1\n",
            "2\n",
            "3\n"
          ]
        }
      ]
    },
    {
      "cell_type": "code",
      "source": [
        "# Example\n",
        "\n",
        "# Floats:\n",
        "\n",
        "x=float(1) # x will be 1.0\n",
        "y=float(2.8) # y will be 2.8\n",
        "z=float(\"3\") # z will be 3.0\n",
        "w=float(\"4.2\") # w will be 4.2\n",
        "\n",
        "print(x)\n",
        "print(y)\n",
        "print(z)\n",
        "print(w)"
      ],
      "metadata": {
        "id": "R7Ub6cQH5ggk"
      },
      "execution_count": null,
      "outputs": []
    },
    {
      "cell_type": "code",
      "source": [
        "# Example\n",
        "# String\n",
        "\n",
        "x= str(\"s1\") # x will be 's1'\n",
        "y= str(2) # y will be '2'\n",
        "z=str(3.0) # z will be '3.0'\n",
        "\n",
        "print(x)\n",
        "print(y)\n",
        "print(z)"
      ],
      "metadata": {
        "colab": {
          "base_uri": "https://localhost:8080/"
        },
        "id": "77f2SRVs6i6m",
        "outputId": "6313a4d2-cad7-46f1-a4e8-897af2ede2cf"
      },
      "execution_count": 9,
      "outputs": [
        {
          "output_type": "stream",
          "name": "stdout",
          "text": [
            "s1\n",
            "2\n",
            "3.0\n"
          ]
        }
      ]
    },
    {
      "cell_type": "markdown",
      "source": [
        "# Python String\n",
        "\n",
        "Strings\n",
        "\n",
        "Strings in python are surrounded by either single quotation marks, or double quotaion marks\n",
        "\n",
        "'hello' is the same as \"hello\".\n",
        "\n",
        "You can display a string literal with the print() function"
      ],
      "metadata": {
        "id": "eaIHTe2D7Dnv"
      }
    },
    {
      "cell_type": "code",
      "source": [
        "# Example\n",
        "\n",
        "print(\"Hello\")\n",
        "print('Hello')"
      ],
      "metadata": {
        "id": "SOzjI_XL-JGa"
      },
      "execution_count": null,
      "outputs": []
    },
    {
      "cell_type": "markdown",
      "source": [
        "# Assign String to a Variable\n",
        "\n",
        "Assigning a string to a  variable is done with the variable name follwed by an equal sign and the string:"
      ],
      "metadata": {
        "id": "8QoG_CyV-QBP"
      }
    },
    {
      "cell_type": "code",
      "source": [
        "a=\"Hello\"\n",
        "print(a)"
      ],
      "metadata": {
        "colab": {
          "base_uri": "https://localhost:8080/"
        },
        "id": "qIjInd6F-i_5",
        "outputId": "eec2f9d7-8084-4e7e-a268-17c93fc5557c"
      },
      "execution_count": 10,
      "outputs": [
        {
          "output_type": "stream",
          "name": "stdout",
          "text": [
            "Hello\n"
          ]
        }
      ]
    },
    {
      "cell_type": "markdown",
      "source": [
        "# Multiline Strings\n",
        "\n",
        "You can assign a multiline string to a variabel by using three quotes:\n"
      ],
      "metadata": {
        "id": "haCgu9iJ-pkH"
      }
    },
    {
      "cell_type": "code",
      "source": [
        "# Example\n",
        "\n",
        "# You can use three double quotes:\n",
        "\n",
        "a=\"\"\"Lorem ipsum dolor sit amet,\n",
        "consectetur adipiscing elit,\n",
        "sed do eiusmod tempor incididunt\n",
        "ut labore et dolore magna aliqua.\"\"\"\n",
        "\n",
        "print(a)"
      ],
      "metadata": {
        "colab": {
          "base_uri": "https://localhost:8080/"
        },
        "id": "94zbjl-H-2-H",
        "outputId": "20219f25-22df-471d-8afd-49187282759d"
      },
      "execution_count": 11,
      "outputs": [
        {
          "output_type": "stream",
          "name": "stdout",
          "text": [
            "Lorem ipsum dolor sit amet,\n",
            "consectetur adipiscing elit,\n",
            "sed do eiusmod tempor incididunt\n",
            "ut labore et dolore magna aliqua.\n"
          ]
        }
      ]
    },
    {
      "cell_type": "code",
      "source": [
        "# Or three single quotes:\n",
        "\n",
        "# Example\n",
        "\n",
        "a='''Lorem ipsum dolor sit amet,\n",
        "consectetur adipiscing elit,\n",
        "sed do eiusmod tempor incididunt\n",
        "ut labore et dolore magna aliqua.'''\n",
        "\n",
        "print(a)\n"
      ],
      "metadata": {
        "colab": {
          "base_uri": "https://localhost:8080/"
        },
        "id": "12o4Bbb2_bP8",
        "outputId": "ae056b28-2804-49f7-c58b-3d4a31c2b306"
      },
      "execution_count": 12,
      "outputs": [
        {
          "output_type": "stream",
          "name": "stdout",
          "text": [
            "Lorem ipsum dolor sit amet,\n",
            "consectetur adipiscing elit,\n",
            "sed do eiusmod tempor incididunt\n",
            "ut labore et dolore magna aliqua.\n"
          ]
        }
      ]
    },
    {
      "cell_type": "markdown",
      "source": [
        "# Note: In the result, the line breakes are inserted at the same position as in the code."
      ],
      "metadata": {
        "id": "MXbPKMYa_l29"
      }
    },
    {
      "cell_type": "markdown",
      "source": [
        "# Strings are Arrays\n",
        "\n",
        "Like many other popular programming languages, strings in Python are arrays of bytes representing unicode characters.\n",
        "\n",
        "However, Python does not have a character data type, a single character is simply a string with a length of 1.\n",
        "\n",
        "Square brackets can be used to access elements of the string"
      ],
      "metadata": {
        "id": "L6ZpKTfT_zXt"
      }
    },
    {
      "cell_type": "code",
      "source": [
        "# Example\n",
        "\n",
        "#Get the character at position 1 (remember that the first character has the position 0):\n",
        "\n",
        "a=\"Hello World!\"\n",
        "print(a[1])"
      ],
      "metadata": {
        "colab": {
          "base_uri": "https://localhost:8080/"
        },
        "id": "Q4aDg22dA1X1",
        "outputId": "a2cee3b6-446b-4298-8f13-8f346925a93e"
      },
      "execution_count": 13,
      "outputs": [
        {
          "output_type": "stream",
          "name": "stdout",
          "text": [
            "e\n"
          ]
        }
      ]
    },
    {
      "cell_type": "markdown",
      "source": [
        "# Looping Through a String\n",
        "\n",
        "Since string are arrays, we can loop through the characters in a string,with a for loop."
      ],
      "metadata": {
        "id": "YT1O4_R6BRru"
      }
    },
    {
      "cell_type": "code",
      "source": [
        "# Example\n",
        "\n",
        "#Loop through the letters in the word \"banana\":\n",
        "\n",
        "for x in \"banana\":\n",
        "  print(x)"
      ],
      "metadata": {
        "colab": {
          "base_uri": "https://localhost:8080/"
        },
        "id": "eApro1v2BgAj",
        "outputId": "19d43b70-39dc-4fe1-85ed-0727fd01f89d"
      },
      "execution_count": 14,
      "outputs": [
        {
          "output_type": "stream",
          "name": "stdout",
          "text": [
            "b\n",
            "a\n",
            "n\n",
            "a\n",
            "n\n",
            "a\n"
          ]
        }
      ]
    },
    {
      "cell_type": "markdown",
      "source": [
        "String Lenght\n",
        "\n",
        "To get the length of a string,use the len() function."
      ],
      "metadata": {
        "id": "TOksdUDvB5bD"
      }
    },
    {
      "cell_type": "code",
      "source": [
        "# Example\n",
        "#The len() function returns the length of a string:\n",
        "a=\"Hello, World!\"\n",
        "print(len(a))"
      ],
      "metadata": {
        "colab": {
          "base_uri": "https://localhost:8080/"
        },
        "id": "LZFEIVxcCGRi",
        "outputId": "005ef666-b49a-4907-8cbe-897b9e909259"
      },
      "execution_count": 15,
      "outputs": [
        {
          "output_type": "stream",
          "name": "stdout",
          "text": [
            "13\n"
          ]
        }
      ]
    },
    {
      "cell_type": "markdown",
      "source": [
        "# Check String\n",
        "\n",
        "To check if a certain phrase or character is present in a string, we can use the keyword in"
      ],
      "metadata": {
        "id": "7zMCeM9XCdak"
      }
    },
    {
      "cell_type": "code",
      "source": [
        "# Example\n",
        "\n",
        "#Check if \"free\" is present in the following text:\n",
        "\n",
        "txt= \"The best things in life are free!\"\n",
        "print(\"free\" in txt)\n",
        "txt =\"010000100 \"\n",
        "print(\"0\" in txt)"
      ],
      "metadata": {
        "colab": {
          "base_uri": "https://localhost:8080/"
        },
        "id": "CALHjbgeCZ2C",
        "outputId": "8dd501cf-e345-4db0-d6b5-057c94873166"
      },
      "execution_count": 30,
      "outputs": [
        {
          "output_type": "stream",
          "name": "stdout",
          "text": [
            "True\n",
            "True\n"
          ]
        }
      ]
    },
    {
      "cell_type": "code",
      "source": [
        "# Use it in an if statement:\n",
        "\n",
        "# Print only if \"free\" is present:\n",
        "\n",
        "txt =\"The best things in life are free!\"\n",
        "\n",
        "if \"free\" in txt:\n",
        "  print(\"Yes,'free' is present.\")"
      ],
      "metadata": {
        "colab": {
          "base_uri": "https://localhost:8080/"
        },
        "id": "MGIpXO72ET6p",
        "outputId": "6363672b-d963-491b-a971-e3c87ec02f90"
      },
      "execution_count": 31,
      "outputs": [
        {
          "output_type": "stream",
          "name": "stdout",
          "text": [
            "Yes,'free' is present.\n"
          ]
        }
      ]
    },
    {
      "cell_type": "code",
      "source": [
        "# Example\n",
        "\n",
        "# Check if \"expensive\" is NOT Present in the following text:\n",
        "\n",
        "txt=\"The best things in life are free!\"\n",
        "print(\"best\" not in txt)"
      ],
      "metadata": {
        "colab": {
          "base_uri": "https://localhost:8080/"
        },
        "id": "hDzDoDOdGKfj",
        "outputId": "77099f2f-379d-41b9-e7c8-44976adab91f"
      },
      "execution_count": 33,
      "outputs": [
        {
          "output_type": "stream",
          "name": "stdout",
          "text": [
            "False\n"
          ]
        }
      ]
    },
    {
      "cell_type": "code",
      "source": [
        "# Use it in an if statement:\n",
        "\n",
        "# Example\n",
        "\n",
        "# print only if \"expensive\" is NOT present:\n",
        "\n",
        "txt=\"The best things in life are free!\"\n",
        "\n",
        "if \"expensive\" not in txt:\n",
        "  print(\"No,'expensive' is NOT present.\")\n",
        "\n",
        "if \"best\" not in txt:\n",
        "  print(\"No,'best' is NOT present.\")"
      ],
      "metadata": {
        "colab": {
          "base_uri": "https://localhost:8080/"
        },
        "id": "LR3Re91iGomT",
        "outputId": "eb1168c6-dc61-4979-bae5-d812cfc4370c"
      },
      "execution_count": 35,
      "outputs": [
        {
          "output_type": "stream",
          "name": "stdout",
          "text": [
            "No,'expensive' is NOT present.\n"
          ]
        }
      ]
    },
    {
      "cell_type": "markdown",
      "source": [
        "# Python - Slicing Strings\n",
        "\n",
        "Slicing\n",
        "\n",
        "You can return a range of characters by using the slice syntax.\n",
        "\n",
        "Specify the start index and the end index,separated by a colon,to return a part of the string."
      ],
      "metadata": {
        "id": "KZeq7j6UHOci"
      }
    },
    {
      "cell_type": "code",
      "source": [
        "# Example\n",
        "\n",
        "# Get the characters form position 2 to position 5(not included):\n",
        "b=\"Hello, World!\"\n",
        "print(b[2:5])"
      ],
      "metadata": {
        "colab": {
          "base_uri": "https://localhost:8080/"
        },
        "id": "qE4ebit1Hlzm",
        "outputId": "0889e862-1b29-49ac-dcc6-0f2b236aa65e"
      },
      "execution_count": 36,
      "outputs": [
        {
          "output_type": "stream",
          "name": "stdout",
          "text": [
            "llo\n"
          ]
        }
      ]
    },
    {
      "cell_type": "markdown",
      "source": [
        "# Note The first Character has index 0."
      ],
      "metadata": {
        "id": "kMPEI_6aH7Nu"
      }
    },
    {
      "cell_type": "markdown",
      "source": [
        "# Slice From the Start\n",
        "\n",
        "By leaving out the start index, the range will start at the first character:\n"
      ],
      "metadata": {
        "id": "E4bkLNgvIC_y"
      }
    },
    {
      "cell_type": "code",
      "source": [
        "# Example\n",
        "#Get the characters from the start to position 5(not included):\n",
        "\n",
        "b=\"Hello, World!\"\n",
        "print(b[:5])"
      ],
      "metadata": {
        "colab": {
          "base_uri": "https://localhost:8080/"
        },
        "id": "siufJl-TIXvD",
        "outputId": "30a13366-5ae9-4846-9248-f855ca0c246a"
      },
      "execution_count": 37,
      "outputs": [
        {
          "output_type": "stream",
          "name": "stdout",
          "text": [
            "Hello\n"
          ]
        }
      ]
    },
    {
      "cell_type": "markdown",
      "source": [
        "# Slice To the End\n",
        "By  leaving out the end index,the range will go to the end:"
      ],
      "metadata": {
        "id": "WyZsPzFgIw4L"
      }
    },
    {
      "cell_type": "code",
      "source": [
        "# Example\n",
        "# Get the characters from postion 2, and the way to the end:\n",
        "\n",
        "b= \"Hello, World!\"\n",
        "print(b[2:])"
      ],
      "metadata": {
        "colab": {
          "base_uri": "https://localhost:8080/"
        },
        "id": "U37_avyOI6s8",
        "outputId": "1e707d4b-2223-4765-9b49-430ff3f49866"
      },
      "execution_count": 39,
      "outputs": [
        {
          "output_type": "stream",
          "name": "stdout",
          "text": [
            "llo, World!\n"
          ]
        }
      ]
    },
    {
      "cell_type": "markdown",
      "source": [
        "# Negative Indexing\n",
        "\n",
        "Use negative indexes to start the slice from the end of the string:"
      ],
      "metadata": {
        "id": "m9yLort-JOWk"
      }
    },
    {
      "cell_type": "code",
      "source": [
        "# Example\n",
        "# Get the characters:\n",
        "# From:\"o\" in \"World!\"(postion-5)\n",
        "# To,but not included:\"d\" in \"World!\" (position-2):\n",
        "\n",
        "b=\"Hello, World!\"\n",
        "print(b[-5:-2])"
      ],
      "metadata": {
        "colab": {
          "base_uri": "https://localhost:8080/"
        },
        "id": "_OCq_scdI79b",
        "outputId": "ac3114c4-afad-415a-8e16-133d17617110"
      },
      "execution_count": 40,
      "outputs": [
        {
          "output_type": "stream",
          "name": "stdout",
          "text": [
            "orl\n"
          ]
        }
      ]
    },
    {
      "cell_type": "markdown",
      "source": [
        "# Python - Modify Strings\n",
        "Python has a set of built-in methods that you can use on strings."
      ],
      "metadata": {
        "id": "yEGMvEEAKNNj"
      }
    },
    {
      "cell_type": "code",
      "source": [
        "# Upper Case\n",
        "\n",
        "# Example\n",
        "# The upper() method returns the string in upper case:\n",
        "a=\"Hello, World!\"\n",
        "print(a.upper())\n",
        "print(a)"
      ],
      "metadata": {
        "colab": {
          "base_uri": "https://localhost:8080/"
        },
        "id": "3YnpetzdKalx",
        "outputId": "b8bcf7ad-6626-46ca-c7c0-093e89192346"
      },
      "execution_count": 45,
      "outputs": [
        {
          "output_type": "stream",
          "name": "stdout",
          "text": [
            "HELLO, WORLD!\n",
            "Hello, World!\n"
          ]
        }
      ]
    },
    {
      "cell_type": "code",
      "source": [
        "# Lower Case\n",
        "\n",
        "# Example\n",
        "# The lower() method returns the string in lower case:\n",
        "\n",
        "a=\"Hello, World!\"\n",
        "print(a.lower())\n",
        "print(a)\n"
      ],
      "metadata": {
        "colab": {
          "base_uri": "https://localhost:8080/"
        },
        "id": "8DHEqxzqKq1_",
        "outputId": "c5476f89-3a4c-47ab-9417-759232832ac8"
      },
      "execution_count": 44,
      "outputs": [
        {
          "output_type": "stream",
          "name": "stdout",
          "text": [
            "hello, world!\n",
            "Hello, World!\n",
            "Hello, World!\n"
          ]
        }
      ]
    },
    {
      "cell_type": "markdown",
      "source": [
        "# Remove Whitespace\n",
        "Whitespace is the space before and/or after the actual text,and very often you want to remove this spaces."
      ],
      "metadata": {
        "id": "BWzpr6JsLL48"
      }
    },
    {
      "cell_type": "code",
      "source": [
        "# Example\n",
        "# The strip() method removes any whitespace from the beginning or the end:\n",
        "\n",
        "a=\"  Hello, World!  \"\n",
        "\n",
        "print(a.strip()) # returns \"Hello,World!\"\n",
        "\n",
        "print(a)"
      ],
      "metadata": {
        "colab": {
          "base_uri": "https://localhost:8080/"
        },
        "id": "8UkfPwQ-LKR6",
        "outputId": "7d3e38c1-a7cc-4c69-909d-63efc612f2e7"
      },
      "execution_count": 47,
      "outputs": [
        {
          "output_type": "stream",
          "name": "stdout",
          "text": [
            "Hello, World!\n",
            "  Hello, World!  \n"
          ]
        }
      ]
    },
    {
      "cell_type": "markdown",
      "source": [
        "# Replace String\n",
        "The replace() method replaces a string with another string:"
      ],
      "metadata": {
        "id": "Z5ARYxB4L-f8"
      }
    },
    {
      "cell_type": "code",
      "source": [
        "# Example\n",
        "\n",
        "a=\"Hello, HWorld!\"\n",
        "print(a.replace(\"H\",\"J\"))\n",
        "print(a)"
      ],
      "metadata": {
        "colab": {
          "base_uri": "https://localhost:8080/"
        },
        "id": "7nxTg9XSL8da",
        "outputId": "ce9d85d1-4969-4ab1-b18e-502559535b5d"
      },
      "execution_count": 50,
      "outputs": [
        {
          "output_type": "stream",
          "name": "stdout",
          "text": [
            "Jello, JWorld!\n",
            "Hello, HWorld!\n"
          ]
        }
      ]
    },
    {
      "cell_type": "markdown",
      "source": [
        "# Split String\n",
        "The split() method returns a list where the text between the specified separator becomes the list items."
      ],
      "metadata": {
        "id": "I9Whq1RUMcik"
      }
    },
    {
      "cell_type": "code",
      "source": [
        "# Example\n",
        "# The split() method split the string into substrings if it finds instances of the separator:\n",
        "\n",
        "a=\"Hello, World!\"\n",
        "print(a.split(\"o\")) # returns ['Hello',' World!']\n",
        "print(a)"
      ],
      "metadata": {
        "colab": {
          "base_uri": "https://localhost:8080/"
        },
        "id": "f7PoWvMFMbOE",
        "outputId": "f72d6c73-c17a-49f3-f0b4-aa13a26e1f54"
      },
      "execution_count": 56,
      "outputs": [
        {
          "output_type": "stream",
          "name": "stdout",
          "text": [
            "['Hell', ', W', 'rld!']\n",
            "Hello, World!\n"
          ]
        }
      ]
    }
  ]
}
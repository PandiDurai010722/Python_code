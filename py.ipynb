{
  "nbformat": 4,
  "nbformat_minor": 0,
  "metadata": {
    "colab": {
      "provenance": [],
      "authorship_tag": "ABX9TyOEGWZriygIo621CLwo40bt",
      "include_colab_link": true
    },
    "kernelspec": {
      "name": "python3",
      "display_name": "Python 3"
    },
    "language_info": {
      "name": "python"
    }
  },
  "cells": [
    {
      "cell_type": "markdown",
      "metadata": {
        "id": "view-in-github",
        "colab_type": "text"
      },
      "source": [
        "<a href=\"https://colab.research.google.com/github/PandiDurai010722/Python_code/blob/master/py.ipynb\" target=\"_parent\"><img src=\"https://colab.research.google.com/assets/colab-badge.svg\" alt=\"Open In Colab\"/></a>"
      ]
    },
    {
      "cell_type": "markdown",
      "source": [
        "Python Introduction\n",
        "\n",
        "What is Python?\n",
        "python is a popular programming language.It was created by Guido van Rossum,and released in 1991.\n",
        "\n",
        "It is used for:\n",
        "\n",
        "\n",
        "1.   Web development(server-side),\n",
        "2.   Software development,\n",
        "3.   Mathematics,\n",
        "4.   System scripting.\n",
        "\n",
        "What can Python do?\n",
        "\n",
        "\n",
        "*   Python works on different platforms (Window, Mac,Linux,Raspberry pi,etc)\n",
        "*   Python has a simple syntax similar to the English language.\n",
        "*   Python has syntax  that allows developers to write programs with fewer     lines than some other programming languges\n",
        "*   Python runs on an interpreter system,meaning that code can be executed as soon as it is written.This means that prototyping can be very quick.\n",
        "*   Python can be treated in a procedural way,an object-oriented way or a functional way\n"
      ],
      "metadata": {
        "id": "DqMQ_1Wc5E2W"
      }
    },
    {
      "cell_type": "code",
      "source": [
        "print(\"Hello,World\")"
      ],
      "metadata": {
        "colab": {
          "base_uri": "https://localhost:8080/"
        },
        "id": "ctEV4Xj58MtT",
        "outputId": "aeb8b7c1-579f-4879-b329-efdeee22512f"
      },
      "execution_count": 2,
      "outputs": [
        {
          "output_type": "stream",
          "name": "stdout",
          "text": [
            "Hello,World\n"
          ]
        }
      ]
    },
    {
      "cell_type": "markdown",
      "source": [
        "Python Indentation\n",
        "\n",
        "Indentation refers to the spaces at the beginning of a code line.\n",
        "\n",
        "Where in other programming languages the indentation in code is for readability only, the indentation in Python is very important.\n",
        "\n",
        "Python uses indentation to indicate a block of code."
      ],
      "metadata": {
        "id": "fydlcap38YMo"
      }
    },
    {
      "cell_type": "code",
      "source": [
        "# Example\n",
        "if 5>2:\n",
        "  print(\"Five is greater than tow!\")"
      ],
      "metadata": {
        "colab": {
          "base_uri": "https://localhost:8080/"
        },
        "id": "lK9DHRiE9L-U",
        "outputId": "65232f91-6ee8-4a07-c6ba-1df3ac581326"
      },
      "execution_count": 3,
      "outputs": [
        {
          "output_type": "stream",
          "name": "stdout",
          "text": [
            "Five is greater than tow!\n"
          ]
        }
      ]
    },
    {
      "cell_type": "code",
      "source": [
        "# Example\n",
        "# Syntax Error:\n",
        "if 5> 2:\n",
        "print(\"Five is greater than two+\")"
      ],
      "metadata": {
        "colab": {
          "base_uri": "https://localhost:8080/",
          "height": 142
        },
        "id": "v1AcdL3j9cxq",
        "outputId": "a53629d2-a777-4470-e371-3fae8881e884"
      },
      "execution_count": 4,
      "outputs": [
        {
          "output_type": "error",
          "ename": "IndentationError",
          "evalue": "ignored",
          "traceback": [
            "\u001b[0;36m  File \u001b[0;32m\"<ipython-input-4-54c8e4622c1a>\"\u001b[0;36m, line \u001b[0;32m4\u001b[0m\n\u001b[0;31m    print(\"Five is greater than two+\")\u001b[0m\n\u001b[0m    ^\u001b[0m\n\u001b[0;31mIndentationError\u001b[0m\u001b[0;31m:\u001b[0m expected an indented block after 'if' statement on line 3\n"
          ]
        }
      ]
    },
    {
      "cell_type": "markdown",
      "source": [
        "The number of spaces is up to you as a programmer,the most common use is four,but it has to be at least one."
      ],
      "metadata": {
        "id": "kN7zXRJt98C2"
      }
    },
    {
      "cell_type": "code",
      "source": [
        "# Example\n",
        "\n",
        "if 5>2:\n",
        " print(\"Five is greater than two!\")\n",
        "if 5>2:\n",
        "    print(\"Five is greater than two!\")"
      ],
      "metadata": {
        "colab": {
          "base_uri": "https://localhost:8080/"
        },
        "id": "Te4cPKHb-LZ7",
        "outputId": "89247cb7-9bb9-435f-eec4-52a8ed9d516b"
      },
      "execution_count": 5,
      "outputs": [
        {
          "output_type": "stream",
          "name": "stdout",
          "text": [
            "Five is greater than two!\n",
            "Five is greater than two!\n"
          ]
        }
      ]
    },
    {
      "cell_type": "markdown",
      "source": [
        "You have to use the same number of spaces in same block of code, otherwise Python will give you an error:"
      ],
      "metadata": {
        "id": "clhsAbYF-jGt"
      }
    },
    {
      "cell_type": "code",
      "source": [
        "# Example\n",
        "# Syntax Error:\n",
        "\n",
        "if 5>2:\n",
        "  print(\"Five is greater than two!\")\n",
        "    print(\"Five is greater than two!\")"
      ],
      "metadata": {
        "id": "3mykyetY-xWp"
      },
      "execution_count": null,
      "outputs": []
    },
    {
      "cell_type": "markdown",
      "source": [
        "Python Variables\n",
        "\n",
        "In Python, variables are created when you assing a value to it:"
      ],
      "metadata": {
        "id": "L_14aa0T_LHL"
      }
    },
    {
      "cell_type": "code",
      "source": [
        "# Example\n",
        "# Variables in Python:\n",
        "\n",
        "x =5\n",
        "y=\"Hello, World\"\n",
        "\n",
        "print(x)\n",
        "print(y)"
      ],
      "metadata": {
        "colab": {
          "base_uri": "https://localhost:8080/"
        },
        "id": "oE7NFbqS_aa9",
        "outputId": "69880a36-76c8-4bdc-bb89-3d26ad56ad34"
      },
      "execution_count": 6,
      "outputs": [
        {
          "output_type": "stream",
          "name": "stdout",
          "text": [
            "5\n",
            "Hello, World\n"
          ]
        }
      ]
    },
    {
      "cell_type": "markdown",
      "source": [
        "Python has no command for declaring a variable.\n",
        "\n",
        "Comments\n",
        "\n",
        "Python has commenting capabilty for the purpose of in-code documention.\n",
        "Comments start with a #, and Python will render the rest of the line as a comment:"
      ],
      "metadata": {
        "id": "8NHJgmHt_yyp"
      }
    },
    {
      "cell_type": "code",
      "source": [
        "# Example\n",
        "# Comments in Python:\n",
        "# This is a comment.\n",
        "print(\"Hello,World\")"
      ],
      "metadata": {
        "id": "nAfVssNJAuS3"
      },
      "execution_count": null,
      "outputs": []
    },
    {
      "cell_type": "markdown",
      "source": [
        "Python Comments\n",
        "\n",
        "Comments are be used to explain Python code.\n",
        "Comments can be used to make the code more readable.\n",
        "Comments can be used to prevent execution when testing code.\n",
        "\n",
        "Creating a Comment\n",
        "\n",
        "Comments starts with a # , and Python will ignore them:"
      ],
      "metadata": {
        "id": "bSVE_iUXBF8E"
      }
    },
    {
      "cell_type": "code",
      "source": [
        "# Example\n",
        "# This  is a comment\n",
        "print(\"Hello, World\")"
      ],
      "metadata": {
        "id": "B3prK_BuD5c3"
      },
      "execution_count": null,
      "outputs": []
    },
    {
      "cell_type": "markdown",
      "source": [
        "Comments can be placed at the end of a line,and Python  will ignore the rest of the line:"
      ],
      "metadata": {
        "id": "rYZo1m64EFwu"
      }
    },
    {
      "cell_type": "code",
      "source": [
        "# Example\n",
        "print(\"Hello, World\") #This is a comment"
      ],
      "metadata": {
        "id": "UaZP_VyAERsT"
      },
      "execution_count": null,
      "outputs": []
    },
    {
      "cell_type": "markdown",
      "source": [
        "A comment does not have to be text that explains the code,it can also be used to prevent Python from executing code:"
      ],
      "metadata": {
        "id": "yR0kdDjjEcHx"
      }
    },
    {
      "cell_type": "code",
      "source": [
        "# Example\n",
        "# print(\"Hello, World\")\n",
        "print(\"Cheers, Mate!\")"
      ],
      "metadata": {
        "id": "eDJebjwqEtLo"
      },
      "execution_count": null,
      "outputs": []
    },
    {
      "cell_type": "markdown",
      "source": [
        "Multiline Comments\n",
        "Python does not really have a syntax for multiline comments.\n",
        "To add a multiline comment you could insert a # for each line:"
      ],
      "metadata": {
        "id": "hCxfUDdAE55q"
      }
    },
    {
      "cell_type": "code",
      "source": [
        "# Example\n",
        "# This is a comment\n",
        "# written in\n",
        "# more than just one line\n",
        "print(\"Hello,World\")"
      ],
      "metadata": {
        "id": "dA9z_qddFNPW"
      },
      "execution_count": null,
      "outputs": []
    },
    {
      "cell_type": "markdown",
      "source": [
        "Or, not quite as intended, You can use a multiline string.\n",
        "\n",
        "Since Python will ignore string literals that are not assigned to a variable, you can add a multline string(triple quotes) in your code,and place your comment inside it:\n"
      ],
      "metadata": {
        "id": "VaQrLizRFZWQ"
      }
    },
    {
      "cell_type": "code",
      "source": [
        "# Example\n",
        "\n",
        "\"\"\"This is a comment written\n",
        "in more\n",
        "than just one line\n",
        "\"\"\"\n",
        "print(\"Hello, World!\")\n",
        "\"\"\"\n",
        "x=67\n",
        "y=90\n",
        "z=\"Pandi\"\n",
        "\"\"\""
      ],
      "metadata": {
        "colab": {
          "base_uri": "https://localhost:8080/",
          "height": 52
        },
        "id": "tTnNfI9XGJhg",
        "outputId": "1d73299d-3b8c-4299-9ad5-b4bd800ba0b0"
      },
      "execution_count": 7,
      "outputs": [
        {
          "output_type": "stream",
          "name": "stdout",
          "text": [
            "Hello, World!\n"
          ]
        },
        {
          "output_type": "execute_result",
          "data": {
            "text/plain": [
              "'\\nx=67\\ny=90\\nz=\"Pandi\"\\n'"
            ],
            "application/vnd.google.colaboratory.intrinsic+json": {
              "type": "string"
            }
          },
          "metadata": {},
          "execution_count": 7
        }
      ]
    },
    {
      "cell_type": "markdown",
      "source": [
        "As long as the string is not assinged to a variable,Python will read the code, but then ignore it,and you have made a multiline comment."
      ],
      "metadata": {
        "id": "-L1xgGvlGq5Q"
      }
    },
    {
      "cell_type": "markdown",
      "source": [
        "Python Variables\n",
        "\n",
        "Variables\n",
        "\n",
        "variables are containers for storing data values.\n",
        "\n",
        "Creating Variables\n",
        "\n",
        "Python has no command for declaring a variable.\n",
        "\n",
        "A variable is created the moment you first assign a value to it."
      ],
      "metadata": {
        "id": "UKtXdTq0HF0u"
      }
    },
    {
      "cell_type": "code",
      "source": [
        "# Example\n",
        "\n",
        "x=5\n",
        "y=\"Jhon\"\n",
        "print(x)\n",
        "print(y)"
      ],
      "metadata": {
        "colab": {
          "base_uri": "https://localhost:8080/"
        },
        "id": "Ta_XmW1IHedN",
        "outputId": "0643ff97-d1b7-48bb-aca8-b0ab8c93a0d1"
      },
      "execution_count": 8,
      "outputs": [
        {
          "output_type": "stream",
          "name": "stdout",
          "text": [
            "5\n",
            "Jhon\n"
          ]
        }
      ]
    },
    {
      "cell_type": "markdown",
      "source": [
        "Variables does not need to be declared with any particular type, and can even change type after they have been set."
      ],
      "metadata": {
        "id": "c7ZmFHGuHrf1"
      }
    },
    {
      "cell_type": "code",
      "source": [
        "# Example\n",
        "\n",
        "x=4 # x is of type int\n",
        "x=\"Sally\" #x is now of type str\n",
        "print(x)"
      ],
      "metadata": {
        "colab": {
          "base_uri": "https://localhost:8080/"
        },
        "id": "udyVr7IPH7tv",
        "outputId": "a0a9ad7a-4d3a-437d-ab21-e194023e534b"
      },
      "execution_count": 9,
      "outputs": [
        {
          "output_type": "stream",
          "name": "stdout",
          "text": [
            "Sally\n"
          ]
        }
      ]
    },
    {
      "cell_type": "markdown",
      "source": [
        "Casting\n",
        "\n",
        "If you want to specify the data type of a variable, this can be done with casting"
      ],
      "metadata": {
        "id": "h04WdypDIXWi"
      }
    },
    {
      "cell_type": "code",
      "source": [
        "# Example\n",
        "\n",
        "x=str(3) # x will be '3'\n",
        "y=int(3) # y will be 3\n",
        "z=float(3) # z will be 3.0\n",
        "\n",
        "print(x)\n",
        "print(y)\n",
        "print(z)"
      ],
      "metadata": {
        "colab": {
          "base_uri": "https://localhost:8080/"
        },
        "id": "t0Pf8f1fIjEE",
        "outputId": "fa7e9cd5-79c1-4037-b1a3-6d0d7f69f0f2"
      },
      "execution_count": 12,
      "outputs": [
        {
          "output_type": "stream",
          "name": "stdout",
          "text": [
            "3\n",
            "3\n",
            "3.0\n"
          ]
        }
      ]
    },
    {
      "cell_type": "markdown",
      "source": [
        "Get the Type\n",
        "\n",
        "You can get the data type of a varriable with the type() function"
      ],
      "metadata": {
        "id": "3KgMSpIEI6B0"
      }
    },
    {
      "cell_type": "code",
      "source": [
        "# Example\n",
        "x=5\n",
        "y=\"jhone\"\n",
        "print(type(x))\n",
        "print(type(y))"
      ],
      "metadata": {
        "colab": {
          "base_uri": "https://localhost:8080/"
        },
        "id": "hLIfQTjhJDhk",
        "outputId": "42e1d209-55bc-4bdc-ecb0-94fd01b5ffe4"
      },
      "execution_count": 13,
      "outputs": [
        {
          "output_type": "stream",
          "name": "stdout",
          "text": [
            "<class 'int'>\n",
            "<class 'str'>\n"
          ]
        }
      ]
    },
    {
      "cell_type": "markdown",
      "source": [
        "Single or Double Quotes?\n",
        "\n",
        "String variables can be declared either by using single or double quotes:"
      ],
      "metadata": {
        "id": "ilNzYULaJhI-"
      }
    },
    {
      "cell_type": "code",
      "source": [
        "# Example\n",
        "x=\"Jhon\"\n",
        "print(x)\n",
        "# is the same as\n",
        "x='Jhon'\n",
        "print(x)"
      ],
      "metadata": {
        "colab": {
          "base_uri": "https://localhost:8080/"
        },
        "id": "jBQLK3WjJf4a",
        "outputId": "d2ed5df8-1690-4fc8-df91-17d07451f6f2"
      },
      "execution_count": 14,
      "outputs": [
        {
          "output_type": "stream",
          "name": "stdout",
          "text": [
            "Jhon\n",
            "Jhon\n"
          ]
        }
      ]
    },
    {
      "cell_type": "markdown",
      "source": [
        "# Case-Sensitive\n",
        "\n",
        "Varriable names are case-sensitive\n"
      ],
      "metadata": {
        "id": "KduSvvE4J-f5"
      }
    },
    {
      "cell_type": "code",
      "source": [
        "# Example\n",
        "a=4\n",
        "A=\"Sally\"\n",
        "# A will not overwrite a\n",
        "print(a)\n",
        "print(A)"
      ],
      "metadata": {
        "colab": {
          "base_uri": "https://localhost:8080/"
        },
        "id": "pkdpvGJOKMP8",
        "outputId": "71d86e78-1729-4c26-8302-30bffdc9667c"
      },
      "execution_count": 15,
      "outputs": [
        {
          "output_type": "stream",
          "name": "stdout",
          "text": [
            "4\n",
            "Sally\n"
          ]
        }
      ]
    },
    {
      "cell_type": "markdown",
      "source": [
        "# Python - Variable Names\n",
        "\n",
        "Varialbe Names\n",
        "\n",
        "A variable can have a short name (like x and y) or a more descriptive name (age,carname,total_volume).Rules for Python variables:\n",
        "\n",
        "*   A variable name must start with a letter or the underscore character.\n",
        "*   A variable name cannot start with a number.\n",
        "*   A variable name can only contain alpha-numeric characters and underscores(A-z,0-9,and _)\n",
        "*   Variable names are case-sentive (age,Age and AGE are three different variables)\n",
        "*   A variable name cannot be any of the Python Keywords\n",
        "\n",
        "\n",
        "\n",
        "\n",
        "\n",
        "\n",
        "\n",
        "\n",
        "\n",
        "\n",
        "\n"
      ],
      "metadata": {
        "id": "3EezkEvHKgqS"
      }
    },
    {
      "cell_type": "code",
      "source": [
        "# Example\n",
        "\n",
        "# Legal variable names:\n",
        "\n",
        "myvar =\"John\"\n",
        "my_var=\"John\"\n",
        "_my_var=\"john\"\n",
        "myVar=\"john\"\n",
        "MYVAR=\"John\"\n",
        "myvar2=\"John\"\n",
        "\n",
        "print(myvar)\n",
        "print(my_var)\n",
        "print(_my_var)\n",
        "print(myVar)\n",
        "print(MYVAR)\n",
        "print(myvar2)\n"
      ],
      "metadata": {
        "id": "WG_yW-GfNUxv"
      },
      "execution_count": null,
      "outputs": []
    },
    {
      "cell_type": "code",
      "source": [
        "# Example\n",
        "\n",
        "# Illegal variable names:\n",
        "\n",
        "2myvar=\"John\"\n",
        "my-var=\"john\"\n",
        "my var=\"john\"\n",
        "\n",
        "print(2myvar)\n",
        "print(my-var)\n",
        "print(my var)"
      ],
      "metadata": {
        "colab": {
          "base_uri": "https://localhost:8080/",
          "height": 142
        },
        "id": "9Hhwc-wFOKg_",
        "outputId": "f72a399d-050a-4607-f77b-6247b2697029"
      },
      "execution_count": 16,
      "outputs": [
        {
          "output_type": "error",
          "ename": "SyntaxError",
          "evalue": "ignored",
          "traceback": [
            "\u001b[0;36m  File \u001b[0;32m\"<ipython-input-16-3e0fdca9b831>\"\u001b[0;36m, line \u001b[0;32m5\u001b[0m\n\u001b[0;31m    2myvar=\"John\"\u001b[0m\n\u001b[0m    ^\u001b[0m\n\u001b[0;31mSyntaxError\u001b[0m\u001b[0;31m:\u001b[0m invalid decimal literal\n"
          ]
        }
      ]
    },
    {
      "cell_type": "markdown",
      "source": [
        "# Remember that variable names are case-sensitive"
      ],
      "metadata": {
        "id": "r-BpMS3IOgjl"
      }
    },
    {
      "cell_type": "markdown",
      "source": [
        "# Multi Words Variable Names\n",
        "\n",
        "Variable names with more than one word can be difficult to read.\n",
        "There are several techniques you can use to make them more readable:\n",
        "\n",
        "# Camel Case\n",
        "\n",
        "Each word, except the first, starts with a capital letter:\n",
        "  \n",
        "  myVariableName=\"John\"\n",
        "\n",
        "\n",
        "# Pascal Case\n",
        "\n",
        " Each word start with a capital letter:\n",
        "\n",
        "  MyVariableName=\"John\"\n",
        "\n",
        "\n",
        "# Snake Case\n",
        "\n",
        "Each word is separated by an underscore character:\n",
        "\n",
        "my_variable_name=\"John\""
      ],
      "metadata": {
        "id": "tbNpXsMyOp30"
      }
    },
    {
      "cell_type": "markdown",
      "source": [
        "# Python Variables - Assign Multiple Values\n",
        "\n",
        "# Many Values to Multiple Variables\n",
        "\n",
        "Python allows you to assign values to multiple variables in one line:"
      ],
      "metadata": {
        "id": "qwgQemKtQF15"
      }
    },
    {
      "cell_type": "code",
      "source": [
        "# Example\n",
        "x,y,z=\"Orang\",\"Banana\",\"Cherry\"\n",
        "\n",
        "print(x)\n",
        "print(y)\n",
        "print(z)"
      ],
      "metadata": {
        "colab": {
          "base_uri": "https://localhost:8080/"
        },
        "id": "p_-ojrYhQb70",
        "outputId": "f7610bea-ae1b-4642-a6aa-1d271fe5e4a3"
      },
      "execution_count": 17,
      "outputs": [
        {
          "output_type": "stream",
          "name": "stdout",
          "text": [
            "Orang\n",
            "Banana\n",
            "Cherry\n"
          ]
        }
      ]
    },
    {
      "cell_type": "markdown",
      "source": [
        "# Note Make sure the number of variables matches the number of values, or else you will get an error."
      ],
      "metadata": {
        "id": "qH-8-XEsR5gD"
      }
    },
    {
      "cell_type": "markdown",
      "source": [
        "# One Value to Multiple Variables\n",
        "\n",
        "And you can assign the same value to multiple variables in one line:"
      ],
      "metadata": {
        "id": "stBvTWL1SHtD"
      }
    },
    {
      "cell_type": "code",
      "source": [
        "# Example\n",
        "\n",
        "x=y=z=\"Orange\"\n",
        "\n",
        "print(x)\n",
        "print(y)\n",
        "print(z)"
      ],
      "metadata": {
        "colab": {
          "base_uri": "https://localhost:8080/"
        },
        "id": "lwpIvCo2SUr5",
        "outputId": "01808acd-c886-4251-f94c-b0c931b62589"
      },
      "execution_count": 18,
      "outputs": [
        {
          "output_type": "stream",
          "name": "stdout",
          "text": [
            "Orange\n",
            "Orange\n",
            "Orange\n"
          ]
        }
      ]
    },
    {
      "cell_type": "markdown",
      "source": [
        "# Unpack a Collection\n",
        "\n",
        "If you have a collection of values in a list, tuple etc. Python allows you to extract the values into variables. This is called unpacking."
      ],
      "metadata": {
        "id": "gV_TSGYtShJL"
      }
    },
    {
      "cell_type": "code",
      "source": [
        "# Example\n",
        "\n",
        "# Unpack a list:\n",
        "\n",
        "fruits =[\"apple\",\"banana\",\"cherry\"]\n",
        "\n",
        "x,y,z=fruits\n",
        "print(x)\n",
        "print(y)\n",
        "print(z)"
      ],
      "metadata": {
        "colab": {
          "base_uri": "https://localhost:8080/"
        },
        "id": "IVZTEYdCS4Z4",
        "outputId": "8e73e049-cd84-4b7f-d095-cc2a59a65e79"
      },
      "execution_count": 19,
      "outputs": [
        {
          "output_type": "stream",
          "name": "stdout",
          "text": [
            "apple\n",
            "banana\n",
            "cherry\n"
          ]
        }
      ]
    },
    {
      "cell_type": "markdown",
      "source": [
        "# Python - Output Variable\n",
        "The Python print() function is often used to output variables."
      ],
      "metadata": {
        "id": "KRb4ES6ETN6N"
      }
    },
    {
      "cell_type": "code",
      "source": [
        "# Example\n",
        "x= \"Python is awesome\"\n",
        "print(x)"
      ],
      "metadata": {
        "colab": {
          "base_uri": "https://localhost:8080/"
        },
        "id": "YkSv8BE4TmGi",
        "outputId": "6db1e9ec-3e73-4cd2-ff77-c31175cb873f"
      },
      "execution_count": 20,
      "outputs": [
        {
          "output_type": "stream",
          "name": "stdout",
          "text": [
            "Python is awesome\n"
          ]
        }
      ]
    },
    {
      "cell_type": "markdown",
      "source": [
        "In the print() function, you output multiple variables,separated by comma:"
      ],
      "metadata": {
        "id": "pReGiCHyTtlr"
      }
    },
    {
      "cell_type": "code",
      "source": [
        "# Example\n",
        "x=\"Python\"\n",
        "y=\"is\"\n",
        "z=\"awesome\"\n",
        "\n",
        "print(x,y,z)"
      ],
      "metadata": {
        "colab": {
          "base_uri": "https://localhost:8080/"
        },
        "id": "UWw18AJmT8GI",
        "outputId": "c37d0296-df11-4c29-8812-de9522df0249"
      },
      "execution_count": 22,
      "outputs": [
        {
          "output_type": "stream",
          "name": "stdout",
          "text": [
            "Python is awesome\n"
          ]
        }
      ]
    },
    {
      "cell_type": "markdown",
      "source": [
        "You can also use the + operator to output multiple variables:\n"
      ],
      "metadata": {
        "id": "__kmudETUH_Y"
      }
    },
    {
      "cell_type": "code",
      "source": [
        "# Example\n",
        "x=\"Python\"\n",
        "y=\"is\"\n",
        "z=\"awesome\"\n",
        "print(x+y+z)"
      ],
      "metadata": {
        "colab": {
          "base_uri": "https://localhost:8080/"
        },
        "id": "LLV4pVe2UqdG",
        "outputId": "45bd6869-76c9-441c-9193-2529c6db836e"
      },
      "execution_count": 23,
      "outputs": [
        {
          "output_type": "stream",
          "name": "stdout",
          "text": [
            "Pythonisawesome\n"
          ]
        }
      ]
    },
    {
      "cell_type": "markdown",
      "source": [
        "# Notice the space character after \"Python \" and \"is \" , without them the result would be \"Pythonisawesome\"."
      ],
      "metadata": {
        "id": "alVP2tQ6U3-9"
      }
    },
    {
      "cell_type": "markdown",
      "source": [
        "For numbers, the  + character works as a mathematical operator:"
      ],
      "metadata": {
        "id": "vaJNtGaPVM23"
      }
    },
    {
      "cell_type": "code",
      "source": [
        "# Example:\n",
        "x=5\n",
        "y=10\n",
        "print(x+y)"
      ],
      "metadata": {
        "colab": {
          "base_uri": "https://localhost:8080/"
        },
        "id": "vBaeXXy6VJZ4",
        "outputId": "7f666a73-e53c-41e7-d718-edf53b4af928"
      },
      "execution_count": 24,
      "outputs": [
        {
          "output_type": "stream",
          "name": "stdout",
          "text": [
            "15\n"
          ]
        }
      ]
    },
    {
      "cell_type": "markdown",
      "source": [
        "In the print() function, When you try to combine a string and a number with the + operator,Python will give you an error :"
      ],
      "metadata": {
        "id": "ESyZxC1mVdLQ"
      }
    },
    {
      "cell_type": "code",
      "source": [
        "# Example\n",
        "x=5\n",
        "y=\"John\"\n",
        "print(x+y)"
      ],
      "metadata": {
        "colab": {
          "base_uri": "https://localhost:8080/",
          "height": 211
        },
        "id": "gVupIOH5Vpxx",
        "outputId": "5748e367-0877-4ec5-dbd8-9344d1fcbd42"
      },
      "execution_count": 25,
      "outputs": [
        {
          "output_type": "error",
          "ename": "TypeError",
          "evalue": "ignored",
          "traceback": [
            "\u001b[0;31m---------------------------------------------------------------------------\u001b[0m",
            "\u001b[0;31mTypeError\u001b[0m                                 Traceback (most recent call last)",
            "\u001b[0;32m<ipython-input-25-3c5c368db069>\u001b[0m in \u001b[0;36m<cell line: 4>\u001b[0;34m()\u001b[0m\n\u001b[1;32m      2\u001b[0m \u001b[0mx\u001b[0m\u001b[0;34m=\u001b[0m\u001b[0;36m5\u001b[0m\u001b[0;34m\u001b[0m\u001b[0;34m\u001b[0m\u001b[0m\n\u001b[1;32m      3\u001b[0m \u001b[0my\u001b[0m\u001b[0;34m=\u001b[0m\u001b[0;34m\"John\"\u001b[0m\u001b[0;34m\u001b[0m\u001b[0;34m\u001b[0m\u001b[0m\n\u001b[0;32m----> 4\u001b[0;31m \u001b[0mprint\u001b[0m\u001b[0;34m(\u001b[0m\u001b[0mx\u001b[0m\u001b[0;34m+\u001b[0m\u001b[0my\u001b[0m\u001b[0;34m)\u001b[0m\u001b[0;34m\u001b[0m\u001b[0;34m\u001b[0m\u001b[0m\n\u001b[0m",
            "\u001b[0;31mTypeError\u001b[0m: unsupported operand type(s) for +: 'int' and 'str'"
          ]
        }
      ]
    },
    {
      "cell_type": "markdown",
      "source": [
        "The best way to output multiple variable in the print() function is to separate them with commas, which even support different data types:\n"
      ],
      "metadata": {
        "id": "M9G9Y9qCVzER"
      }
    },
    {
      "cell_type": "code",
      "source": [
        "# Example\n",
        "x=5\n",
        "y=\"John\"\n",
        "print(x,y)"
      ],
      "metadata": {
        "colab": {
          "base_uri": "https://localhost:8080/"
        },
        "id": "hGBUVcu9WFHB",
        "outputId": "8b45757f-8b77-4940-9b6d-fffea634d86c"
      },
      "execution_count": 26,
      "outputs": [
        {
          "output_type": "stream",
          "name": "stdout",
          "text": [
            "5 John\n"
          ]
        }
      ]
    },
    {
      "cell_type": "markdown",
      "source": [
        "# Python - Global Variables\n",
        "\n",
        "Global Variables\n",
        "\n",
        "   Variables that are created outside of a funciton( as in all of the examples above) are known as global variables.\n",
        "\n",
        "   Global variables can be used by everyone,both inside of functions and outside"
      ],
      "metadata": {
        "id": "qe48-CsdWNkX"
      }
    },
    {
      "cell_type": "code",
      "source": [
        "# Example\n",
        "# Create a variable outsid of a function, use it inside the function\n",
        "\n",
        "x=\"awesome\"\n",
        "\n",
        "def myfunc():\n",
        "  print(\"Python is \" + x)\n",
        "\n",
        "myfunc()"
      ],
      "metadata": {
        "colab": {
          "base_uri": "https://localhost:8080/"
        },
        "id": "MhdEEwT2Wtkb",
        "outputId": "49a56810-97a6-48ae-ea26-706cd588fcd7"
      },
      "execution_count": 27,
      "outputs": [
        {
          "output_type": "stream",
          "name": "stdout",
          "text": [
            "Python is awesome\n"
          ]
        }
      ]
    },
    {
      "cell_type": "markdown",
      "source": [
        "If you create a variable with the same name inside a function, this variable will be local, and can only be used inside the function.The gloabl variable with the same will remain as it was,global and with the original value."
      ],
      "metadata": {
        "id": "C8ASTUPjXGSt"
      }
    },
    {
      "cell_type": "code",
      "source": [
        "# Example\n",
        "\n",
        "# Create a variable inside a function, with the same name as the global variable\n",
        "\n",
        "x=\"awesome\"\n",
        "\n",
        "def myfunc():\n",
        "  x=\"fantastic\"\n",
        "  print(\"Python is \"+ x)\n",
        "\n",
        "myfunc()\n",
        "\n",
        "print(\"Python is \"+x)"
      ],
      "metadata": {
        "colab": {
          "base_uri": "https://localhost:8080/"
        },
        "id": "w9t1KPHfXn2M",
        "outputId": "e057f076-a86b-4d1d-fe03-2552a8bf447a"
      },
      "execution_count": 28,
      "outputs": [
        {
          "output_type": "stream",
          "name": "stdout",
          "text": [
            "Python is fantastic\n",
            "Python is awesome\n"
          ]
        }
      ]
    },
    {
      "cell_type": "markdown",
      "source": [
        "# The global Keyword\n",
        "\n",
        "Normally, When you create a variable inside a function,that variable is local, and can only be used inside that function.\n",
        "To create a global variable inside a function,you can use the global keyword"
      ],
      "metadata": {
        "id": "5EHOnURSYNMr"
      }
    },
    {
      "cell_type": "code",
      "source": [
        "# Example\n",
        "# If you use the global keyword,the variable belongs to the global scope:\n",
        "\n",
        "def myfunc():\n",
        "  global x\n",
        "  x= \"fantastic\"\n",
        "myfunc()\n",
        "print(\"Python is \"+x)"
      ],
      "metadata": {
        "colab": {
          "base_uri": "https://localhost:8080/"
        },
        "id": "FL46M0cnYrLX",
        "outputId": "d2e64ed1-c211-4d82-f6cc-d5a146b7561d"
      },
      "execution_count": 29,
      "outputs": [
        {
          "output_type": "stream",
          "name": "stdout",
          "text": [
            "Python is fantastic\n"
          ]
        }
      ]
    },
    {
      "cell_type": "markdown",
      "source": [
        "Also,use the global keyword if you want to change a global variabel inside a function."
      ],
      "metadata": {
        "id": "cdYDgFMEbyzi"
      }
    },
    {
      "cell_type": "code",
      "source": [
        "# Example\n",
        "# To Change the value of a global variable inside a function,refer to the variable by using the global keyword:\n",
        "x=\"awesome\"\n",
        "\n",
        "def myfunc():\n",
        "  global x\n",
        "  x=\"fantastic\"\n",
        "\n",
        "myfunc()\n",
        "\n",
        "print(\"Python is \"+x)"
      ],
      "metadata": {
        "colab": {
          "base_uri": "https://localhost:8080/"
        },
        "id": "vt7ORdSVb8FG",
        "outputId": "40a46225-1f68-4ff0-ed6a-d01b9b72602d"
      },
      "execution_count": 31,
      "outputs": [
        {
          "output_type": "stream",
          "name": "stdout",
          "text": [
            "Python is fantastic\n"
          ]
        }
      ]
    },
    {
      "cell_type": "markdown",
      "source": [
        "# Python Data Types\n",
        "\n",
        "Built-in Data Types\n",
        "\n",
        "In programming,data type is an important  concept.\n",
        "\n",
        "Variables can store data of different types, and different types can do different things.\n",
        "\n",
        "Python has the following data types built-in by default,in these categories:\n",
        "\n",
        "Text Type: str\n",
        "Numeric Types: int,float,complex\n",
        "Sequence Types: list,tuple,range\n",
        "Mapping Type: dict\n",
        "Set Types: set, frozenset\n",
        "Boolean Type: bool\n",
        "Binary Types: bytes,bytearray,memoryview\n",
        "None Type: NoneType\n",
        "\n",
        "Getting the Data Type\n",
        "\n",
        "You can get the data type of any object by using the type() function:"
      ],
      "metadata": {
        "id": "YH6OowTyd4Hu"
      }
    },
    {
      "cell_type": "markdown",
      "source": [
        "Getting the Data Type\n",
        "\n",
        "You can get the data type of any object by using the type() function\n"
      ],
      "metadata": {
        "id": "53Gsx5byj2EQ"
      }
    },
    {
      "cell_type": "code",
      "source": [
        "# Example\n",
        "# print the data type of the variable x:\n",
        "x=5\n",
        "print(type(x))"
      ],
      "metadata": {
        "colab": {
          "base_uri": "https://localhost:8080/"
        },
        "id": "_PdLX-Xhk6Px",
        "outputId": "8361e91b-42f3-439e-a412-f38fa6f5b290"
      },
      "execution_count": 32,
      "outputs": [
        {
          "output_type": "stream",
          "name": "stdout",
          "text": [
            "<class 'int'>\n"
          ]
        }
      ]
    },
    {
      "cell_type": "markdown",
      "source": [
        "# Setting the Data Type\n",
        "\n",
        "In Python, the data type is set when you assign a value to a variable:"
      ],
      "metadata": {
        "id": "lXLeRr0FlIx7"
      }
    },
    {
      "cell_type": "code",
      "source": [
        "x=\"Hello World\" # str\n",
        "print(type(x))\n",
        "x=20 # int\n",
        "print(type(x))\n",
        "x=20.5 # float\n",
        "print(type(x))\n",
        "x=1j # complex\n",
        "print(type(x))\n",
        "x=[\"apple\",\"banana\",\"cherry\"]# list\n",
        "print(type(x))\n",
        "x=(\"apple\",\"banana\",\"cherry\") # tuple\n",
        "print(type(x))\n",
        "x=range(6) # range\n",
        "print(type(x))\n",
        "x={\"name\":\"John\",\"age\":36} # dict\n",
        "print(type(x))\n",
        "x={\"apple\",\"banana\",\"cherry\"}  # set\n",
        "print(type(x))\n",
        "x=frozenset({\"apple\",\"banana\",\"cherry\"}) # frozenset\n",
        "print(type(x))\n",
        "x=True # bool\n",
        "print(type(x))\n",
        "x=b\"Hello\" # bytes\n",
        "print(type(x))\n",
        "x=bytearray(5) # bytearray\n",
        "print(type(x))\n",
        "x=memoryview(bytes(5)) # memoryview\n",
        "print(type(x))\n",
        "x=None # NoneType\n",
        "print(type(x))"
      ],
      "metadata": {
        "colab": {
          "base_uri": "https://localhost:8080/"
        },
        "id": "f2czZTx3lG21",
        "outputId": "a79a46af-23df-42d9-d3d7-585b0732f97b"
      },
      "execution_count": 52,
      "outputs": [
        {
          "output_type": "stream",
          "name": "stdout",
          "text": [
            "<class 'str'>\n",
            "<class 'int'>\n",
            "<class 'float'>\n",
            "<class 'complex'>\n",
            "<class 'list'>\n",
            "<class 'tuple'>\n",
            "<class 'range'>\n",
            "<class 'dict'>\n",
            "<class 'set'>\n",
            "<class 'frozenset'>\n",
            "<class 'bool'>\n",
            "<class 'bytes'>\n",
            "<class 'bytearray'>\n",
            "<class 'memoryview'>\n",
            "<class 'NoneType'>\n"
          ]
        }
      ]
    },
    {
      "cell_type": "markdown",
      "source": [
        "# Setting the Specific Data Type\n",
        "\n",
        "If you want to specify the data type,you can use the following constructor functions:"
      ],
      "metadata": {
        "id": "jf9xQVVys0fW"
      }
    },
    {
      "cell_type": "code",
      "source": [
        "x =str(\"Hello world\")\n",
        "print(type(x))\n",
        "x=int(20)\n",
        "print(type(x))\n",
        "x=float(20.5)\n",
        "print(type(x))\n",
        "x=complex(1j)\n",
        "print(type(x))\n",
        "x=list((\"apple\",\"banana\",\"cherry\"))\n",
        "print(type(x))\n",
        "x=tuple((\"apple\",\"banana\",\"cherry\"))\n",
        "print(type(x))\n",
        "x=range(6)\n",
        "print(type(x))\n",
        "x=dict(name=\"John\",age=36)\n",
        "print(type(x))\n",
        "x=set((\"apple\",\"banana\",\"cherry\"))\n",
        "print(type(x))\n",
        "x=frozenset((\"apple\",\"banana\",\"cherry\"))\n",
        "print(type(x))\n",
        "x=bool(5)\n",
        "print(type(x))\n",
        "x=bytes(5)\n",
        "print(type(x))\n",
        "x=memoryview(bytes(5))\n",
        "print(type(x))"
      ],
      "metadata": {
        "colab": {
          "base_uri": "https://localhost:8080/"
        },
        "id": "_RK7zG_2tOiZ",
        "outputId": "148fd66a-5ce0-4c62-db3f-3d293c09c677"
      },
      "execution_count": 58,
      "outputs": [
        {
          "output_type": "stream",
          "name": "stdout",
          "text": [
            "<class 'str'>\n",
            "<class 'int'>\n",
            "<class 'float'>\n",
            "<class 'complex'>\n",
            "<class 'list'>\n"
          ]
        }
      ]
    },
    {
      "cell_type": "markdown",
      "source": [
        "# Python Numbers\n",
        "\n",
        "Python Numbers\n",
        "\n",
        "There are three numeric types in Python:\n",
        "\n",
        "* int\n",
        "* float\n",
        "* complex\n",
        "\n",
        "Variables of numeric types are created when you assign a value to them:\n"
      ],
      "metadata": {
        "id": "FmWrEJmvTUrD"
      }
    },
    {
      "cell_type": "code",
      "source": [
        "# Example\n",
        "x=1 # int\n",
        "y=2.8 # float\n",
        "z=1j # complex\n",
        "print(type(x))\n",
        "print(type(y))\n",
        "print(type(z))"
      ],
      "metadata": {
        "colab": {
          "base_uri": "https://localhost:8080/"
        },
        "id": "mJ2Uc452TTrY",
        "outputId": "8d6893ab-31ba-4fec-afdb-21270d11f48e"
      },
      "execution_count": 59,
      "outputs": [
        {
          "output_type": "stream",
          "name": "stdout",
          "text": [
            "<class 'int'>\n",
            "<class 'float'>\n",
            "<class 'complex'>\n"
          ]
        }
      ]
    },
    {
      "cell_type": "markdown",
      "source": [
        "# Int\n",
        "Int , or integer,is a whole number ,positive or negative,without decimals,of unlimited length."
      ],
      "metadata": {
        "id": "JBuK-eKxUVUr"
      }
    },
    {
      "cell_type": "code",
      "source": [
        "# Example\n",
        "# Integers:\n",
        "x=1\n",
        "y=3565625256545577\n",
        "z=-32225\n",
        "\n",
        "print(type(x))\n",
        "print(type(y))\n",
        "print(type(z))"
      ],
      "metadata": {
        "colab": {
          "base_uri": "https://localhost:8080/"
        },
        "id": "v39ISZoSUo0W",
        "outputId": "6b51e208-7db3-4509-afc9-282425d5745c"
      },
      "execution_count": 60,
      "outputs": [
        {
          "output_type": "stream",
          "name": "stdout",
          "text": [
            "<class 'int'>\n",
            "<class 'int'>\n",
            "<class 'int'>\n"
          ]
        }
      ]
    },
    {
      "cell_type": "markdown",
      "source": [
        "# Float\n",
        "Float,or \"floating point number\" is a number,positive or negative ,containing one  or more decimals."
      ],
      "metadata": {
        "id": "XOc_TTQqVIzh"
      }
    },
    {
      "cell_type": "code",
      "source": [
        "# Example\n",
        "\n",
        "# Floats:\n",
        "\n",
        "x=1.10\n",
        "y=1.0\n",
        "z=-35.58\n",
        "\n",
        "print(type(x))\n",
        "print(type(y))\n",
        "print(type(z))"
      ],
      "metadata": {
        "colab": {
          "base_uri": "https://localhost:8080/"
        },
        "id": "ZAKsWwLsWMdf",
        "outputId": "f385b4ab-c3e9-4bd0-97c9-ffbb8ec8397c"
      },
      "execution_count": 61,
      "outputs": [
        {
          "output_type": "stream",
          "name": "stdout",
          "text": [
            "<class 'float'>\n",
            "<class 'float'>\n",
            "<class 'float'>\n"
          ]
        }
      ]
    },
    {
      "cell_type": "markdown",
      "source": [
        "Float can also be scientific numbers with an \"e\" to indicate the power of 10."
      ],
      "metadata": {
        "id": "_uIBn15sWie3"
      }
    },
    {
      "cell_type": "code",
      "source": [
        "# Example\n",
        "\n",
        "# Floats:\n",
        "x=35e3\n",
        "y=12E4\n",
        "z=-87.7e100\n",
        "print(type(x))\n",
        "print()"
      ],
      "metadata": {
        "id": "73yPnWYmWtDf"
      },
      "execution_count": null,
      "outputs": []
    }
  ]
}
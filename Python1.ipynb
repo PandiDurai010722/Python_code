{
  "nbformat": 4,
  "nbformat_minor": 0,
  "metadata": {
    "colab": {
      "provenance": [],
      "authorship_tag": "ABX9TyPve70tCFbbWnFdLP6NhXbC",
      "include_colab_link": true
    },
    "kernelspec": {
      "name": "python3",
      "display_name": "Python 3"
    },
    "language_info": {
      "name": "python"
    }
  },
  "cells": [
    {
      "cell_type": "markdown",
      "metadata": {
        "id": "view-in-github",
        "colab_type": "text"
      },
      "source": [
        "<a href=\"https://colab.research.google.com/github/PandiDurai010722/Python_code/blob/master/Python1.ipynb\" target=\"_parent\"><img src=\"https://colab.research.google.com/assets/colab-badge.svg\" alt=\"Open In Colab\"/></a>"
      ]
    },
    {
      "cell_type": "code",
      "execution_count": null,
      "metadata": {
        "colab": {
          "base_uri": "https://localhost:8080/"
        },
        "id": "kzce0Jeiyb2v",
        "outputId": "c1021a6c-7e02-42c3-b923-fa3e4dfe9a51"
      },
      "outputs": [
        {
          "output_type": "stream",
          "name": "stdout",
          "text": [
            "10\n"
          ]
        }
      ],
      "source": [
        "san =10\n",
        "print(san)"
      ]
    },
    {
      "cell_type": "code",
      "source": [
        "print(type(san))"
      ],
      "metadata": {
        "colab": {
          "base_uri": "https://localhost:8080/"
        },
        "id": "DujzKGEz6Rrs",
        "outputId": "b55dfc54-7bd0-4ae3-d2bc-812014ee6bd5"
      },
      "execution_count": null,
      "outputs": [
        {
          "output_type": "stream",
          "name": "stdout",
          "text": [
            "<class 'int'>\n"
          ]
        }
      ]
    },
    {
      "cell_type": "code",
      "source": [
        "# List ---> It  can store a collection of elements\n",
        "# Individual elements can be homogeneous or heterogeneous\n",
        "\n",
        "#homogeneous [1,2,3,4,5,7,0] # heterogeneous [1,2,35,7,\"Pandi\",\"Aruna\"]\n"
      ],
      "metadata": {
        "id": "fFvViAwc6avB"
      },
      "execution_count": null,
      "outputs": []
    },
    {
      "cell_type": "code",
      "source": [
        "l=[2,3,4,1,5,6,1.34]\n",
        "print(l)"
      ],
      "metadata": {
        "colab": {
          "base_uri": "https://localhost:8080/"
        },
        "id": "zUffEjtgFbT4",
        "outputId": "b1cb6f99-df1e-41f8-d6ae-2d09bba5d98a"
      },
      "execution_count": null,
      "outputs": [
        {
          "output_type": "stream",
          "name": "stdout",
          "text": [
            "[2, 3, 4, 1, 5, 6, 1.34]\n"
          ]
        }
      ]
    },
    {
      "cell_type": "code",
      "source": [
        "123\n",
        "l"
      ],
      "metadata": {
        "colab": {
          "base_uri": "https://localhost:8080/"
        },
        "id": "r_Mx1ISGFjMW",
        "outputId": "574c8638-0a09-4fcd-d869-8ff324629880"
      },
      "execution_count": null,
      "outputs": [
        {
          "output_type": "execute_result",
          "data": {
            "text/plain": [
              "[2, 3, 4, 1, 5, 6, 1.34]"
            ]
          },
          "metadata": {},
          "execution_count": 6
        }
      ]
    },
    {
      "cell_type": "code",
      "source": [
        "len(l) # No .of elemnets in this list"
      ],
      "metadata": {
        "colab": {
          "base_uri": "https://localhost:8080/"
        },
        "id": "80o-vKcfFpJz",
        "outputId": "cd00d067-399e-4287-ca30-aeff74843671"
      },
      "execution_count": null,
      "outputs": [
        {
          "output_type": "execute_result",
          "data": {
            "text/plain": [
              "7"
            ]
          },
          "metadata": {},
          "execution_count": 7
        }
      ]
    },
    {
      "cell_type": "code",
      "source": [
        "#l--->[2,3,4,1,5,6,1.34]\n",
        "#index-0 1 2 3 4 5  6     # Location of the last element [len(l)-1]\n",
        "#neg- -7-6-5-4-3-2 -1\n",
        "#index\n",
        "\n",
        "l[0] # first element\n"
      ],
      "metadata": {
        "colab": {
          "base_uri": "https://localhost:8080/"
        },
        "id": "0bfBswTMF4-H",
        "outputId": "85f09576-7fe6-4c08-9f92-dee6e5488bc8"
      },
      "execution_count": null,
      "outputs": [
        {
          "output_type": "execute_result",
          "data": {
            "text/plain": [
              "2"
            ]
          },
          "metadata": {},
          "execution_count": 8
        }
      ]
    },
    {
      "cell_type": "code",
      "source": [
        "l[-1] # Last element"
      ],
      "metadata": {
        "colab": {
          "base_uri": "https://localhost:8080/"
        },
        "id": "m2wn4NNhHBmu",
        "outputId": "599aed7c-d755-4c63-dd87-e85a3a52186a"
      },
      "execution_count": null,
      "outputs": [
        {
          "output_type": "execute_result",
          "data": {
            "text/plain": [
              "1.34"
            ]
          },
          "metadata": {},
          "execution_count": 9
        }
      ]
    },
    {
      "cell_type": "code",
      "source": [
        "l[-7]"
      ],
      "metadata": {
        "colab": {
          "base_uri": "https://localhost:8080/"
        },
        "id": "Y9-fS-ppHI7Q",
        "outputId": "dcae47bf-633a-4202-f6b1-bb0b1d8118d5"
      },
      "execution_count": null,
      "outputs": [
        {
          "output_type": "execute_result",
          "data": {
            "text/plain": [
              "2"
            ]
          },
          "metadata": {},
          "execution_count": 10
        }
      ]
    },
    {
      "cell_type": "code",
      "source": [
        "l[len(l)-5]"
      ],
      "metadata": {
        "colab": {
          "base_uri": "https://localhost:8080/"
        },
        "id": "Qjb9Bx-gHO29",
        "outputId": "e2e77486-ce24-4d63-965c-7d3a6642c85d"
      },
      "execution_count": null,
      "outputs": [
        {
          "output_type": "execute_result",
          "data": {
            "text/plain": [
              "4"
            ]
          },
          "metadata": {},
          "execution_count": 11
        }
      ]
    },
    {
      "cell_type": "code",
      "source": [
        "sum(l) # Sum of the list"
      ],
      "metadata": {
        "colab": {
          "base_uri": "https://localhost:8080/"
        },
        "id": "hPkpo9JuHc_Q",
        "outputId": "b1f36a5a-7313-4243-e8ca-585e5bc7fac9"
      },
      "execution_count": null,
      "outputs": [
        {
          "output_type": "execute_result",
          "data": {
            "text/plain": [
              "22.34"
            ]
          },
          "metadata": {},
          "execution_count": 12
        }
      ]
    },
    {
      "cell_type": "code",
      "source": [
        "l.append(\"s\") # Add an element to a list"
      ],
      "metadata": {
        "id": "5JWHsurHHobZ"
      },
      "execution_count": null,
      "outputs": []
    },
    {
      "cell_type": "code",
      "source": [
        "sum(l) # Not valid when strings and floats"
      ],
      "metadata": {
        "colab": {
          "base_uri": "https://localhost:8080/",
          "height": 176
        },
        "id": "CmFGW_W6HxpH",
        "outputId": "46e4dac2-5d9a-494c-8285-4d7175f2d518"
      },
      "execution_count": null,
      "outputs": [
        {
          "output_type": "error",
          "ename": "TypeError",
          "evalue": "ignored",
          "traceback": [
            "\u001b[0;31m---------------------------------------------------------------------------\u001b[0m",
            "\u001b[0;31mTypeError\u001b[0m                                 Traceback (most recent call last)",
            "\u001b[0;32m<ipython-input-14-b957b889506a>\u001b[0m in \u001b[0;36m<cell line: 1>\u001b[0;34m()\u001b[0m\n\u001b[0;32m----> 1\u001b[0;31m \u001b[0msum\u001b[0m\u001b[0;34m(\u001b[0m\u001b[0ml\u001b[0m\u001b[0;34m)\u001b[0m\u001b[0;34m\u001b[0m\u001b[0;34m\u001b[0m\u001b[0m\n\u001b[0m",
            "\u001b[0;31mTypeError\u001b[0m: unsupported operand type(s) for +: 'float' and 'str'"
          ]
        }
      ]
    },
    {
      "cell_type": "code",
      "source": [
        "l1=[1,2,3]\n",
        "l2=[4,5,6]\n",
        "l1.extend(l2) # Concatenating the elements of l1 with the elements of l2\n",
        "print(l1)"
      ],
      "metadata": {
        "colab": {
          "base_uri": "https://localhost:8080/"
        },
        "id": "oVd7vbhZH5-V",
        "outputId": "713bd9c2-967f-4c77-9f47-9aba5e63128d"
      },
      "execution_count": null,
      "outputs": [
        {
          "output_type": "stream",
          "name": "stdout",
          "text": [
            "[1, 2, 3, 4, 5, 6]\n"
          ]
        }
      ]
    },
    {
      "cell_type": "code",
      "source": [
        "l1"
      ],
      "metadata": {
        "colab": {
          "base_uri": "https://localhost:8080/"
        },
        "id": "yM4k8SR6IuoQ",
        "outputId": "325759e0-54aa-4309-aa92-f2d50112695b"
      },
      "execution_count": null,
      "outputs": [
        {
          "output_type": "execute_result",
          "data": {
            "text/plain": [
              "[1, 2, 3, 4, 5, 6]"
            ]
          },
          "metadata": {},
          "execution_count": 19
        }
      ]
    },
    {
      "cell_type": "code",
      "source": [
        "l2"
      ],
      "metadata": {
        "colab": {
          "base_uri": "https://localhost:8080/"
        },
        "id": "tLc-oTYhJDsC",
        "outputId": "88749d67-ab65-4a5a-a302-b55e9c683214"
      },
      "execution_count": null,
      "outputs": [
        {
          "output_type": "execute_result",
          "data": {
            "text/plain": [
              "[4, 5, 6]"
            ]
          },
          "metadata": {},
          "execution_count": 23
        }
      ]
    },
    {
      "cell_type": "code",
      "source": [
        "l1.append(l2) # l2 will be added to the list\n",
        "l1"
      ],
      "metadata": {
        "colab": {
          "base_uri": "https://localhost:8080/"
        },
        "id": "7CBWqzqJNE0O",
        "outputId": "a08d0196-9ecd-4dca-f56e-8b19371ac11f"
      },
      "execution_count": null,
      "outputs": [
        {
          "output_type": "execute_result",
          "data": {
            "text/plain": [
              "[1, 2, 3, 4, 5, 6, [4, 5, 6], [4, 5, 6], [4, 5, 6], [4, 5, 6]]"
            ]
          },
          "metadata": {},
          "execution_count": 25
        }
      ]
    },
    {
      "cell_type": "code",
      "source": [
        "l1[-1]"
      ],
      "metadata": {
        "colab": {
          "base_uri": "https://localhost:8080/"
        },
        "id": "6OOtrM6mNGEk",
        "outputId": "337205a9-c4c0-408d-e2f6-0850eab58126"
      },
      "execution_count": null,
      "outputs": [
        {
          "output_type": "execute_result",
          "data": {
            "text/plain": [
              "[4, 5, 6]"
            ]
          },
          "metadata": {},
          "execution_count": 26
        }
      ]
    },
    {
      "cell_type": "code",
      "source": [
        "sum(l1[-1])"
      ],
      "metadata": {
        "colab": {
          "base_uri": "https://localhost:8080/"
        },
        "id": "Z5-A_QvPNL_n",
        "outputId": "38455f1e-264e-4ac1-e7e7-effe40f651c2"
      },
      "execution_count": null,
      "outputs": [
        {
          "output_type": "execute_result",
          "data": {
            "text/plain": [
              "15"
            ]
          },
          "metadata": {},
          "execution_count": 27
        }
      ]
    },
    {
      "cell_type": "code",
      "source": [
        "l1[-1][1]"
      ],
      "metadata": {
        "colab": {
          "base_uri": "https://localhost:8080/"
        },
        "id": "DFtuoRUuNRw5",
        "outputId": "44b25f86-5eb5-4c23-8521-84adebefc5de"
      },
      "execution_count": null,
      "outputs": [
        {
          "output_type": "execute_result",
          "data": {
            "text/plain": [
              "5"
            ]
          },
          "metadata": {},
          "execution_count": 28
        }
      ]
    },
    {
      "cell_type": "code",
      "source": [
        "l4=[[1,2,3],[4,5],[6]] #List of lists"
      ],
      "metadata": {
        "id": "Q28cq5f2NXAZ"
      },
      "execution_count": null,
      "outputs": []
    },
    {
      "cell_type": "code",
      "source": [
        "sum(l4[0])"
      ],
      "metadata": {
        "colab": {
          "base_uri": "https://localhost:8080/"
        },
        "id": "d0LL0WfAN8WX",
        "outputId": "df195c7c-be86-4413-e495-5de99845c91a"
      },
      "execution_count": null,
      "outputs": [
        {
          "output_type": "execute_result",
          "data": {
            "text/plain": [
              "6"
            ]
          },
          "metadata": {},
          "execution_count": 34
        }
      ]
    },
    {
      "cell_type": "code",
      "source": [
        "l=[1,2,3,4,5]\n",
        "# Avarage = Sum /No. of elements\n",
        "ans=sum(l)/len(l)\n",
        "print(ans)"
      ],
      "metadata": {
        "colab": {
          "base_uri": "https://localhost:8080/"
        },
        "id": "1m0oG9THONMV",
        "outputId": "9541b52b-5b8a-4bce-fed9-4d161660af91"
      },
      "execution_count": null,
      "outputs": [
        {
          "output_type": "stream",
          "name": "stdout",
          "text": [
            "3.0\n"
          ]
        }
      ]
    },
    {
      "cell_type": "code",
      "source": [
        "sum(l)"
      ],
      "metadata": {
        "id": "izUoOrdIO7Bh"
      },
      "execution_count": null,
      "outputs": []
    },
    {
      "cell_type": "code",
      "source": [
        "len(l)"
      ],
      "metadata": {
        "colab": {
          "base_uri": "https://localhost:8080/"
        },
        "id": "1AFuNH7qO9D2",
        "outputId": "9ff217d3-3e36-424e-905e-7f3cd5c1568a"
      },
      "execution_count": null,
      "outputs": [
        {
          "output_type": "execute_result",
          "data": {
            "text/plain": [
              "5"
            ]
          },
          "metadata": {},
          "execution_count": 36
        }
      ]
    },
    {
      "cell_type": "code",
      "source": [
        "min(l) # Minimum of the list"
      ],
      "metadata": {
        "colab": {
          "base_uri": "https://localhost:8080/"
        },
        "id": "t63PO35qPA6K",
        "outputId": "97614605-d975-45f8-b993-1cf02eece760"
      },
      "execution_count": null,
      "outputs": [
        {
          "output_type": "execute_result",
          "data": {
            "text/plain": [
              "1"
            ]
          },
          "metadata": {},
          "execution_count": 37
        }
      ]
    },
    {
      "cell_type": "code",
      "source": [
        "max(l) # Maximum of the list"
      ],
      "metadata": {
        "colab": {
          "base_uri": "https://localhost:8080/"
        },
        "id": "0RgbQJ9pPESh",
        "outputId": "c63bab9e-22e6-48c0-bbdb-033e6c2861f0"
      },
      "execution_count": null,
      "outputs": [
        {
          "output_type": "execute_result",
          "data": {
            "text/plain": [
              "5"
            ]
          },
          "metadata": {},
          "execution_count": 38
        }
      ]
    },
    {
      "cell_type": "code",
      "source": [
        "l.index(3)  #Give you the element"
      ],
      "metadata": {
        "colab": {
          "base_uri": "https://localhost:8080/"
        },
        "id": "OkAamFykPPRX",
        "outputId": "c0280c8a-9639-4690-9020-0e165610d973"
      },
      "execution_count": null,
      "outputs": [
        {
          "output_type": "execute_result",
          "data": {
            "text/plain": [
              "2"
            ]
          },
          "metadata": {},
          "execution_count": 40
        }
      ]
    },
    {
      "cell_type": "code",
      "source": [
        "l.index(6) # Not found in the list"
      ],
      "metadata": {
        "colab": {
          "base_uri": "https://localhost:8080/",
          "height": 176
        },
        "id": "qc5Oa8j5PmBA",
        "outputId": "b95a4081-bb54-42d3-d142-baac2e8f17f5"
      },
      "execution_count": null,
      "outputs": [
        {
          "output_type": "error",
          "ename": "ValueError",
          "evalue": "ignored",
          "traceback": [
            "\u001b[0;31m---------------------------------------------------------------------------\u001b[0m",
            "\u001b[0;31mValueError\u001b[0m                                Traceback (most recent call last)",
            "\u001b[0;32m<ipython-input-41-fccb1d41a78d>\u001b[0m in \u001b[0;36m<cell line: 1>\u001b[0;34m()\u001b[0m\n\u001b[0;32m----> 1\u001b[0;31m \u001b[0ml\u001b[0m\u001b[0;34m.\u001b[0m\u001b[0mindex\u001b[0m\u001b[0;34m(\u001b[0m\u001b[0;36m6\u001b[0m\u001b[0;34m)\u001b[0m\u001b[0;34m\u001b[0m\u001b[0;34m\u001b[0m\u001b[0m\n\u001b[0m",
            "\u001b[0;31mValueError\u001b[0m: 6 is not in list"
          ]
        }
      ]
    },
    {
      "cell_type": "code",
      "source": [
        "l"
      ],
      "metadata": {
        "colab": {
          "base_uri": "https://localhost:8080/"
        },
        "id": "VSVH7EK5PvRH",
        "outputId": "c7b4aaf9-21dd-486e-f177-bebeaa20330f"
      },
      "execution_count": null,
      "outputs": [
        {
          "output_type": "execute_result",
          "data": {
            "text/plain": [
              "[1, 2, 3, 4, 5]"
            ]
          },
          "metadata": {},
          "execution_count": 42
        }
      ]
    },
    {
      "cell_type": "code",
      "source": [
        "# Index of the maximum element\n",
        "print(l.index(max(l)))\n",
        "# Indexx of the minimum element\n",
        "print(l.index(min(l)))"
      ],
      "metadata": {
        "colab": {
          "base_uri": "https://localhost:8080/"
        },
        "id": "Uv0KtTeHPvMS",
        "outputId": "48bad4d8-66b1-4241-878c-568b2ea3fa2c"
      },
      "execution_count": null,
      "outputs": [
        {
          "output_type": "stream",
          "name": "stdout",
          "text": [
            "4\n",
            "0\n"
          ]
        }
      ]
    },
    {
      "cell_type": "code",
      "source": [
        "l=[2,3,1,4,5,6,7,-1]"
      ],
      "metadata": {
        "id": "mdblhNFwPvK2"
      },
      "execution_count": null,
      "outputs": []
    },
    {
      "cell_type": "code",
      "source": [
        "l2= sorted(l) # returns a sorted list\n",
        "l2\n"
      ],
      "metadata": {
        "colab": {
          "base_uri": "https://localhost:8080/"
        },
        "id": "h6-7bPYPPvCH",
        "outputId": "b25aea41-7d26-4775-bf18-2c00f2c539a1"
      },
      "execution_count": null,
      "outputs": [
        {
          "output_type": "execute_result",
          "data": {
            "text/plain": [
              "[-1, 1, 2, 3, 4, 5, 6, 7]"
            ]
          },
          "metadata": {},
          "execution_count": 51
        }
      ]
    },
    {
      "cell_type": "code",
      "source": [],
      "metadata": {
        "colab": {
          "base_uri": "https://localhost:8080/"
        },
        "id": "02-Xg52sPu1w",
        "outputId": "d88f27e6-d28d-4a3b-e8a1-f0a000773e45"
      },
      "execution_count": null,
      "outputs": [
        {
          "output_type": "execute_result",
          "data": {
            "text/plain": [
              "[2, 3, 1, 4, 5, 6, 7, -1]"
            ]
          },
          "metadata": {},
          "execution_count": 52
        }
      ]
    },
    {
      "cell_type": "code",
      "source": [
        "l.sort()# Change the list in-place in an ascending manner"
      ],
      "metadata": {
        "id": "5jD82jDoPupW"
      },
      "execution_count": null,
      "outputs": []
    },
    {
      "cell_type": "code",
      "source": [
        "l"
      ],
      "metadata": {
        "colab": {
          "base_uri": "https://localhost:8080/"
        },
        "id": "fp7OXp2JPt2B",
        "outputId": "7bf5f030-20c4-48a1-e615-c0d57ab1196a"
      },
      "execution_count": null,
      "outputs": [
        {
          "output_type": "execute_result",
          "data": {
            "text/plain": [
              "[-1, 1, 2, 3, 4, 5, 6, 7]"
            ]
          },
          "metadata": {},
          "execution_count": 54
        }
      ]
    },
    {
      "cell_type": "code",
      "source": [
        "l.sort(reverse=True) # Sorts the list (in-place) in the descending order\n",
        "l"
      ],
      "metadata": {
        "colab": {
          "base_uri": "https://localhost:8080/"
        },
        "id": "mBhoY25AQ3et",
        "outputId": "e6b35143-cee7-43eb-f1aa-852b983096bb"
      },
      "execution_count": null,
      "outputs": [
        {
          "output_type": "execute_result",
          "data": {
            "text/plain": [
              "[7, 6, 5, 4, 3, 2, 1, -1]"
            ]
          },
          "metadata": {},
          "execution_count": 55
        }
      ]
    },
    {
      "cell_type": "code",
      "source": [
        "l=[5,6,1,2,3]\n",
        "l\n"
      ],
      "metadata": {
        "colab": {
          "base_uri": "https://localhost:8080/"
        },
        "id": "1EVST338RKoS",
        "outputId": "5d07dc6a-888d-4a18-f9c2-0c14819a14b3"
      },
      "execution_count": null,
      "outputs": [
        {
          "output_type": "execute_result",
          "data": {
            "text/plain": [
              "[5, 6, 1, 2, 3]"
            ]
          },
          "metadata": {},
          "execution_count": 81
        }
      ]
    },
    {
      "cell_type": "code",
      "source": [
        "# Ascending [Smalles to largest] Descending [Largest to Smallest]\n",
        "sorted(l)\n",
        "l2=sorted(l,reverse=True) # sorts it in the descending order\n",
        "l2"
      ],
      "metadata": {
        "colab": {
          "base_uri": "https://localhost:8080/"
        },
        "id": "rMQhm4ztRyb9",
        "outputId": "940721f2-1d81-423d-b419-cd168fb43ead"
      },
      "execution_count": null,
      "outputs": [
        {
          "output_type": "execute_result",
          "data": {
            "text/plain": [
              "[6, 5, 3, 2, 1]"
            ]
          },
          "metadata": {},
          "execution_count": 82
        }
      ]
    },
    {
      "cell_type": "code",
      "source": [
        "l"
      ],
      "metadata": {
        "colab": {
          "base_uri": "https://localhost:8080/"
        },
        "id": "hnYe9pQkSLAW",
        "outputId": "9ca89686-200e-4294-c775-06a6f2ee25da"
      },
      "execution_count": null,
      "outputs": [
        {
          "output_type": "execute_result",
          "data": {
            "text/plain": [
              "[5, 6, 1, 2, 3]"
            ]
          },
          "metadata": {},
          "execution_count": 83
        }
      ]
    },
    {
      "cell_type": "code",
      "source": [
        "l.sort() #[When a function changes a variablein-place,it will not print]\n",
        "l"
      ],
      "metadata": {
        "colab": {
          "base_uri": "https://localhost:8080/"
        },
        "id": "bEnjQYUjSMRz",
        "outputId": "bbaa6ea2-17a7-409f-c573-7fae8511a880"
      },
      "execution_count": null,
      "outputs": [
        {
          "output_type": "execute_result",
          "data": {
            "text/plain": [
              "[1, 2, 3, 5, 6]"
            ]
          },
          "metadata": {},
          "execution_count": 84
        }
      ]
    },
    {
      "cell_type": "code",
      "source": [
        "l # The orginal ist has been changed in place"
      ],
      "metadata": {
        "colab": {
          "base_uri": "https://localhost:8080/"
        },
        "id": "eTsdkC2kSYF1",
        "outputId": "396efab7-f574-4104-dd62-42833ee79dd2"
      },
      "execution_count": null,
      "outputs": [
        {
          "output_type": "execute_result",
          "data": {
            "text/plain": [
              "[1, 2, 3, 5, 6]"
            ]
          },
          "metadata": {},
          "execution_count": 85
        }
      ]
    },
    {
      "cell_type": "code",
      "source": [
        "l.sort(reverse=True)"
      ],
      "metadata": {
        "id": "ifdVDod1TBTy"
      },
      "execution_count": null,
      "outputs": []
    },
    {
      "cell_type": "code",
      "source": [
        "l"
      ],
      "metadata": {
        "colab": {
          "base_uri": "https://localhost:8080/"
        },
        "id": "Fn17SdppTHse",
        "outputId": "7f214897-9db5-49f3-e99e-1393a0926461"
      },
      "execution_count": null,
      "outputs": [
        {
          "output_type": "execute_result",
          "data": {
            "text/plain": [
              "[6, 5, 3, 2, 1]"
            ]
          },
          "metadata": {},
          "execution_count": 87
        }
      ]
    },
    {
      "cell_type": "code",
      "source": [
        "l"
      ],
      "metadata": {
        "colab": {
          "base_uri": "https://localhost:8080/"
        },
        "id": "GKYy9TDJTKZo",
        "outputId": "1621f4ab-a00a-4dad-dba5-4765bc43f4ab"
      },
      "execution_count": null,
      "outputs": [
        {
          "output_type": "execute_result",
          "data": {
            "text/plain": [
              "[6, 5, 3, 2, 1]"
            ]
          },
          "metadata": {},
          "execution_count": 88
        }
      ]
    },
    {
      "cell_type": "code",
      "source": [
        "l.remove(1) # remove the specified element (if prsent) from the list"
      ],
      "metadata": {
        "id": "1nP0ruVuTm_Z"
      },
      "execution_count": null,
      "outputs": []
    },
    {
      "cell_type": "code",
      "source": [
        "l"
      ],
      "metadata": {
        "colab": {
          "base_uri": "https://localhost:8080/"
        },
        "id": "K_iw3h3VTm7U",
        "outputId": "f77dc175-2739-498d-8a5d-7b96d06df03a"
      },
      "execution_count": null,
      "outputs": [
        {
          "output_type": "execute_result",
          "data": {
            "text/plain": [
              "[6, 5, 3, 2]"
            ]
          },
          "metadata": {},
          "execution_count": 90
        }
      ]
    },
    {
      "cell_type": "code",
      "source": [
        "l.remove(l[3])"
      ],
      "metadata": {
        "id": "XjabsLq5Tm5N"
      },
      "execution_count": null,
      "outputs": []
    },
    {
      "cell_type": "code",
      "source": [
        "l"
      ],
      "metadata": {
        "colab": {
          "base_uri": "https://localhost:8080/"
        },
        "id": "PqQ-nhDoTm0y",
        "outputId": "ad0a9477-ed1f-4c20-d6fb-7d2cb138a7f6"
      },
      "execution_count": null,
      "outputs": [
        {
          "output_type": "execute_result",
          "data": {
            "text/plain": [
              "[6, 5, 3]"
            ]
          },
          "metadata": {},
          "execution_count": 92
        }
      ]
    },
    {
      "cell_type": "code",
      "source": [
        "l.remove(l[0])\n"
      ],
      "metadata": {
        "id": "7pCGBKO1Tmy_"
      },
      "execution_count": null,
      "outputs": []
    },
    {
      "cell_type": "code",
      "source": [
        "l"
      ],
      "metadata": {
        "colab": {
          "base_uri": "https://localhost:8080/"
        },
        "id": "sdrZ7jphTmua",
        "outputId": "3aa947eb-7345-4b01-b2de-3ccaccfd7428"
      },
      "execution_count": null,
      "outputs": [
        {
          "output_type": "execute_result",
          "data": {
            "text/plain": [
              "[5, 3]"
            ]
          },
          "metadata": {},
          "execution_count": 94
        }
      ]
    },
    {
      "cell_type": "code",
      "source": [
        "l=[6,5,3,2,1]"
      ],
      "metadata": {
        "id": "gvUmtwoqTmjh"
      },
      "execution_count": null,
      "outputs": []
    },
    {
      "cell_type": "code",
      "source": [
        "l.remove(l[0])"
      ],
      "metadata": {
        "id": "doIksxswTmWd"
      },
      "execution_count": null,
      "outputs": []
    },
    {
      "cell_type": "code",
      "source": [
        "l"
      ],
      "metadata": {
        "colab": {
          "base_uri": "https://localhost:8080/"
        },
        "id": "A1mM7Xd4TmUJ",
        "outputId": "a6d748f6-a82b-4630-dffd-bc39b2e4a707"
      },
      "execution_count": null,
      "outputs": [
        {
          "output_type": "execute_result",
          "data": {
            "text/plain": [
              "[5, 3, 2, 1]"
            ]
          },
          "metadata": {},
          "execution_count": 97
        }
      ]
    },
    {
      "cell_type": "code",
      "source": [
        "l.remove(l[0])\n"
      ],
      "metadata": {
        "id": "MkPh2oeMZg4D"
      },
      "execution_count": null,
      "outputs": []
    },
    {
      "cell_type": "code",
      "source": [
        "l"
      ],
      "metadata": {
        "colab": {
          "base_uri": "https://localhost:8080/"
        },
        "id": "n7gcBA_tZm6d",
        "outputId": "595e037e-fd35-4266-86ef-baace1bf2044"
      },
      "execution_count": null,
      "outputs": [
        {
          "output_type": "execute_result",
          "data": {
            "text/plain": [
              "[3, 2, 1]"
            ]
          },
          "metadata": {},
          "execution_count": 99
        }
      ]
    },
    {
      "cell_type": "code",
      "source": [
        "l=[1,2,4,6,7,9]\n"
      ],
      "metadata": {
        "id": "19JmoLPXbXkT"
      },
      "execution_count": null,
      "outputs": []
    },
    {
      "cell_type": "code",
      "source": [
        "l.pop() # removes the last element from the list and displays it"
      ],
      "metadata": {
        "colab": {
          "base_uri": "https://localhost:8080/"
        },
        "id": "RNp9my8WbiYD",
        "outputId": "87dd9460-40ca-410a-dc8a-aa16a3751ea2"
      },
      "execution_count": null,
      "outputs": [
        {
          "output_type": "execute_result",
          "data": {
            "text/plain": [
              "9"
            ]
          },
          "metadata": {},
          "execution_count": 101
        }
      ]
    },
    {
      "cell_type": "code",
      "source": [
        "l"
      ],
      "metadata": {
        "colab": {
          "base_uri": "https://localhost:8080/"
        },
        "id": "UAOEsLzmbtPj",
        "outputId": "877bb006-1eaf-487e-fafc-cde0999515ff"
      },
      "execution_count": null,
      "outputs": [
        {
          "output_type": "execute_result",
          "data": {
            "text/plain": [
              "[1, 2, 4, 6, 7]"
            ]
          },
          "metadata": {},
          "execution_count": 102
        }
      ]
    },
    {
      "cell_type": "code",
      "source": [
        "l.append(9)"
      ],
      "metadata": {
        "id": "S8bZptVPbtLy"
      },
      "execution_count": null,
      "outputs": []
    },
    {
      "cell_type": "code",
      "source": [
        "l.sort() # Changing the original list\n",
        "print(l[2])"
      ],
      "metadata": {
        "colab": {
          "base_uri": "https://localhost:8080/"
        },
        "id": "kn13K0VjbtIy",
        "outputId": "f9c23894-7a9a-4092-ba45-889a04b2d64e"
      },
      "execution_count": null,
      "outputs": [
        {
          "output_type": "stream",
          "name": "stdout",
          "text": [
            "4\n"
          ]
        }
      ]
    },
    {
      "cell_type": "code",
      "source": [
        "# Find the 3rd smallest element from a list\n",
        "# Yor are not allowed to use any extra space. you can use one or two variable if you want\n",
        "# The approach should be time-efficient\n",
        "td_small=sorted(l) # requires extra space [requires and  extra copy of your list & sorting it]\n",
        "print(td_small[2])\n"
      ],
      "metadata": {
        "colab": {
          "base_uri": "https://localhost:8080/"
        },
        "id": "6EpGlDYbbtG1",
        "outputId": "e6ad33b8-49b5-42bd-e997-51295e1d1468"
      },
      "execution_count": null,
      "outputs": [
        {
          "output_type": "stream",
          "name": "stdout",
          "text": [
            "4\n"
          ]
        }
      ]
    },
    {
      "cell_type": "code",
      "source": [
        "# Time and Space complexity"
      ],
      "metadata": {
        "id": "bwJRhg72btDb"
      },
      "execution_count": null,
      "outputs": []
    },
    {
      "cell_type": "code",
      "source": [
        "l=[3,1,2,4,-6,7]"
      ],
      "metadata": {
        "id": "2s83UYFecNWs"
      },
      "execution_count": null,
      "outputs": []
    },
    {
      "cell_type": "code",
      "source": [
        "# Find the minimum element from list first\n",
        "# Swap it with the first element,\n",
        "[-6,1,2,4,3,7]\n",
        "# Find the index of the second least element [1]\n",
        "# Swap it if required\n",
        "[-6,1,2,4,3,7]\n",
        "# Repeat the above two step one more time\n",
        "[-6,1,2,4,3,7]\n",
        "# You have third least element at location [2]\n"
      ],
      "metadata": {
        "id": "l7U5cnb4cNUH"
      },
      "execution_count": null,
      "outputs": []
    },
    {
      "cell_type": "code",
      "source": [
        "l"
      ],
      "metadata": {
        "colab": {
          "base_uri": "https://localhost:8080/"
        },
        "id": "dn4N22WzcNRZ",
        "outputId": "46a06418-771d-4e57-8556-fd7fb70ffb64"
      },
      "execution_count": null,
      "outputs": [
        {
          "output_type": "execute_result",
          "data": {
            "text/plain": [
              "[3, 1, 2, 4, -6, 7]"
            ]
          },
          "metadata": {},
          "execution_count": 113
        }
      ]
    },
    {
      "cell_type": "code",
      "source": [
        "# Slicing\n",
        "l[1:5] #Start_index =1, end_index=(4+1) --->l[start_index:end_index + 1]\n",
        "# Starts from Index 1,goes upto index4 (end_index-1)"
      ],
      "metadata": {
        "colab": {
          "base_uri": "https://localhost:8080/"
        },
        "id": "liu_7rp6cNOV",
        "outputId": "f6eefd31-897f-4b34-d8fe-df012beb3e3b"
      },
      "execution_count": null,
      "outputs": [
        {
          "output_type": "execute_result",
          "data": {
            "text/plain": [
              "[1, 2, 4, -6]"
            ]
          },
          "metadata": {},
          "execution_count": 115
        }
      ]
    },
    {
      "cell_type": "code",
      "source": [
        "l[:3]  # start_index is not provided"
      ],
      "metadata": {
        "colab": {
          "base_uri": "https://localhost:8080/"
        },
        "id": "Ej_9QRg2cNLa",
        "outputId": "f00c7073-8868-4321-8853-71ae6e0c5ece"
      },
      "execution_count": null,
      "outputs": [
        {
          "output_type": "execute_result",
          "data": {
            "text/plain": [
              "[3, 1, 2]"
            ]
          },
          "metadata": {},
          "execution_count": 116
        }
      ]
    },
    {
      "cell_type": "code",
      "source": [
        "l[2:] #end_index is not provided"
      ],
      "metadata": {
        "colab": {
          "base_uri": "https://localhost:8080/"
        },
        "id": "0RPzS_RFcNIY",
        "outputId": "fda6cbd5-5592-4fa2-f5c1-f189f2c6c1ab"
      },
      "execution_count": null,
      "outputs": [
        {
          "output_type": "execute_result",
          "data": {
            "text/plain": [
              "[2, 4, -6, 7]"
            ]
          },
          "metadata": {},
          "execution_count": 117
        }
      ]
    },
    {
      "cell_type": "code",
      "source": [
        "# swap two elements\n",
        "l[0],l[4]=l[4],l[0] # easy syntax"
      ],
      "metadata": {
        "id": "SXIeodX-cNCi"
      },
      "execution_count": null,
      "outputs": []
    },
    {
      "cell_type": "code",
      "source": [
        "#l[0],l[4]=l[4],l[0]\n",
        "\n",
        "l"
      ],
      "metadata": {
        "colab": {
          "base_uri": "https://localhost:8080/"
        },
        "id": "SH4sMFbEoJa9",
        "outputId": "917846ab-2ba4-4909-97eb-b851b80daf49"
      },
      "execution_count": null,
      "outputs": [
        {
          "output_type": "execute_result",
          "data": {
            "text/plain": [
              "[-6, 1, 2, 4, 3, 7]"
            ]
          },
          "metadata": {},
          "execution_count": 121
        }
      ]
    },
    {
      "cell_type": "code",
      "source": [
        "# Swap elements at location 1 and 3\n",
        "l[1],l[3]"
      ],
      "metadata": {
        "colab": {
          "base_uri": "https://localhost:8080/"
        },
        "id": "O44i3295olqs",
        "outputId": "046353f7-9906-45cb-8c29-25243222a5bf"
      },
      "execution_count": null,
      "outputs": [
        {
          "output_type": "execute_result",
          "data": {
            "text/plain": [
              "(1, 4)"
            ]
          },
          "metadata": {},
          "execution_count": 122
        }
      ]
    },
    {
      "cell_type": "markdown",
      "source": [
        "# Writting an instruction\n",
        "#LHS=RHS # RHS is getting assigned to LHS"
      ],
      "metadata": {
        "id": "QQ3FwoTarRLA"
      }
    },
    {
      "cell_type": "code",
      "source": [
        "temp=l[3] #temp contains as 4\n",
        "l[3]=l[1] # copying the element at index at index l[1] at the index 4\n",
        "l[1]=temp"
      ],
      "metadata": {
        "id": "SXww4IGFpnLt"
      },
      "execution_count": null,
      "outputs": []
    },
    {
      "cell_type": "code",
      "source": [
        "a=5\n",
        "b=3\n",
        "a=b #  b is assigned  to a --->a ,b =3\n",
        "b=a # a=3 is assigned to b ----> a,b =3"
      ],
      "metadata": {
        "id": "tFrbXjlRqTdk"
      },
      "execution_count": null,
      "outputs": []
    },
    {
      "cell_type": "code",
      "source": [
        "# Find the second smallest element\n",
        "l=[1,5,2,-6,4,7,8]\n",
        "ind=l.index(min(l)) #Stored the index of minimum element\n",
        "\n",
        "l[0],l[ind]=l[ind],l[0] # Swapped the minimum element with element at the 0th index\n",
        "l"
      ],
      "metadata": {
        "colab": {
          "base_uri": "https://localhost:8080/"
        },
        "id": "HJJpWqCSqSzC",
        "outputId": "f0b9ebaf-d11d-44e4-d80a-7ec562172b07"
      },
      "execution_count": null,
      "outputs": [
        {
          "output_type": "execute_result",
          "data": {
            "text/plain": [
              "[-6, 5, 2, 1, 4, 7, 8]"
            ]
          },
          "metadata": {},
          "execution_count": 136
        }
      ]
    },
    {
      "cell_type": "code",
      "source": [
        "min(l[1:]) # Second minimum element\n"
      ],
      "metadata": {
        "colab": {
          "base_uri": "https://localhost:8080/"
        },
        "id": "CgK8Tr7SqSg5",
        "outputId": "25487249-0f30-4fbf-f1a7-08c99e41b03f"
      },
      "execution_count": null,
      "outputs": [
        {
          "output_type": "execute_result",
          "data": {
            "text/plain": [
              "1"
            ]
          },
          "metadata": {},
          "execution_count": 137
        }
      ]
    },
    {
      "cell_type": "code",
      "source": [
        "l"
      ],
      "metadata": {
        "colab": {
          "base_uri": "https://localhost:8080/"
        },
        "id": "PuWRtemEqSWU",
        "outputId": "09156da7-7a74-4a9b-e862-817fe0bd263c"
      },
      "execution_count": null,
      "outputs": [
        {
          "output_type": "execute_result",
          "data": {
            "text/plain": [
              "[-6, 5, 2, 1, 4, 7, 8]"
            ]
          },
          "metadata": {},
          "execution_count": 138
        }
      ]
    },
    {
      "cell_type": "code",
      "source": [
        "# Control Structures\n",
        "\n",
        "# For loop\n",
        "\n",
        "list(range(5)) # Start from 0,...4"
      ],
      "metadata": {
        "colab": {
          "base_uri": "https://localhost:8080/"
        },
        "id": "SD891GMYxZ9e",
        "outputId": "9f4a759a-3bb9-4c40-d18e-854f17fdec81"
      },
      "execution_count": null,
      "outputs": [
        {
          "output_type": "execute_result",
          "data": {
            "text/plain": [
              "[0, 1, 2, 3, 4]"
            ]
          },
          "metadata": {},
          "execution_count": 139
        }
      ]
    },
    {
      "cell_type": "code",
      "source": [
        "list(range(1,5)) # range(start ,end ) # prints from start till [end-1]"
      ],
      "metadata": {
        "colab": {
          "base_uri": "https://localhost:8080/"
        },
        "id": "vbDZqsA5x-zB",
        "outputId": "5e0e7870-6d75-447b-dfb0-6f5685342250"
      },
      "execution_count": null,
      "outputs": [
        {
          "output_type": "execute_result",
          "data": {
            "text/plain": [
              "[1, 2, 3, 4]"
            ]
          },
          "metadata": {},
          "execution_count": 140
        }
      ]
    },
    {
      "cell_type": "code",
      "source": [
        "list(range(1,5,2)) # range (start,end,step)"
      ],
      "metadata": {
        "colab": {
          "base_uri": "https://localhost:8080/"
        },
        "id": "L45upn9myDs3",
        "outputId": "3e019af7-aa48-4f8f-c074-45d718b778a7"
      },
      "execution_count": null,
      "outputs": [
        {
          "output_type": "execute_result",
          "data": {
            "text/plain": [
              "[1, 3]"
            ]
          },
          "metadata": {},
          "execution_count": 141
        }
      ]
    },
    {
      "cell_type": "code",
      "source": [
        "range(star,end,step)\n"
      ],
      "metadata": {
        "id": "B8dMu3SgzJDv"
      },
      "execution_count": null,
      "outputs": []
    },
    {
      "cell_type": "code",
      "source": [
        "range(1,5,1) # 1,2,,,3,4 goes up to [end-1] # default value of step size is 1"
      ],
      "metadata": {
        "colab": {
          "base_uri": "https://localhost:8080/"
        },
        "id": "1mUE2IYk33QF",
        "outputId": "a0feec32-de78-483c-e705-30aa643f7672"
      },
      "execution_count": null,
      "outputs": [
        {
          "output_type": "execute_result",
          "data": {
            "text/plain": [
              "range(0, 5)"
            ]
          },
          "metadata": {},
          "execution_count": 142
        }
      ]
    },
    {
      "cell_type": "code",
      "source": [
        "list(range(9,7,-1))"
      ],
      "metadata": {
        "colab": {
          "base_uri": "https://localhost:8080/"
        },
        "id": "4v6qLe8q4l_f",
        "outputId": "7ba58234-a5fa-44cb-8181-4c4b2131ef94"
      },
      "execution_count": null,
      "outputs": [
        {
          "output_type": "execute_result",
          "data": {
            "text/plain": [
              "[9, 8]"
            ]
          },
          "metadata": {},
          "execution_count": 143
        }
      ]
    },
    {
      "cell_type": "code",
      "source": [
        "list(range(9,2,-2))"
      ],
      "metadata": {
        "colab": {
          "base_uri": "https://localhost:8080/"
        },
        "id": "F7cDt7oa8wbe",
        "outputId": "06990f5a-da65-47df-a609-58439871e5c1"
      },
      "execution_count": null,
      "outputs": [
        {
          "output_type": "execute_result",
          "data": {
            "text/plain": [
              "[9, 7, 5, 3]"
            ]
          },
          "metadata": {},
          "execution_count": 145
        }
      ]
    },
    {
      "cell_type": "code",
      "source": [
        "l=list(range(2,9,2))\n",
        "l"
      ],
      "metadata": {
        "colab": {
          "base_uri": "https://localhost:8080/"
        },
        "id": "ClB3RKx59F_D",
        "outputId": "9a9ab826-7b62-4069-be25-6592b754724f"
      },
      "execution_count": null,
      "outputs": [
        {
          "output_type": "execute_result",
          "data": {
            "text/plain": [
              "[2, 4, 6, 8]"
            ]
          },
          "metadata": {},
          "execution_count": 2
        }
      ]
    },
    {
      "cell_type": "code",
      "source": [
        "# For loop\n",
        "for i in range(2,9,2):# Directly accessing the elements here\n",
        "  print(i+1)\n",
        "l"
      ],
      "metadata": {
        "colab": {
          "base_uri": "https://localhost:8080/"
        },
        "id": "a2lt9fbE9YNk",
        "outputId": "4275c2f7-2a37-46c6-abed-143e8ce1dab4"
      },
      "execution_count": null,
      "outputs": [
        {
          "output_type": "stream",
          "name": "stdout",
          "text": [
            "3\n",
            "5\n",
            "7\n",
            "9\n"
          ]
        },
        {
          "output_type": "execute_result",
          "data": {
            "text/plain": [
              "[2, 4, 6, 8]"
            ]
          },
          "metadata": {},
          "execution_count": 4
        }
      ]
    },
    {
      "cell_type": "code",
      "source": [
        "l[len(l)-1]"
      ],
      "metadata": {
        "id": "iB67Wd3Ne9lM"
      },
      "execution_count": null,
      "outputs": []
    },
    {
      "cell_type": "code",
      "source": [
        "for i in range(len(l)): # indexs of elements of l\n",
        "  print(l[i])"
      ],
      "metadata": {
        "colab": {
          "base_uri": "https://localhost:8080/"
        },
        "id": "3guW3cAa615S",
        "outputId": "4820a3c5-f8cc-4054-8465-6b763d2c9d92"
      },
      "execution_count": null,
      "outputs": [
        {
          "output_type": "stream",
          "name": "stdout",
          "text": [
            "2\n",
            "4\n",
            "6\n",
            "8\n"
          ]
        }
      ]
    },
    {
      "cell_type": "code",
      "source": [
        "# Do it without the keywords\n",
        "# Sum of the elements\n",
        "# Find the minimum and the maximum\n",
        "# Find the avaerage\n",
        "# Find the Kth maximum\n",
        "# Print a pattern\n",
        "#Pattern -B\n",
        "*****\n",
        "****\n",
        "***\n",
        "**\n",
        "\n",
        "# Pattern -B\n",
        "*\n",
        "***\n",
        "*****\n",
        "*******\n"
      ],
      "metadata": {
        "id": "KGcbBHD5ejIR"
      },
      "execution_count": null,
      "outputs": []
    },
    {
      "cell_type": "code",
      "source": [
        "#  Sum of the elements\n",
        "list_1=[3,4,58,38,9,39,3,-5]\n",
        "sum=0\n",
        "\n",
        "for i in list_1:\n",
        "  sum+=i\n",
        "\n",
        "print(sum)\n",
        "\n",
        "# Find the avaerage\n",
        "\n",
        "avarage=sum/(len(list_1))\n",
        "\n",
        "print(avarage)\n"
      ],
      "metadata": {
        "colab": {
          "base_uri": "https://localhost:8080/"
        },
        "id": "G3UIDFPyfDm8",
        "outputId": "1e6a2b7e-9f76-4658-9feb-a562a089821c"
      },
      "execution_count": null,
      "outputs": [
        {
          "output_type": "stream",
          "name": "stdout",
          "text": [
            "149\n",
            "18.625\n"
          ]
        }
      ]
    },
    {
      "cell_type": "code",
      "source": [
        "# Find the minimum and maximum\n",
        "\n",
        "minimum=list_1[0]\n",
        "for i in list_1:\n",
        "  if i<minimum:\n",
        "    minimum=i\n",
        "\n",
        "print(minimum)\n",
        "\n",
        "maximum=list_1[0]\n",
        "for i in list_1:\n",
        "  if i>maximum:\n",
        "    maximum=i\n",
        "\n",
        "print(maximum)"
      ],
      "metadata": {
        "colab": {
          "base_uri": "https://localhost:8080/"
        },
        "id": "a1nd9iE5iL_H",
        "outputId": "1cc8fcfa-5c66-49cb-e29f-753fd04efad3"
      },
      "execution_count": null,
      "outputs": [
        {
          "output_type": "stream",
          "name": "stdout",
          "text": [
            "-5\n",
            "58\n"
          ]
        }
      ]
    },
    {
      "cell_type": "code",
      "source": [
        "list_1=[-1, 2, 3, 50,0, 43, 8, 9, 109,109]"
      ],
      "metadata": {
        "id": "Q263YU-bjR5n"
      },
      "execution_count": null,
      "outputs": []
    },
    {
      "cell_type": "code",
      "source": [
        "# Find the kth maximum\n",
        "kth=int(input(\"Enter maximum index\"))\n",
        "\n",
        "for i in range(len(list_1)):\n",
        "  for j in range(i,len(list_1)):\n",
        "    if list_1[i]<list_1[j]:\n",
        "      list_1[i],list_1[j]=list_1[j],list_1[i]\n",
        "\n",
        "print(list_1)\n",
        "print(list_1[kth-1])"
      ],
      "metadata": {
        "colab": {
          "base_uri": "https://localhost:8080/"
        },
        "id": "ARseOTV7jUFq",
        "outputId": "88bca2d2-ea1c-4f26-c2e2-5a96134e8c73"
      },
      "execution_count": null,
      "outputs": [
        {
          "output_type": "stream",
          "name": "stdout",
          "text": [
            "Enter maximum index2\n",
            "[109, 109, 50, 43, 9, 8, 3, 2, 0, -1]\n",
            "109\n"
          ]
        }
      ]
    },
    {
      "cell_type": "code",
      "source": [
        "for i in range(4,0,-1):\n",
        "  for j in range(i):\n",
        "    print(\"*\",end=\"\")\n",
        "  print()"
      ],
      "metadata": {
        "colab": {
          "base_uri": "https://localhost:8080/"
        },
        "id": "Y6Ahm3GRnQcH",
        "outputId": "8e737194-5ceb-41c0-d634-2f9652fe2b58"
      },
      "execution_count": null,
      "outputs": [
        {
          "output_type": "stream",
          "name": "stdout",
          "text": [
            "****\n",
            "***\n",
            "**\n",
            "*\n"
          ]
        }
      ]
    },
    {
      "cell_type": "code",
      "source": [
        "for i in range(1,8,2):\n",
        "  for j in range(i):\n",
        "    print(\"*\",end=\"\")\n",
        "  print()"
      ],
      "metadata": {
        "colab": {
          "base_uri": "https://localhost:8080/"
        },
        "id": "zD098HxttpXO",
        "outputId": "580459f3-b3a8-4e97-b4eb-9a3c8189c0fc"
      },
      "execution_count": null,
      "outputs": [
        {
          "output_type": "stream",
          "name": "stdout",
          "text": [
            "*\n",
            "***\n",
            "*****\n",
            "*******\n"
          ]
        }
      ]
    },
    {
      "cell_type": "markdown",
      "source": [
        "22-10-2023\n"
      ],
      "metadata": {
        "id": "jl-XnZWhyVQK"
      }
    },
    {
      "cell_type": "code",
      "source": [
        "# if-else\n",
        "# Which is the maximum out of a,b and c?\n",
        "a=10 #=->>> Assignment operator, It assigns the RHS value to LHS\n",
        "b=5\n",
        "c=3\n",
        "if(a>b)and(a>c): # and ---> Both conditions should be sstsified\n",
        "  print(\"a is the maximum\")\n",
        "elif(b>c)and(b>c):                 # == operator compares whether the LHS and RHS are equal or not\n",
        "  print('b is the maximum')\n",
        "else:\n",
        "  print(\"c is the maximum\")"
      ],
      "metadata": {
        "colab": {
          "base_uri": "https://localhost:8080/"
        },
        "id": "3utVWnv8uqSp",
        "outputId": "28a32d7b-99d7-4892-dc8b-9fafca106084"
      },
      "execution_count": null,
      "outputs": [
        {
          "output_type": "stream",
          "name": "stdout",
          "text": [
            "a is the maximum\n"
          ]
        }
      ]
    },
    {
      "cell_type": "code",
      "source": [
        "a==b"
      ],
      "metadata": {
        "colab": {
          "base_uri": "https://localhost:8080/"
        },
        "id": "LIRgza9Kyeb-",
        "outputId": "7835eef7-177e-448e-d264-ccb259b7f688"
      },
      "execution_count": null,
      "outputs": [
        {
          "output_type": "execute_result",
          "data": {
            "text/plain": [
              "False"
            ]
          },
          "metadata": {},
          "execution_count": 49
        }
      ]
    },
    {
      "cell_type": "code",
      "source": [
        "a>b"
      ],
      "metadata": {
        "colab": {
          "base_uri": "https://localhost:8080/"
        },
        "id": "Rw1zKnTGzAlu",
        "outputId": "93b96859-c15b-4a99-c06d-4fb220788ad6"
      },
      "execution_count": null,
      "outputs": [
        {
          "output_type": "execute_result",
          "data": {
            "text/plain": [
              "True"
            ]
          },
          "metadata": {},
          "execution_count": 50
        }
      ]
    },
    {
      "cell_type": "code",
      "source": [
        "type(a>b)\n",
        "# boolean ---> True/False"
      ],
      "metadata": {
        "colab": {
          "base_uri": "https://localhost:8080/"
        },
        "id": "CCJMeUoBzDxF",
        "outputId": "c87d6433-ac43-4f77-a809-b80320fe5dac"
      },
      "execution_count": null,
      "outputs": [
        {
          "output_type": "execute_result",
          "data": {
            "text/plain": [
              "bool"
            ]
          },
          "metadata": {},
          "execution_count": 51
        }
      ]
    },
    {
      "cell_type": "code",
      "source": [
        "# and--->> Must sastify all the conditions\n",
        "# Condition 1 and condition 2 and condition3...\n",
        "\n",
        "#or --->> Any condition is met,the clause executes\n",
        "#condtion 1 or condtion2 or condition3....."
      ],
      "metadata": {
        "id": "xEDaKg9kz4HR"
      },
      "execution_count": null,
      "outputs": []
    },
    {
      "cell_type": "code",
      "source": [
        "# How to find the maximum /minimum element and its index/location?\n",
        "l=[1,2,-5,6,8,9]\n",
        "current_max=l[0] # Let's assume the first element is the maximum\n",
        "ind=0 # initial location of the maximum element is 0\n",
        "\n",
        "for i in range(1,len(l)):\n",
        "  if current_max<l[i]: # Reverse the sign for finding the minimum element\n",
        "    current_max=l[i]\n",
        "    ind=i\n",
        "print('The largest element is:',current_max,'and it is present at the index:',ind)"
      ],
      "metadata": {
        "colab": {
          "base_uri": "https://localhost:8080/"
        },
        "id": "QOazo68i0TB3",
        "outputId": "12c31db4-1b1f-466b-f13e-d0e6eb0e69eb"
      },
      "execution_count": null,
      "outputs": [
        {
          "output_type": "stream",
          "name": "stdout",
          "text": [
            "The largest element is: 9 and it is present at the index: 5\n"
          ]
        }
      ]
    },
    {
      "cell_type": "code",
      "source": [
        "# How to find the minimum element\n",
        "current_min=l[0] # Let's assume the first element is the minimum\n",
        "ind1=0 #initial location of the minimum element is 0\n",
        "\n",
        "for i in range(1,len(l)):\n",
        "  if current_min>l[i]:\n",
        "    current_min=l[i]\n",
        "    ind1=i\n",
        "print('The  argest element is:',current_min,'and it is present at the indeX:',ind1)"
      ],
      "metadata": {
        "colab": {
          "base_uri": "https://localhost:8080/"
        },
        "id": "tNkGFSEVIaJo",
        "outputId": "7ec10189-ed5e-4551-c3d1-2728f6140eca"
      },
      "execution_count": null,
      "outputs": [
        {
          "output_type": "stream",
          "name": "stdout",
          "text": [
            "The  argest element is: -5 and it is present at the indeX: 2\n"
          ]
        }
      ]
    },
    {
      "cell_type": "code",
      "source": [
        "l=[1,2,3,4,] #homogeneuos\n",
        "type(l[0])\n",
        "type(l[2])"
      ],
      "metadata": {
        "colab": {
          "base_uri": "https://localhost:8080/"
        },
        "id": "oltmyhshKuDQ",
        "outputId": "6a4018b1-ecf1-44e2-9a8a-5864467b3ad0"
      },
      "execution_count": null,
      "outputs": [
        {
          "output_type": "execute_result",
          "data": {
            "text/plain": [
              "int"
            ]
          },
          "metadata": {},
          "execution_count": 57
        }
      ]
    },
    {
      "cell_type": "code",
      "source": [
        "l=[1,2,3,4,[1,2,3]] # hetrogenouos\n",
        "type(l[-1])"
      ],
      "metadata": {
        "colab": {
          "base_uri": "https://localhost:8080/"
        },
        "id": "W87T91OCLGnI",
        "outputId": "ae07a87d-8993-4645-f042-d8bf65e0a868"
      },
      "execution_count": null,
      "outputs": [
        {
          "output_type": "execute_result",
          "data": {
            "text/plain": [
              "list"
            ]
          },
          "metadata": {},
          "execution_count": 58
        }
      ]
    },
    {
      "cell_type": "code",
      "source": [
        "sum(l)"
      ],
      "metadata": {
        "colab": {
          "base_uri": "https://localhost:8080/",
          "height": 176
        },
        "id": "yT446CHMLaF3",
        "outputId": "3d31d060-0c90-4baa-b738-9786a3206765"
      },
      "execution_count": null,
      "outputs": [
        {
          "output_type": "error",
          "ename": "TypeError",
          "evalue": "ignored",
          "traceback": [
            "\u001b[0;31m---------------------------------------------------------------------------\u001b[0m",
            "\u001b[0;31mTypeError\u001b[0m                                 Traceback (most recent call last)",
            "\u001b[0;32m<ipython-input-59-b957b889506a>\u001b[0m in \u001b[0;36m<cell line: 1>\u001b[0;34m()\u001b[0m\n\u001b[0;32m----> 1\u001b[0;31m \u001b[0msum\u001b[0m\u001b[0;34m(\u001b[0m\u001b[0ml\u001b[0m\u001b[0;34m)\u001b[0m\u001b[0;34m\u001b[0m\u001b[0;34m\u001b[0m\u001b[0m\n\u001b[0m",
            "\u001b[0;31mTypeError\u001b[0m: 'int' object is not callable"
          ]
        }
      ]
    },
    {
      "cell_type": "code",
      "source": [
        "l2=l.append('s') # It adds the element 's' to the  list"
      ],
      "metadata": {
        "id": "djFQx6miLdeG"
      },
      "execution_count": null,
      "outputs": []
    },
    {
      "cell_type": "code",
      "source": [
        "l"
      ],
      "metadata": {
        "colab": {
          "base_uri": "https://localhost:8080/"
        },
        "id": "N9z72QY8L4rj",
        "outputId": "abce9935-51e8-45be-ac35-90557ba150ab"
      },
      "execution_count": null,
      "outputs": [
        {
          "output_type": "execute_result",
          "data": {
            "text/plain": [
              "[1, 2, 3, 4, [1, 2, 3], 's', 's']"
            ]
          },
          "metadata": {},
          "execution_count": 62
        }
      ]
    },
    {
      "cell_type": "code",
      "source": [
        "# Find the total number of ood and even elements in a list of integers.\n",
        "\n"
      ],
      "metadata": {
        "id": "BSU690dkCYvN"
      },
      "execution_count": null,
      "outputs": []
    },
    {
      "cell_type": "code",
      "source": [
        "l=[1,4,6,7,2,9,3,5]\n",
        "# Stock Prices\n",
        "# Day 0 ---> Stock Price =1\n",
        "# Day 1 ---> Stock Price =4\n",
        "\n",
        "# Program 1:You are allowed to buy the stock first and then you are allowed to sell it\n",
        "# How to obtain the maximum profit if you allowed to buy-sell only once?\n",
        "# Program 2:Print the indexes/days where you are buying and selling\n",
        "# You are allowed to buy-sell as many times. Find the maximum profit.\n",
        "\n",
        "# Don't  forget to handle the corner cases.\n",
        "import matplotlib.pyplot as plt\n",
        "plt.plot(range(len(l)),l)\n",
        "plt.scatter(range(len(l)),l)\n",
        "plt.xlabel(\"Day\")\n",
        "plt.ylabel(\"Stock Value\")\n",
        "plt.show()"
      ],
      "metadata": {
        "colab": {
          "base_uri": "https://localhost:8080/",
          "height": 449
        },
        "id": "GJAJOLQeMDMb",
        "outputId": "27a09397-98a9-44d0-d00e-f31fc0b07751"
      },
      "execution_count": 5,
      "outputs": [
        {
          "output_type": "display_data",
          "data": {
            "text/plain": [
              "<Figure size 640x480 with 1 Axes>"
            ],
            "image/png": "[encoded data removed]"
          },
          "metadata": {}
        }
      ]
    },
    {
      "cell_type": "code",
      "source": [
        "# Take home exercise\n",
        "\n",
        "\n",
        "# You are given the length of the towers in the list.\n",
        "# Tower-0 ---->Height  =0\n",
        "# Tower-1 ---->Height  =4\n",
        "#.....\n",
        "# You can assume that the distance between two consecutive towers is 1 unit. Assume the width of each tower =1\n",
        "# Assume that it is raining figure out how much total rain water would be trapped?\n",
        "\n",
        "l=[1,4,6]\n",
        "\n",
        "\n",
        "\n",
        "\n",
        "import matplotlib.pyplot as plt\n",
        "plt.bar(range(len(l)),l)\n",
        "plt.xlabel('Height of the Tower')\n",
        "plt.ylabel('Tower Number')\n",
        "plt.show()\n",
        "\n",
        "\n",
        "l=[6,5,4]\n",
        "\n",
        "\n",
        "\n",
        "\n",
        "import matplotlib.pyplot as plt\n",
        "plt.bar(range(len(l)),l)\n",
        "plt.xlabel('Height of the Tower')\n",
        "plt.ylabel('Tower Number')\n",
        "plt.show()\n",
        "\n",
        "l=[6,5,7]\n",
        "\n",
        "\n",
        "\n",
        "\n",
        "import matplotlib.pyplot as plt\n",
        "plt.bar(range(len(l)),l)\n",
        "plt.xlabel('Height of the Tower')\n",
        "plt.ylabel('Tower Number')\n",
        "plt.show()\n",
        "\n",
        "\n",
        "l=[7,5,6]\n",
        "\n",
        "\n",
        "\n",
        "\n",
        "import matplotlib.pyplot as plt\n",
        "plt.bar(range(len(l)),l)\n",
        "plt.xlabel('Height of the Tower')\n",
        "plt.ylabel('Tower Number')\n",
        "plt.show()"
      ],
      "metadata": {
        "colab": {
          "base_uri": "https://localhost:8080/",
          "height": 1000
        },
        "id": "45JfwyEc6Tr3",
        "outputId": "e75b8f6f-eab4-460e-92c0-59754c24899c"
      },
      "execution_count": 4,
      "outputs": [
        {
          "output_type": "display_data",
          "data": {
            "text/plain": [
              "<Figure size 640x480 with 1 Axes>"
            ],
            "image/png": "[encoded data removed]"
          },
          "metadata": {}
        },
        {
          "output_type": "display_data",
          "data": {
            "text/plain": [
              "<Figure size 640x480 with 1 Axes>"
            ],
            "image/png": "[encoded data removed]"
          },
          "metadata": {}
        },
        {
          "output_type": "display_data",
          "data": {
            "text/plain": [
              "<Figure size 640x480 with 1 Axes>"
            ],
            "image/png": "[encoded data removed]"
          },
          "metadata": {}
        },
        {
          "output_type": "display_data",
          "data": {
            "text/plain": [
              "<Figure size 640x480 with 1 Axes>"
            ],
            "image/png": "[encoded data removed]"
          },
          "metadata": {}
        }
      ]
    },
    {
      "cell_type": "code",
      "source": [
        "l=[1,8,7,2,4,9,]\n",
        "#l=[1,8,9,4,2,7,]\n",
        "\n",
        "import matplotlib.pyplot as plt\n",
        "plt.bar(range(len(l)),l)\n",
        "plt.xlabel('Height of the Tower')\n",
        "plt.ylabel('Tower Number')\n",
        "plt.show()"
      ],
      "metadata": {
        "colab": {
          "base_uri": "https://localhost:8080/",
          "height": 449
        },
        "id": "5_-1Cg6QIyte",
        "outputId": "87ae372a-2191-4105-acc2-68d4c5136e59"
      },
      "execution_count": 15,
      "outputs": [
        {
          "output_type": "display_data",
          "data": {
            "text/plain": [
              "<Figure size 640x480 with 1 Axes>"
            ],
            "image/png": "[encoded data removed]"
          },
          "metadata": {}
        }
      ]
    },
    {
      "cell_type": "code",
      "source": [
        "#l=[1,4,6,7,2,9,3,5]\n",
        "#l=[1,8,9,4,2,7,]\n",
        "l=[1,8,7,2,4,9,]\n",
        "\n",
        "t_w=0\n",
        "n=len(l)\n",
        "h_m=l.index(max(l))\n",
        "\n",
        "\n",
        "for j in range(1,n-1):\n",
        "    for i in range(j-1,j):\n",
        "        s_m=l.index(max([x for x in l[i:] if x !=max(l)]))\n",
        "    for k in range(j+1,j+2):\n",
        "        if l[i]<=l[j] and l[j]<=l[k] and l[i]<=l[k]:\n",
        "            t_w+=l[i]\n",
        "        elif l[i]>=l[j] and l[j]>=l[k] and l[i]>=l[k] and (l[h_m]<l[k] or l[s_m]<l[k]):\n",
        "            t_w+=l[j]\n",
        "        elif l[i]<l[j] and l[j]>l[k] and l[k]<l[i]:\n",
        "            t_w+=l[i]\n",
        "        elif l[i]>l[j] and l[j]<l[k] and (l[h_m]<l[i] or l[s_m]<l[i]):\n",
        "            if l[k]>l[i]:\n",
        "                t_w+=(3*l[i])-l[j]\n",
        "            elif l[k]<l[i]:\n",
        "                t_w+=(3*l[k])-l[j]\n",
        "        elif l[k]<l[j] and h_m<s_m:\n",
        "            t_w+=(l[s_m]*((len(l))-(h_m-1)))-(sum(l[(h_m+1):s_m]))\n",
        "        elif l[k]>l[j] and h_m>s_m:\n",
        "            t_w+=(l[s_m]*((len(l))-(s_m-1)))-(sum(l[(s_m+1):h_m]))"
      ],
      "metadata": {
        "id": "Brt-YvJVLAkN"
      },
      "execution_count": null,
      "outputs": []
    }
  ]
}